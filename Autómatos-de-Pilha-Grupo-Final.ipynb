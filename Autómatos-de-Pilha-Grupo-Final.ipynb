{
 "cells": [
  {
   "cell_type": "markdown",
   "metadata": {},
   "source": [
    "# Trabalho de grupo\n",
    "##### Elementos do grupo:\n",
    "- Guilherme Sousa Silva Martins, A92847\n",
    "- Maria Miguel de Oliveira Soares, A92826\n",
    "\n",
    "##### Mestrado Integrado em Engenharia Física - 1º Ano - 2º Semestre;      Universidade do Minho        ;         2020\n",
    "### - Unidade Curricular: Dados e Computação (DC);                         Professor: Jorge Sousa Pinto\n",
    "\n",
    "##### Bibliografia: 'Automata and Computability: A Programmer's Perspective', por Ganesh Gopalakrishnan\n",
    "\n",
    "ESPAÇO DEDICADO à Importação de funções do JOVE:"
   ]
  },
  {
   "cell_type": "code",
   "execution_count": 2,
   "metadata": {},
   "outputs": [
    {
     "name": "stdout",
     "output_type": "stream",
     "text": [
      "You may use any of these help commands:\n",
      "help(ResetStNum)\n",
      "help(NxtStateStr)\n",
      "\n"
     ]
    }
   ],
   "source": [
    "import sys\n",
    "sys.path[0:0] = ['../','../3rdparty'] # Put these at the head of the search path\n",
    "\n",
    "from jove.SystemImports       import *\n",
    "from jove.DotBashers          import *\n",
    "from jove.TransitionSelectors import *\n",
    "\n",
    "import os\n",
    "os.environ[\"PATH\"] += os.pathsep + 'C:/Program Files (x86)/Graphviz2.38/bin/'"
   ]
  },
  {
   "cell_type": "markdown",
   "metadata": {},
   "source": [
    "Os conjuntos de funções importados anteriormente pretencem ao JOVE e serão bastante úteis para a construção de autómatos.\n",
    "\n",
    "# Autómatos de Pilha (PDA)\n",
    "\n",
    "A categoria dos autómatos que nos iremos debruçar são os autómatos de pilha (PDA). Os autómatos de pilha, ou pushdown automata, generalizam a noção de autómatos não-determinísticos com a particularidade de lhes ser acrescentada uma estrutura de dados, uma **pilha de símbolos**. \n",
    "\n",
    "Uma pilha (stack) é essencialmente uma lista em que o acesso só é possível à cabeça. A operação de inserção chama-se *push*, e a de remoção chama-se *pop*.\n",
    "\n",
    "\n",
    "Assim, um autómato de pilha é um tuplo $(Q, \\Sigma, \\Gamma, \\delta, q_0,F)$ em que:\n",
    "\n",
    "* $Q$ é o conjunto de estados;\n",
    "* $\\Sigma$ é o alfabeto de símbolos lidos pelo autómato;\n",
    "* $\\Gamma$ é o alfabeto dos símbolos inseridos na pilha;\n",
    "* $\\delta : Q \\times \\Sigma_\\varepsilon \\times \\Gamma \\to \\mathcal{P}(Q\\times \\Gamma^*)$ é a função de transição \n",
    "* $q_0 \\in Q$ é o estado inicial;\n",
    "* $z_0$ é um campo especial e específico para guardar o elemento cardinal $#$, bastante útil futuramente para o  desenho de algoritmos de PDA;\n",
    "* $F \\subseteq Q$ é o conjunto de estados finais.\n",
    "\n",
    "    ___NOTA___: em contraste com os autómatos estudados nos notebooks anteriores, o domínio da função de trasição $\\delta$ deixa de conter duplos para ter triplos, sendo:\n",
    "    * o 1º elemento do triplo um estado de $Q$;\n",
    "    * o 2º elemento o símbolo da palavra que queremos ler;\n",
    "    * e o último o símbolo que vai ser lido em cada transição efetuda no autómato e que se encontra no topo da pilha. \n",
    "\n",
    "   Em relação ao co-domínio da função referida, este passa a conter duplos, sendo:\n",
    "    * o 1º elemento o estado (pertencente a $Q$) resultante da leitura do símbolo inicalmente no triplo;\n",
    "    * e o 2º elemento os novos símbolos que vão ser adicionados na topo da pilha, em detrimento do que estava inicalmente no topo."
   ]
  },
  {
   "cell_type": "markdown",
   "metadata": {},
   "source": [
    "## Construção de Autómatos de Pilha (PDA)"
   ]
  },
  {
   "cell_type": "markdown",
   "metadata": {},
   "source": [
    "À semelhança do que se sucedeu com os DFA e os NFA, o Jove também nos perimitirá uma representação de um PDA, onde também terá como estrutrura base os dicionários. \n",
    "\n",
    "De seguida, mostrámos um exemplo de um autómato de pilha:"
   ]
  },
  {
   "cell_type": "code",
   "execution_count": 3,
   "metadata": {},
   "outputs": [],
   "source": [
    "PDA_bkts = { \n",
    "           'Q'     : {'IF', 'A'},\n",
    "           'Sigma' : {'(',')'},\n",
    "           'Gamma' : {'(',')','#'},\n",
    "           'Delta' : { ('IF','(','#') : { ('A','(#') },   # push #; push (\n",
    "                       ('A','(','(')  : { ('A','((') },   # push (; push (\n",
    "                       ('A',')','(')  : { ('A','') },     # push Nothing\n",
    "                       ('A','','#')   : { ('IF','#') }    # push #\n",
    "                     },\n",
    "           'q0'    : 'IF',\n",
    "           'z0'    : '#',\n",
    "           'F'     : {'IF'}\n",
    "         }\n"
   ]
  },
  {
   "cell_type": "markdown",
   "metadata": {},
   "source": [
    "Analisando cada campo é importante verificar que: \n",
    "* o campos Q, Sigma, Gamma e F são conjuntos;\n",
    "* o campo Delta, é um outro dicionário, sendo esta a estrutura adequada para a representação de funções. As chaves deste dicionário são trios (estado, símbolo de Sigma, simbolo de Gamma ), e os valores são um par (estado, símbolos da stack)\n",
    "* o campo q0 e z0 é um estado.\n",
    "\n",
    "\n",
    "Para a visualização dos autómatos é utilizada a função `dotObj_pda`, como se ilustra, de seguida, para a representação do  autómato anteriormente descrito. "
   ]
  },
  {
   "cell_type": "code",
   "execution_count": 4,
   "metadata": {},
   "outputs": [
    {
     "data": {
      "image/svg+xml": [
       "<?xml version=\"1.0\" encoding=\"UTF-8\" standalone=\"no\"?>\r\n",
       "<!DOCTYPE svg PUBLIC \"-//W3C//DTD SVG 1.1//EN\"\r\n",
       " \"http://www.w3.org/Graphics/SVG/1.1/DTD/svg11.dtd\">\r\n",
       "<!-- Generated by graphviz version 2.38.0 (20140413.2041)\r\n",
       " -->\r\n",
       "<!-- Title: %3 Pages: 1 -->\r\n",
       "<svg width=\"260pt\" height=\"115pt\"\r\n",
       " viewBox=\"0.00 0.00 260.20 114.85\" xmlns=\"http://www.w3.org/2000/svg\" xmlns:xlink=\"http://www.w3.org/1999/xlink\">\r\n",
       "<g id=\"graph0\" class=\"graph\" transform=\"scale(1 1) rotate(0) translate(4 110.848)\">\r\n",
       "<title>%3</title>\r\n",
       "<polygon fill=\"white\" stroke=\"none\" points=\"-4,4 -4,-110.848 256.197,-110.848 256.197,4 -4,4\"/>\r\n",
       "<!-- EMPTY -->\r\n",
       "<g id=\"node1\" class=\"node\"><title>EMPTY</title>\r\n",
       "</g>\r\n",
       "<!-- IF -->\r\n",
       "<g id=\"node3\" class=\"node\"><title>IF</title>\r\n",
       "<ellipse fill=\"none\" stroke=\"black\" cx=\"113.848\" cy=\"-22.8483\" rx=\"18.724\" ry=\"18.724\"/>\r\n",
       "<ellipse fill=\"none\" stroke=\"black\" cx=\"113.848\" cy=\"-22.8483\" rx=\"22.6977\" ry=\"22.6977\"/>\r\n",
       "<text text-anchor=\"middle\" x=\"113.848\" y=\"-19.1483\" font-family=\"Times New Roman,serif\" font-size=\"14.00\">IF</text>\r\n",
       "</g>\r\n",
       "<!-- EMPTY&#45;&gt;IF -->\r\n",
       "<g id=\"edge1\" class=\"edge\"><title>EMPTY&#45;&gt;IF</title>\r\n",
       "<path fill=\"none\" stroke=\"black\" d=\"M54.3814,-22.8483C62.6819,-22.8483 71.9432,-22.8483 80.6031,-22.8483\"/>\r\n",
       "<polygon fill=\"black\" stroke=\"black\" points=\"80.7631,-26.3484 90.7631,-22.8483 80.7631,-19.3484 80.7631,-26.3484\"/>\r\n",
       "</g>\r\n",
       "<!-- A -->\r\n",
       "<g id=\"node2\" class=\"node\"><title>A</title>\r\n",
       "<ellipse fill=\"none\" stroke=\"black\" cx=\"233.697\" cy=\"-22.8483\" rx=\"18\" ry=\"18\"/>\r\n",
       "<text text-anchor=\"middle\" x=\"233.697\" y=\"-19.1483\" font-family=\"Times New Roman,serif\" font-size=\"14.00\">A</text>\r\n",
       "</g>\r\n",
       "<!-- A&#45;&gt;A -->\r\n",
       "<g id=\"edge3\" class=\"edge\"><title>A&#45;&gt;A</title>\r\n",
       "<path fill=\"none\" stroke=\"black\" d=\"M228.698,-40.2582C227.765,-49.9362 229.431,-58.8483 233.697,-58.8483 236.363,-58.8483 238.013,-55.367 238.649,-50.3933\"/>\r\n",
       "<polygon fill=\"black\" stroke=\"black\" points=\"242.149,-50.2743 238.695,-40.2582 235.149,-50.2419 242.149,-50.2743\"/>\r\n",
       "<text text-anchor=\"middle\" x=\"233.697\" y=\"-62.6483\" font-family=\"Times New Roman,serif\" font-size=\"14.00\">(, ( ; ((</text>\r\n",
       "</g>\r\n",
       "<!-- A&#45;&gt;A -->\r\n",
       "<g id=\"edge4\" class=\"edge\"><title>A&#45;&gt;A</title>\r\n",
       "<path fill=\"none\" stroke=\"black\" d=\"M225.74,-39.1566C220.599,-56.8087 223.251,-76.8483 233.697,-76.8483 242.183,-76.8483 245.526,-63.6191 243.723,-49.1899\"/>\r\n",
       "<polygon fill=\"black\" stroke=\"black\" points=\"247.101,-48.2432 241.653,-39.1566 240.246,-49.6576 247.101,-48.2432\"/>\r\n",
       "<text text-anchor=\"middle\" x=\"233.697\" y=\"-80.6483\" font-family=\"Times New Roman,serif\" font-size=\"14.00\">), ( ; &#39;&#39;</text>\r\n",
       "</g>\r\n",
       "<!-- A&#45;&gt;IF -->\r\n",
       "<g id=\"edge5\" class=\"edge\"><title>A&#45;&gt;IF</title>\r\n",
       "<path fill=\"none\" stroke=\"black\" d=\"M218.385,-12.9826C212.294,-9.35485 204.934,-5.68611 197.697,-3.84833 179.173,0.85523 173.337,0.368173 154.697,-3.84833 150.964,-4.69276 147.171,-5.93073 143.483,-7.37657\"/>\r\n",
       "<polygon fill=\"black\" stroke=\"black\" points=\"141.795,-4.29712 134.083,-11.5618 144.642,-10.692 141.795,-4.29712\"/>\r\n",
       "<text text-anchor=\"middle\" x=\"176.197\" y=\"-7.64833\" font-family=\"Times New Roman,serif\" font-size=\"14.00\">&#39;&#39;, # ; #</text>\r\n",
       "</g>\r\n",
       "<!-- IF&#45;&gt;A -->\r\n",
       "<g id=\"edge2\" class=\"edge\"><title>IF&#45;&gt;A</title>\r\n",
       "<path fill=\"none\" stroke=\"black\" d=\"M136.739,-22.8483C156.124,-22.8483 184.504,-22.8483 205.373,-22.8483\"/>\r\n",
       "<polygon fill=\"black\" stroke=\"black\" points=\"205.514,-26.3484 215.514,-22.8483 205.514,-19.3484 205.514,-26.3484\"/>\r\n",
       "<text text-anchor=\"middle\" x=\"176.197\" y=\"-26.6483\" font-family=\"Times New Roman,serif\" font-size=\"14.00\">(, # ; (#</text>\r\n",
       "</g>\r\n",
       "</g>\r\n",
       "</svg>\r\n"
      ],
      "text/plain": [
       "<graphviz.dot.Digraph at 0x2e6755ccf08>"
      ]
     },
     "execution_count": 4,
     "metadata": {},
     "output_type": "execute_result"
    }
   ],
   "source": [
    "dotObj_pda(PDA_bkts)"
   ]
  },
  {
   "cell_type": "markdown",
   "metadata": {},
   "source": [
    "### Coerência dos PDA"
   ]
  },
  {
   "cell_type": "markdown",
   "metadata": {},
   "source": [
    "Podemos verificar a consistência de um PDA atráves da função `chk_consistent_pda` (pertencnete à biblioteca do JOVE)."
   ]
  },
  {
   "cell_type": "markdown",
   "metadata": {},
   "source": [
    "\n",
    "Por estarmos a trabalhar com uma estrutura nativa do Python, os dicionários, será importante criar uma definição que testa a coerência dos PDA, a fim de estes estarem de acordo com a definição anteriormente descrita.\n",
    "\n",
    "Assim, a `chk_consistent_pda_DC` terá de garantir os seguintes pontos:\n",
    "* **Conjunto de estados**\n",
    "    \n",
    "    No que diz respeito ao conjunto de estados do autómato $Q$ precisámos de garantir que não se trata de um conjunto vazio.\n",
    "    \n",
    "    \n",
    "* **Alfabeto Sigma**\n",
    "    \n",
    "    Relativamente ao alfabeto que contém os símbolos lidos pelo autómato, precisámos de garantir que este não é um conjunto vazio. Para além disso, o conjunto de símbolos tem de ser um sub-conjunto em relação ao alfabeto Gamma. \n",
    "    \n",
    "\n",
    "* **Alfabeto Gamma**\n",
    "    \n",
    "    O alfabeto Gamma ao tratar-se do conjunto de símbolos que podem ser inseridos na pilha, para verificar a coerência do autómato, temos de garantir que não se trata de um conjunto vazio. \n",
    "\n",
    "\n",
    "* **Função de transição**\n",
    "    \n",
    "    É importante para perceber o funcionamento dos PDA perceber como se processa a função de transição:\n",
    "    \n",
    "    * $\\delta : Q \\times \\Sigma_\\varepsilon \\times \\Gamma \\to \\mathcal{P}(Q\\times \\Gamma^*)$ \n",
    "        \n",
    "        Assim, temos vários pontos que temos de testar ao nível da coerência destes autómatos:\n",
    "        1. O domínio da função de transição tem de resultar do produto cartesiano entre o conjunto de estados $Q$, o alfabeto Sigma e incluíndo a palavra vazia $\\Sigma_\\varepsilon $ e o alfabeto Gamma $\\Gamma $, constítuindo assim um triplo. \n",
    "        2. Relativamente ao co-domínio desta função temos de garantir que esta resulte num par (estado, símbolo da stack). \n",
    "       Para tal criámos a função `termina_Q_Z_Kleen`que testará então este segundo ponto. Ou seja, por um lado, vai à segunda coordenada do par e verificar se existe algum símbolo lá presente que não pertença ao alfabeto Gamma, pois neste caso, terá de retornar logo False. Por outro lado, em relação à primeira coordenada vai verificar se existe algum caso em que não corresponda a um estado do autómato, onde nesse caso, irá retornar False.  \n",
    "       \n",
    "\n",
    "* **Estado Inicial** \n",
    "    \n",
    "    Relativamente, ao estado inicial precisámos apenas de garantir que este pertence ao conjunto de estados $Q$.\n",
    "    \n",
    "    \n",
    "* **Conjunto de estados finais**\n",
    "    \n",
    "    No que diz respeito, ao conjunto de estados finais precisámos de garantir que é um sub-conjunto do conjunto de estados iniciais.\n",
    "    \n",
    "    \n",
    "* **Símbolo Inicial da Stack**\n",
    "\n",
    "    Relativamente a z0, precisámos de garantir que pertence ao alfabeto Gamma e que não é a palavra vazia, dado que a definição de transição obriga a que seja sempre popped (retirado) um símbolo da pilha, e como tal não haverá transições quando a pilha está vazia. \n",
    "    \n",
    "    \n",
    "Assim, se se verificar as condições, anteriormente, descritas a função retornar _True_ e caso contrário _False_, indicando não se verificar a coerência do autómato.\n",
    "\n",
    "De seguida, então apresentámos a exemplificação da função anteriormente descrita."
   ]
  },
  {
   "cell_type": "code",
   "execution_count": 5,
   "metadata": {},
   "outputs": [],
   "source": [
    "def termina_Q_Z_Kleen (D):\n",
    "    \n",
    "    Range = fn_range (D[\"Delta\"])\n",
    "    Q = D[\"Q\"]\n",
    "    for i in Range:\n",
    "        #print(i)\n",
    "        for n in i:\n",
    "            #print(n)\n",
    "            for e in list (n [1]):\n",
    "                #print(e)\n",
    "                    if e not in (D[\"Gamma\"]):\n",
    "                          return False\n",
    "                        \n",
    "        for (a,b) in i:\n",
    "            #print (a)\n",
    "            if a not in Q:\n",
    "                return False\n",
    "            \n",
    "    return True  "
   ]
  },
  {
   "cell_type": "code",
   "execution_count": 6,
   "metadata": {},
   "outputs": [
    {
     "name": "stdout",
     "output_type": "stream",
     "text": [
      "True\n"
     ]
    }
   ],
   "source": [
    "print (termina_Q_Z_Kleen (PDA_bkts))"
   ]
  },
  {
   "cell_type": "code",
   "execution_count": 7,
   "metadata": {},
   "outputs": [],
   "source": [
    "def chk_consistent_pda_DC (D):\n",
    "\n",
    "    Q     = D[\"Q\"]\n",
    "    Sigma = D[\"Sigma\"]\n",
    "    Gamma = D[\"Gamma\"]\n",
    "    Delta = D[\"Delta\"]\n",
    "    Q0    = D[\"q0\"]\n",
    "    z0    = D[\"z0\"]\n",
    "    F     = D[\"F\"]\n",
    "    \n",
    "    dom_Delta = set (fn_dom (Delta))\n",
    "    Sigma_E = (Sigma | set ({ \"\"}))\n",
    "    \n",
    "    \n",
    "    return ( Q != {} and \n",
    "             Sigma != {} and\n",
    "             Gamma != {} and\n",
    "             dom_Delta <= set (product (Q, Sigma_E, Gamma)) and\n",
    "             Sigma < Gamma and\n",
    "             z0 in Gamma and\n",
    "             z0 not in Sigma and\n",
    "             \"\" not in Gamma and\n",
    "            termina_Q_Z_Kleen (D)== True and \n",
    "             Q0 in Q and \n",
    "             F <= Q)    "
   ]
  },
  {
   "cell_type": "code",
   "execution_count": 8,
   "metadata": {},
   "outputs": [
    {
     "name": "stdout",
     "output_type": "stream",
     "text": [
      "True\n"
     ]
    }
   ],
   "source": [
    "print (chk_consistent_pda_DC (PDA_bkts))"
   ]
  },
  {
   "cell_type": "markdown",
   "metadata": {},
   "source": [
    "### NOTA sobre Totalização dos PDA\n",
    "\n",
    "Ao trabalharmos com PDA's assumiremos que as representações não são necessariamente totais, e não definiremos uma função de totalização, uma vez que esse procedimento potencialmente geraria autómatos de tamanho muito superior ao original, tendo em conta que a função de transição recebe agora, além de um estado e um símbolo da palavra, também um símbolo da _stack_ , e a totalização teria de considerar todas as combinações de símbolos em ambas as estruturas. Por exemplo no autómato `PDA_bkts`, em vez de 4 pontos no domínio de $\\delta$ teríamos 12.\n",
    "\n",
    "Consequentemente, antes de calcular uma transição $\\delta(q, x, Y))$ deveremos sempre testar se $(q,x,Y) \\in \\text{dom}(\\delta)$, ou seja, se cada triplo $(q,x,Y)$ pertence ao domínio da função $\\delta$."
   ]
  },
  {
   "cell_type": "code",
   "execution_count": 9,
   "metadata": {},
   "outputs": [
    {
     "data": {
      "image/svg+xml": [
       "<?xml version=\"1.0\" encoding=\"UTF-8\" standalone=\"no\"?>\r\n",
       "<!DOCTYPE svg PUBLIC \"-//W3C//DTD SVG 1.1//EN\"\r\n",
       " \"http://www.w3.org/Graphics/SVG/1.1/DTD/svg11.dtd\">\r\n",
       "<!-- Generated by graphviz version 2.38.0 (20140413.2041)\r\n",
       " -->\r\n",
       "<!-- Title: %3 Pages: 1 -->\r\n",
       "<svg width=\"260pt\" height=\"115pt\"\r\n",
       " viewBox=\"0.00 0.00 260.20 114.85\" xmlns=\"http://www.w3.org/2000/svg\" xmlns:xlink=\"http://www.w3.org/1999/xlink\">\r\n",
       "<g id=\"graph0\" class=\"graph\" transform=\"scale(1 1) rotate(0) translate(4 110.848)\">\r\n",
       "<title>%3</title>\r\n",
       "<polygon fill=\"white\" stroke=\"none\" points=\"-4,4 -4,-110.848 256.197,-110.848 256.197,4 -4,4\"/>\r\n",
       "<!-- EMPTY -->\r\n",
       "<g id=\"node1\" class=\"node\"><title>EMPTY</title>\r\n",
       "</g>\r\n",
       "<!-- IF -->\r\n",
       "<g id=\"node3\" class=\"node\"><title>IF</title>\r\n",
       "<ellipse fill=\"none\" stroke=\"black\" cx=\"113.848\" cy=\"-22.8483\" rx=\"18.724\" ry=\"18.724\"/>\r\n",
       "<ellipse fill=\"none\" stroke=\"black\" cx=\"113.848\" cy=\"-22.8483\" rx=\"22.6977\" ry=\"22.6977\"/>\r\n",
       "<text text-anchor=\"middle\" x=\"113.848\" y=\"-19.1483\" font-family=\"Times New Roman,serif\" font-size=\"14.00\">IF</text>\r\n",
       "</g>\r\n",
       "<!-- EMPTY&#45;&gt;IF -->\r\n",
       "<g id=\"edge1\" class=\"edge\"><title>EMPTY&#45;&gt;IF</title>\r\n",
       "<path fill=\"none\" stroke=\"black\" d=\"M54.3814,-22.8483C62.6819,-22.8483 71.9432,-22.8483 80.6031,-22.8483\"/>\r\n",
       "<polygon fill=\"black\" stroke=\"black\" points=\"80.7631,-26.3484 90.7631,-22.8483 80.7631,-19.3484 80.7631,-26.3484\"/>\r\n",
       "</g>\r\n",
       "<!-- A -->\r\n",
       "<g id=\"node2\" class=\"node\"><title>A</title>\r\n",
       "<ellipse fill=\"none\" stroke=\"black\" cx=\"233.697\" cy=\"-22.8483\" rx=\"18\" ry=\"18\"/>\r\n",
       "<text text-anchor=\"middle\" x=\"233.697\" y=\"-19.1483\" font-family=\"Times New Roman,serif\" font-size=\"14.00\">A</text>\r\n",
       "</g>\r\n",
       "<!-- A&#45;&gt;A -->\r\n",
       "<g id=\"edge3\" class=\"edge\"><title>A&#45;&gt;A</title>\r\n",
       "<path fill=\"none\" stroke=\"black\" d=\"M228.698,-40.2582C227.765,-49.9362 229.431,-58.8483 233.697,-58.8483 236.363,-58.8483 238.013,-55.367 238.649,-50.3933\"/>\r\n",
       "<polygon fill=\"black\" stroke=\"black\" points=\"242.149,-50.2743 238.695,-40.2582 235.149,-50.2419 242.149,-50.2743\"/>\r\n",
       "<text text-anchor=\"middle\" x=\"233.697\" y=\"-62.6483\" font-family=\"Times New Roman,serif\" font-size=\"14.00\">(, ( ; ((</text>\r\n",
       "</g>\r\n",
       "<!-- A&#45;&gt;A -->\r\n",
       "<g id=\"edge4\" class=\"edge\"><title>A&#45;&gt;A</title>\r\n",
       "<path fill=\"none\" stroke=\"black\" d=\"M225.74,-39.1566C220.599,-56.8087 223.251,-76.8483 233.697,-76.8483 242.183,-76.8483 245.526,-63.6191 243.723,-49.1899\"/>\r\n",
       "<polygon fill=\"black\" stroke=\"black\" points=\"247.101,-48.2432 241.653,-39.1566 240.246,-49.6576 247.101,-48.2432\"/>\r\n",
       "<text text-anchor=\"middle\" x=\"233.697\" y=\"-80.6483\" font-family=\"Times New Roman,serif\" font-size=\"14.00\">), ( ; &#39;&#39;</text>\r\n",
       "</g>\r\n",
       "<!-- A&#45;&gt;IF -->\r\n",
       "<g id=\"edge5\" class=\"edge\"><title>A&#45;&gt;IF</title>\r\n",
       "<path fill=\"none\" stroke=\"black\" d=\"M218.385,-12.9826C212.294,-9.35485 204.934,-5.68611 197.697,-3.84833 179.173,0.85523 173.337,0.368173 154.697,-3.84833 150.964,-4.69276 147.171,-5.93073 143.483,-7.37657\"/>\r\n",
       "<polygon fill=\"black\" stroke=\"black\" points=\"141.795,-4.29712 134.083,-11.5618 144.642,-10.692 141.795,-4.29712\"/>\r\n",
       "<text text-anchor=\"middle\" x=\"176.197\" y=\"-7.64833\" font-family=\"Times New Roman,serif\" font-size=\"14.00\">&#39;&#39;, # ; #</text>\r\n",
       "</g>\r\n",
       "<!-- IF&#45;&gt;A -->\r\n",
       "<g id=\"edge2\" class=\"edge\"><title>IF&#45;&gt;A</title>\r\n",
       "<path fill=\"none\" stroke=\"black\" d=\"M136.739,-22.8483C156.124,-22.8483 184.504,-22.8483 205.373,-22.8483\"/>\r\n",
       "<polygon fill=\"black\" stroke=\"black\" points=\"205.514,-26.3484 215.514,-22.8483 205.514,-19.3484 205.514,-26.3484\"/>\r\n",
       "<text text-anchor=\"middle\" x=\"176.197\" y=\"-26.6483\" font-family=\"Times New Roman,serif\" font-size=\"14.00\">(, # ; (#</text>\r\n",
       "</g>\r\n",
       "</g>\r\n",
       "</svg>\r\n"
      ],
      "text/plain": [
       "<graphviz.dot.Digraph at 0x2e6761f4688>"
      ]
     },
     "execution_count": 9,
     "metadata": {},
     "output_type": "execute_result"
    }
   ],
   "source": [
    "dotObj_pda(PDA_bkts)"
   ]
  },
  {
   "cell_type": "markdown",
   "metadata": {},
   "source": [
    "### Aceitação de palavras\n",
    "\n",
    "#### _Final State_ Acceptance\n",
    "\n",
    "Uma função importante ao nível dos PDA será então uma que nos verifique se uma dada palavra é aceite ou não pelo autómato. A estratégia para a definição da função `accepts_df_inv` baseia-se numa travessia em profundidade.\n",
    "\n",
    "Assim, para a definição da função `accepts_inv`, que recebe um autómato e uma palavra utilizámos a ajuda da função `accepts_df_inv` que irá então recebendo um autómato, um estado, a stack e uma palavra aplicando a travessia em profunidade inidcar se a palavra é aceite ou não.\n",
    "\n",
    "Para a definição de `accepts_df_inv` temos vários casos:\n",
    "* 1. No caso da palavra ser vazia e o estado em que nos encontrámos for um estado final do autómato, tratando-se do estado de aceitação ser por *final state* se a palavra foi então toda lida, siginifica que a palavra é aceite pelo autómato.\n",
    "\n",
    "* 2. No caso, de a stack estar vazia, automaticamente nos faz concluir que a palavra não será aceite.\n",
    "\n",
    "* 3. No caso então de a palavra não ser vazia e existir uma chave nas chaves da funçaõ de transição que é (q,w[0],S[0]), significa que existirá um valor para essa chave. Assim, para cada valor associado a essa chave vamos então aplicar a recursividade chamando, a função `accepts_df_inv` mas agora para (P, qn, toPush+S[1:], w[1:]), onde P representa o mesmo autómato, qn representa o estado do valor da chave, toPush o símbolo da stack do valor da chave, S[1:] a cauda da Stack e w[1:] a palavra recebida exceto o primeiro símbolo. No caso de se verificar a aceitação retornará True.\n",
    "\n",
    "* 4. Pode ainda dar-se o caso de exsitirem transições mediante a leitura do palavra vazia, ainda assim, aplicaremos o mesmo raciocínio do ponto 3. Ou seja, procurando, o valor da chave (q,'',S[0]), iremos testar chamando a função `accepts_df_inv`se (P, qn, toPush+S[1:], w), com a pequena diferença de aplicarmos a função à palavra e não somente à cauda da mesma.\n",
    "\n",
    "\n",
    "\n",
    "Qualquer outro caso, implicará a devoluçao de _False_, inidicando que não é aceite.\n",
    "\n",
    "Assim, verificámos que esta função devolve apenas um valor _Booleano_, mas imprime, __por ordem inversa__, todas as configurações intermédias (estado, palavra, pilha) do autómato até à aceitação da palavra, caso seja aceite."
   ]
  },
  {
   "cell_type": "code",
   "execution_count": 10,
   "metadata": {},
   "outputs": [],
   "source": [
    "#adaptação da função fornecida pelo professor\n",
    "def accepts_df_inv (P, q, S, w) :\n",
    "\n",
    "    if w == \"\" and q in P[\"F\"]:\n",
    "        print(q + \"\\t\" + w + \"\\t\\t\" + S)\n",
    "        return True\n",
    "    \n",
    "    if S == \"\" : \n",
    "        return False\n",
    "    \n",
    "    if w != '' and (q,w[0],S[0]) in P['Delta'].keys():\n",
    "        for (qn,toPush) in P['Delta'][(q,w[0],S[0])]  :\n",
    "            #print (qn, toPush)\n",
    "            if accepts_df_inv(P, qn, toPush+S[1:], w[1:]) :\n",
    "                print(q + \"\\t\" + w + \"\\t\\t\" + S)\n",
    "                return True\n",
    "            \n",
    "    if (q,'',S[0]) in P['Delta'].keys():\n",
    "        for (qn,toPush)  in P['Delta'][(q,'',S[0])] :\n",
    "            #print (qn, toPush)\n",
    "            if accepts_df_inv(P, qn, toPush+S[1:], w) :\n",
    "                print(q + \"\\t\" + w + \"\\t\\t\" + S)\n",
    "                return True\n",
    "\n",
    "    return False\n",
    "            \n",
    "    \n",
    "\n",
    "def accepts_inv (P, w) : \n",
    "    return accepts_df_inv(P, P['q0'], P['z0'], w) "
   ]
  },
  {
   "cell_type": "markdown",
   "metadata": {},
   "source": [
    "Reparemos para o exemplo na aceitação (ou não) da palavra `(()())` pelo autómato `PDA_bkts`:"
   ]
  },
  {
   "cell_type": "code",
   "execution_count": 11,
   "metadata": {},
   "outputs": [
    {
     "name": "stdout",
     "output_type": "stream",
     "text": [
      "IF\t\t\t#\n",
      "A\t\t\t#\n",
      "A\t)\t\t(#\n",
      "A\t))\t\t((#\n",
      "A\t())\t\t(#\n",
      "A\t)())\t\t((#\n",
      "A\t()())\t\t(#\n",
      "IF\t(()())\t\t#\n"
     ]
    },
    {
     "data": {
      "text/plain": [
       "True"
      ]
     },
     "execution_count": 11,
     "metadata": {},
     "output_type": "execute_result"
    }
   ],
   "source": [
    "accepts_inv(PDA_bkts,  \"(()())\")"
   ]
  },
  {
   "cell_type": "markdown",
   "metadata": {},
   "source": [
    "Pela sua análise, concluímos que a palavra é aceite pelo autómato."
   ]
  },
  {
   "cell_type": "markdown",
   "metadata": {},
   "source": [
    "#### Exemplo\n",
    "\n",
    "Apresentámos, então, de seguida um outro autómato. \n",
    "O autómato seguinte reconhece a linguagem $\\{ a^i b^i \\mid i \\geq 0 \\}$:"
   ]
  },
  {
   "cell_type": "code",
   "execution_count": 12,
   "metadata": {},
   "outputs": [],
   "source": [
    "Pab1 = { 'Sigma' : {'a','b'},\n",
    "         'Q'     : {'S0', 'S1', 'S2','S3'},\n",
    "         'Gamma' : {'a','b','1',\"#\"},\n",
    "         'Delta' : {('S0','a','#'): {('S1','1#')},\n",
    "                    ('S1','a','1'): {('S1','11')},\n",
    "                    ('S1','b','1'): {('S2','')},\n",
    "                    ('S2','b','1'): {('S2','')},\n",
    "                    ('S2','','#') : {('S3','')},\n",
    "                   },\n",
    "         'q0'    : 'S0',\n",
    "         'z0'    : '#',\n",
    "         'F'     : { 'S3' } \n",
    "       }\n",
    "chk_consistent_pda(Pab1)"
   ]
  },
  {
   "cell_type": "code",
   "execution_count": 13,
   "metadata": {},
   "outputs": [
    {
     "data": {
      "image/svg+xml": [
       "<?xml version=\"1.0\" encoding=\"UTF-8\" standalone=\"no\"?>\r\n",
       "<!DOCTYPE svg PUBLIC \"-//W3C//DTD SVG 1.1//EN\"\r\n",
       " \"http://www.w3.org/Graphics/SVG/1.1/DTD/svg11.dtd\">\r\n",
       "<!-- Generated by graphviz version 2.38.0 (20140413.2041)\r\n",
       " -->\r\n",
       "<!-- Title: %3 Pages: 1 -->\r\n",
       "<svg width=\"507pt\" height=\"87pt\"\r\n",
       " viewBox=\"0.00 0.00 507.39 86.60\" xmlns=\"http://www.w3.org/2000/svg\" xmlns:xlink=\"http://www.w3.org/1999/xlink\">\r\n",
       "<g id=\"graph0\" class=\"graph\" transform=\"scale(1 1) rotate(0) translate(4 82.5963)\">\r\n",
       "<title>%3</title>\r\n",
       "<polygon fill=\"white\" stroke=\"none\" points=\"-4,4 -4,-82.5963 503.385,-82.5963 503.385,4 -4,4\"/>\r\n",
       "<!-- EMPTY -->\r\n",
       "<g id=\"node1\" class=\"node\"><title>EMPTY</title>\r\n",
       "</g>\r\n",
       "<!-- S0 -->\r\n",
       "<g id=\"node2\" class=\"node\"><title>S0</title>\r\n",
       "<ellipse fill=\"none\" stroke=\"black\" cx=\"111.798\" cy=\"-24.7982\" rx=\"20.5982\" ry=\"20.5982\"/>\r\n",
       "<text text-anchor=\"middle\" x=\"111.798\" y=\"-21.0982\" font-family=\"Times New Roman,serif\" font-size=\"14.00\">S0</text>\r\n",
       "</g>\r\n",
       "<!-- EMPTY&#45;&gt;S0 -->\r\n",
       "<g id=\"edge1\" class=\"edge\"><title>EMPTY&#45;&gt;S0</title>\r\n",
       "<path fill=\"none\" stroke=\"black\" d=\"M54.1979,-24.7982C62.6185,-24.7982 72.0134,-24.7982 80.6916,-24.7982\"/>\r\n",
       "<polygon fill=\"black\" stroke=\"black\" points=\"80.8079,-28.2983 90.8078,-24.7982 80.8078,-21.2983 80.8079,-28.2983\"/>\r\n",
       "</g>\r\n",
       "<!-- S1 -->\r\n",
       "<g id=\"node3\" class=\"node\"><title>S1</title>\r\n",
       "<ellipse fill=\"none\" stroke=\"black\" cx=\"236.394\" cy=\"-24.7982\" rx=\"20.5982\" ry=\"20.5982\"/>\r\n",
       "<text text-anchor=\"middle\" x=\"236.394\" y=\"-21.0982\" font-family=\"Times New Roman,serif\" font-size=\"14.00\">S1</text>\r\n",
       "</g>\r\n",
       "<!-- S0&#45;&gt;S1 -->\r\n",
       "<g id=\"edge2\" class=\"edge\"><title>S0&#45;&gt;S1</title>\r\n",
       "<path fill=\"none\" stroke=\"black\" d=\"M132.768,-24.7982C152.449,-24.7982 182.769,-24.7982 205.356,-24.7982\"/>\r\n",
       "<polygon fill=\"black\" stroke=\"black\" points=\"205.433,-28.2983 215.433,-24.7982 205.433,-21.2983 205.433,-28.2983\"/>\r\n",
       "<text text-anchor=\"middle\" x=\"174.096\" y=\"-28.5982\" font-family=\"Times New Roman,serif\" font-size=\"14.00\">a, # ; 1#</text>\r\n",
       "</g>\r\n",
       "<!-- S1&#45;&gt;S1 -->\r\n",
       "<g id=\"edge3\" class=\"edge\"><title>S1&#45;&gt;S1</title>\r\n",
       "<path fill=\"none\" stroke=\"black\" d=\"M226.117,-43.1597C224.019,-53.7436 227.445,-63.5963 236.394,-63.5963 242.267,-63.5963 245.762,-59.3531 246.877,-53.4447\"/>\r\n",
       "<polygon fill=\"black\" stroke=\"black\" points=\"250.371,-53.0879 246.672,-43.1597 243.372,-53.2275 250.371,-53.0879\"/>\r\n",
       "<text text-anchor=\"middle\" x=\"236.394\" y=\"-67.3963\" font-family=\"Times New Roman,serif\" font-size=\"14.00\">a, 1 ; 11</text>\r\n",
       "</g>\r\n",
       "<!-- S2 -->\r\n",
       "<g id=\"node4\" class=\"node\"><title>S2</title>\r\n",
       "<ellipse fill=\"none\" stroke=\"black\" cx=\"353.991\" cy=\"-24.7982\" rx=\"20.5982\" ry=\"20.5982\"/>\r\n",
       "<text text-anchor=\"middle\" x=\"353.991\" y=\"-21.0982\" font-family=\"Times New Roman,serif\" font-size=\"14.00\">S2</text>\r\n",
       "</g>\r\n",
       "<!-- S1&#45;&gt;S2 -->\r\n",
       "<g id=\"edge4\" class=\"edge\"><title>S1&#45;&gt;S2</title>\r\n",
       "<path fill=\"none\" stroke=\"black\" d=\"M257.266,-24.7982C275.296,-24.7982 302.143,-24.7982 322.82,-24.7982\"/>\r\n",
       "<polygon fill=\"black\" stroke=\"black\" points=\"322.992,-28.2983 332.992,-24.7982 322.991,-21.2983 322.992,-28.2983\"/>\r\n",
       "<text text-anchor=\"middle\" x=\"295.193\" y=\"-28.5982\" font-family=\"Times New Roman,serif\" font-size=\"14.00\">b, 1 ; &#39;&#39;</text>\r\n",
       "</g>\r\n",
       "<!-- S2&#45;&gt;S2 -->\r\n",
       "<g id=\"edge5\" class=\"edge\"><title>S2&#45;&gt;S2</title>\r\n",
       "<path fill=\"none\" stroke=\"black\" d=\"M343.713,-43.1597C341.616,-53.7436 345.042,-63.5963 353.991,-63.5963 359.864,-63.5963 363.358,-59.3531 364.473,-53.4447\"/>\r\n",
       "<polygon fill=\"black\" stroke=\"black\" points=\"367.967,-53.0879 364.268,-43.1597 360.968,-53.2275 367.967,-53.0879\"/>\r\n",
       "<text text-anchor=\"middle\" x=\"353.991\" y=\"-67.3963\" font-family=\"Times New Roman,serif\" font-size=\"14.00\">b, 1 ; &#39;&#39;</text>\r\n",
       "</g>\r\n",
       "<!-- S3 -->\r\n",
       "<g id=\"node5\" class=\"node\"><title>S3</title>\r\n",
       "<ellipse fill=\"none\" stroke=\"black\" cx=\"474.587\" cy=\"-24.7982\" rx=\"20.6302\" ry=\"20.6302\"/>\r\n",
       "<ellipse fill=\"none\" stroke=\"black\" cx=\"474.587\" cy=\"-24.7982\" rx=\"24.5979\" ry=\"24.5979\"/>\r\n",
       "<text text-anchor=\"middle\" x=\"474.587\" y=\"-21.0982\" font-family=\"Times New Roman,serif\" font-size=\"14.00\">S3</text>\r\n",
       "</g>\r\n",
       "<!-- S2&#45;&gt;S3 -->\r\n",
       "<g id=\"edge6\" class=\"edge\"><title>S2&#45;&gt;S3</title>\r\n",
       "<path fill=\"none\" stroke=\"black\" d=\"M374.841,-24.7982C392.441,-24.7982 418.526,-24.7982 439.466,-24.7982\"/>\r\n",
       "<polygon fill=\"black\" stroke=\"black\" points=\"439.574,-28.2983 449.574,-24.7982 439.574,-21.2983 439.574,-28.2983\"/>\r\n",
       "<text text-anchor=\"middle\" x=\"412.289\" y=\"-28.5982\" font-family=\"Times New Roman,serif\" font-size=\"14.00\">&#39;&#39;, # ; &#39;&#39;</text>\r\n",
       "</g>\r\n",
       "</g>\r\n",
       "</svg>\r\n"
      ],
      "text/plain": [
       "<graphviz.dot.Digraph at 0x2e6761f4c48>"
      ]
     },
     "execution_count": 13,
     "metadata": {},
     "output_type": "execute_result"
    }
   ],
   "source": [
    "dotObj_pda(Pab1)"
   ]
  },
  {
   "cell_type": "markdown",
   "metadata": {},
   "source": [
    "De seguida, podemos então visualizar a aplicação da função `accepts`."
   ]
  },
  {
   "cell_type": "code",
   "execution_count": 14,
   "metadata": {},
   "outputs": [
    {
     "name": "stdout",
     "output_type": "stream",
     "text": [
      "S3\t\t\t\n",
      "S2\t\t\t#\n",
      "S2\tb\t\t1#\n",
      "S1\tbb\t\t11#\n",
      "S1\tabb\t\t1#\n",
      "S0\taabb\t\t#\n"
     ]
    },
    {
     "data": {
      "text/plain": [
       "True"
      ]
     },
     "execution_count": 14,
     "metadata": {},
     "output_type": "execute_result"
    }
   ],
   "source": [
    "accepts_inv (Pab1, \"aabb\")"
   ]
  },
  {
   "cell_type": "markdown",
   "metadata": {},
   "source": [
    "### (exercício propostos pelo professor)\n",
    "\n",
    "A fim de se tornar mais percetível a aplicação da função `accepts_inv` será útil criar-se uma definição onde imprima as configurações intermédias(estado, palavra, pilha) pela **ordem direta**, ao invés da ordem inversa como já o fizemos. \n",
    "\n",
    "Para isso imprimiremos as configurações intermédias após os ciclos e antes da entrada no if que chama, novamente, a função, de forma a que as configurações sejam impressas pela **ordem direta**. "
   ]
  },
  {
   "cell_type": "code",
   "execution_count": 15,
   "metadata": {},
   "outputs": [],
   "source": [
    "def accepts_df_dir (P, q, S, w) :\n",
    "\n",
    "    if w == \"\" and q in P[\"F\"]:\n",
    "        print(q + \"\\t\" + w + \"\\t\\t\" + S)\n",
    "        return True\n",
    "    \n",
    "    if S == \"\" : \n",
    "        return False\n",
    "    \n",
    "    if w != '' and (q,w[0],S[0]) in P['Delta'].keys():\n",
    "        for (qn,toPush) in P['Delta'][(q,w[0],S[0])]  :\n",
    "            print(q + \"\\t\" + w + \"\\t\\t\" + S)\n",
    "            if accepts_df_dir(P, qn, toPush+S[1:], w[1:]) :\n",
    "                \n",
    "                return True\n",
    "            \n",
    "    if (q,'',S[0]) in P['Delta'].keys():\n",
    "        for (qn,toPush)  in P['Delta'][(q,'',S[0])] :\n",
    "            print(q + \"\\t\" + w + \"\\t\\t\" + S)\n",
    "            if accepts_df_dir(P, qn, toPush+S[1:], w) :\n",
    "                \n",
    "                return True\n",
    "\n",
    "    return False\n",
    "            \n",
    "    \n",
    "\n",
    "def accepts_dir (P, w) : \n",
    "    return accepts_df_dir(P, P['q0'], P['z0'], w) \n",
    "\n"
   ]
  },
  {
   "cell_type": "markdown",
   "metadata": {},
   "source": [
    "Assim, agora apresentámos a aplicação desta função aos autómatos anteriores (`Pab1` e `PDA_bkts`) podendo observar as configurações intermédias pela ordem direta, mantendo-se o output da função como sendo True ou False. "
   ]
  },
  {
   "cell_type": "code",
   "execution_count": 16,
   "metadata": {},
   "outputs": [
    {
     "name": "stdout",
     "output_type": "stream",
     "text": [
      "S0\taabb\t\t#\n",
      "S1\tabb\t\t1#\n",
      "S1\tbb\t\t11#\n",
      "S2\tb\t\t1#\n",
      "S2\t\t\t#\n",
      "S3\t\t\t\n"
     ]
    },
    {
     "data": {
      "text/plain": [
       "True"
      ]
     },
     "execution_count": 16,
     "metadata": {},
     "output_type": "execute_result"
    }
   ],
   "source": [
    "accepts_dir (Pab1, \"aabb\")"
   ]
  },
  {
   "cell_type": "code",
   "execution_count": 17,
   "metadata": {},
   "outputs": [
    {
     "name": "stdout",
     "output_type": "stream",
     "text": [
      "IF\t(()())\t\t#\n",
      "A\t()())\t\t(#\n",
      "A\t)())\t\t((#\n",
      "A\t())\t\t(#\n",
      "A\t))\t\t((#\n",
      "A\t)\t\t(#\n",
      "A\t\t\t#\n",
      "IF\t\t\t#\n"
     ]
    },
    {
     "data": {
      "text/plain": [
       "True"
      ]
     },
     "execution_count": 17,
     "metadata": {},
     "output_type": "execute_result"
    }
   ],
   "source": [
    "accepts_dir (PDA_bkts,  \"(()())\")"
   ]
  },
  {
   "cell_type": "markdown",
   "metadata": {},
   "source": [
    "#### Empty Stack Acceptance\n",
    "\n",
    "Umas das características dos autómatos de pilha passa por existir um outro critério de aceitação para além do critério por final state. Este critério de aceitação é o de pilha vazia (*empty stack*).\n",
    "\n",
    "Assim, apresentaremos a definição de aceitação de uma palavra para um dado autómato por empty stack. Tendo por base o racíocinio utilizado para a definição de aceitação por final state torna-se muito fácil alterar o critério de aceitação para \"pilha vazia\". Para tal considerando os 4 casos apresentados em `accepts_df` basta então alterar o caso 1, ou seja, no caso de a palavra ser vazia e a stack se encontrar vazia a palavra será imediatamente declarada como aceite, contrariamente ao que acontecia na definição por final state em que a palavra é declarada aceite se já for a palavra vazia e se encontrar num estado final do autómato.\n",
    "\n",
    "Assim a linha de raciocínio apresentada para os outros 3 casos mantém-se intacta comparativamente à definição por final state(`accepts_df`)."
   ]
  },
  {
   "cell_type": "code",
   "execution_count": 18,
   "metadata": {},
   "outputs": [],
   "source": [
    "#definição fornecida pelo professor\n",
    "def accepts_df_ES (P, q, S, w) :\n",
    "\n",
    "    if w == \"\" and S == \"\":\n",
    "        print(q + \"\\t\" + w + \"\\t\\t\" + S)\n",
    "        return True\n",
    "    \n",
    "    if S == \"\" : \n",
    "        return False\n",
    "    \n",
    "    if w != '' and (q,w[0],S[0]) in P['Delta'].keys():\n",
    "        for (qn,toPush) in P['Delta'][(q,w[0],S[0])]  :\n",
    "            if accepts_df_ES(P, qn, toPush+S[1:], w[1:]) :\n",
    "                print(q + \"\\t\" + w + \"\\t\\t\" + S)\n",
    "                return True\n",
    "            \n",
    "    if (q,'',S[0]) in P['Delta'].keys():\n",
    "        for (qn,toPush)  in P['Delta'][(q,'',S[0])] :\n",
    "            if accepts_df_ES(P, qn, toPush+S[1:], w) :\n",
    "                print(q + \"\\t\" + w + \"\\t\\t\" + S)\n",
    "                return True\n",
    "            \n",
    "    return False\n",
    "                        \n",
    "\n",
    "def accepts_ES (P, w) : \n",
    "    return accepts_df_ES(P, P['q0'], P['z0'], w) \n"
   ]
  },
  {
   "cell_type": "markdown",
   "metadata": {},
   "source": [
    "Apresentamos agora um outro autómato assim como a sua visualização."
   ]
  },
  {
   "cell_type": "code",
   "execution_count": 19,
   "metadata": {},
   "outputs": [],
   "source": [
    "Pab2 = {'Sigma' : {'a','b'},\n",
    "        'Q'     : {'S0', 'S1', 'S2', 'S3'},\n",
    "        'Gamma' : {'a','b','1','#'},\n",
    "        'Delta' : {('S0','a','#'): {('S1','1#')},\n",
    "                   ('S1','a','1'): {('S1','11')},\n",
    "                   ('S1','b','1'): {('S2','')},\n",
    "                   ('S2','b','1'): {('S2','')},\n",
    "                   ('S2','','#') : {('S3','')},\n",
    "                  },\n",
    "        'q0'    : 'S0',\n",
    "        'z0'    : '#',\n",
    "        'F'     : set({  }) }\n",
    "chk_consistent_pda(Pab2)"
   ]
  },
  {
   "cell_type": "code",
   "execution_count": 20,
   "metadata": {},
   "outputs": [
    {
     "data": {
      "image/svg+xml": [
       "<?xml version=\"1.0\" encoding=\"UTF-8\" standalone=\"no\"?>\r\n",
       "<!DOCTYPE svg PUBLIC \"-//W3C//DTD SVG 1.1//EN\"\r\n",
       " \"http://www.w3.org/Graphics/SVG/1.1/DTD/svg11.dtd\">\r\n",
       "<!-- Generated by graphviz version 2.38.0 (20140413.2041)\r\n",
       " -->\r\n",
       "<!-- Title: %3 Pages: 1 -->\r\n",
       "<svg width=\"499pt\" height=\"83pt\"\r\n",
       " viewBox=\"0.00 0.00 499.39 82.60\" xmlns=\"http://www.w3.org/2000/svg\" xmlns:xlink=\"http://www.w3.org/1999/xlink\">\r\n",
       "<g id=\"graph0\" class=\"graph\" transform=\"scale(1 1) rotate(0) translate(4 78.5963)\">\r\n",
       "<title>%3</title>\r\n",
       "<polygon fill=\"white\" stroke=\"none\" points=\"-4,4 -4,-78.5963 495.385,-78.5963 495.385,4 -4,4\"/>\r\n",
       "<!-- EMPTY -->\r\n",
       "<g id=\"node1\" class=\"node\"><title>EMPTY</title>\r\n",
       "</g>\r\n",
       "<!-- S0 -->\r\n",
       "<g id=\"node4\" class=\"node\"><title>S0</title>\r\n",
       "<ellipse fill=\"none\" stroke=\"black\" cx=\"111.798\" cy=\"-20.7982\" rx=\"20.5982\" ry=\"20.5982\"/>\r\n",
       "<text text-anchor=\"middle\" x=\"111.798\" y=\"-17.0982\" font-family=\"Times New Roman,serif\" font-size=\"14.00\">S0</text>\r\n",
       "</g>\r\n",
       "<!-- EMPTY&#45;&gt;S0 -->\r\n",
       "<g id=\"edge1\" class=\"edge\"><title>EMPTY&#45;&gt;S0</title>\r\n",
       "<path fill=\"none\" stroke=\"black\" d=\"M54.1979,-20.7982C62.6185,-20.7982 72.0134,-20.7982 80.6916,-20.7982\"/>\r\n",
       "<polygon fill=\"black\" stroke=\"black\" points=\"80.8079,-24.2983 90.8078,-20.7982 80.8078,-17.2983 80.8079,-24.2983\"/>\r\n",
       "</g>\r\n",
       "<!-- S2 -->\r\n",
       "<g id=\"node2\" class=\"node\"><title>S2</title>\r\n",
       "<ellipse fill=\"none\" stroke=\"black\" cx=\"353.991\" cy=\"-20.7982\" rx=\"20.5982\" ry=\"20.5982\"/>\r\n",
       "<text text-anchor=\"middle\" x=\"353.991\" y=\"-17.0982\" font-family=\"Times New Roman,serif\" font-size=\"14.00\">S2</text>\r\n",
       "</g>\r\n",
       "<!-- S2&#45;&gt;S2 -->\r\n",
       "<g id=\"edge5\" class=\"edge\"><title>S2&#45;&gt;S2</title>\r\n",
       "<path fill=\"none\" stroke=\"black\" d=\"M343.713,-39.1597C341.616,-49.7436 345.042,-59.5963 353.991,-59.5963 359.864,-59.5963 363.358,-55.3531 364.473,-49.4447\"/>\r\n",
       "<polygon fill=\"black\" stroke=\"black\" points=\"367.967,-49.0879 364.268,-39.1597 360.968,-49.2275 367.967,-49.0879\"/>\r\n",
       "<text text-anchor=\"middle\" x=\"353.991\" y=\"-63.3963\" font-family=\"Times New Roman,serif\" font-size=\"14.00\">b, 1 ; &#39;&#39;</text>\r\n",
       "</g>\r\n",
       "<!-- S3 -->\r\n",
       "<g id=\"node5\" class=\"node\"><title>S3</title>\r\n",
       "<ellipse fill=\"none\" stroke=\"black\" cx=\"470.587\" cy=\"-20.7982\" rx=\"20.5982\" ry=\"20.5982\"/>\r\n",
       "<text text-anchor=\"middle\" x=\"470.587\" y=\"-17.0982\" font-family=\"Times New Roman,serif\" font-size=\"14.00\">S3</text>\r\n",
       "</g>\r\n",
       "<!-- S2&#45;&gt;S3 -->\r\n",
       "<g id=\"edge6\" class=\"edge\"><title>S2&#45;&gt;S3</title>\r\n",
       "<path fill=\"none\" stroke=\"black\" d=\"M374.952,-20.7982C392.754,-20.7982 419.073,-20.7982 439.439,-20.7982\"/>\r\n",
       "<polygon fill=\"black\" stroke=\"black\" points=\"439.47,-24.2983 449.47,-20.7982 439.47,-17.2983 439.47,-24.2983\"/>\r\n",
       "<text text-anchor=\"middle\" x=\"412.289\" y=\"-24.5982\" font-family=\"Times New Roman,serif\" font-size=\"14.00\">&#39;&#39;, # ; &#39;&#39;</text>\r\n",
       "</g>\r\n",
       "<!-- S1 -->\r\n",
       "<g id=\"node3\" class=\"node\"><title>S1</title>\r\n",
       "<ellipse fill=\"none\" stroke=\"black\" cx=\"236.394\" cy=\"-20.7982\" rx=\"20.5982\" ry=\"20.5982\"/>\r\n",
       "<text text-anchor=\"middle\" x=\"236.394\" y=\"-17.0982\" font-family=\"Times New Roman,serif\" font-size=\"14.00\">S1</text>\r\n",
       "</g>\r\n",
       "<!-- S1&#45;&gt;S2 -->\r\n",
       "<g id=\"edge4\" class=\"edge\"><title>S1&#45;&gt;S2</title>\r\n",
       "<path fill=\"none\" stroke=\"black\" d=\"M257.266,-20.7982C275.296,-20.7982 302.143,-20.7982 322.82,-20.7982\"/>\r\n",
       "<polygon fill=\"black\" stroke=\"black\" points=\"322.992,-24.2983 332.992,-20.7982 322.991,-17.2983 322.992,-24.2983\"/>\r\n",
       "<text text-anchor=\"middle\" x=\"295.193\" y=\"-24.5982\" font-family=\"Times New Roman,serif\" font-size=\"14.00\">b, 1 ; &#39;&#39;</text>\r\n",
       "</g>\r\n",
       "<!-- S1&#45;&gt;S1 -->\r\n",
       "<g id=\"edge3\" class=\"edge\"><title>S1&#45;&gt;S1</title>\r\n",
       "<path fill=\"none\" stroke=\"black\" d=\"M226.117,-39.1597C224.019,-49.7436 227.445,-59.5963 236.394,-59.5963 242.267,-59.5963 245.762,-55.3531 246.877,-49.4447\"/>\r\n",
       "<polygon fill=\"black\" stroke=\"black\" points=\"250.371,-49.0879 246.672,-39.1597 243.372,-49.2275 250.371,-49.0879\"/>\r\n",
       "<text text-anchor=\"middle\" x=\"236.394\" y=\"-63.3963\" font-family=\"Times New Roman,serif\" font-size=\"14.00\">a, 1 ; 11</text>\r\n",
       "</g>\r\n",
       "<!-- S0&#45;&gt;S1 -->\r\n",
       "<g id=\"edge2\" class=\"edge\"><title>S0&#45;&gt;S1</title>\r\n",
       "<path fill=\"none\" stroke=\"black\" d=\"M132.768,-20.7982C152.449,-20.7982 182.769,-20.7982 205.356,-20.7982\"/>\r\n",
       "<polygon fill=\"black\" stroke=\"black\" points=\"205.433,-24.2983 215.433,-20.7982 205.433,-17.2983 205.433,-24.2983\"/>\r\n",
       "<text text-anchor=\"middle\" x=\"174.096\" y=\"-24.5982\" font-family=\"Times New Roman,serif\" font-size=\"14.00\">a, # ; 1#</text>\r\n",
       "</g>\r\n",
       "</g>\r\n",
       "</svg>\r\n"
      ],
      "text/plain": [
       "<graphviz.dot.Digraph at 0x2e67620d1c8>"
      ]
     },
     "execution_count": 20,
     "metadata": {},
     "output_type": "execute_result"
    }
   ],
   "source": [
    "dotObj_pda(Pab2)"
   ]
  },
  {
   "cell_type": "markdown",
   "metadata": {},
   "source": [
    "Podemos agora testar as nossas funções de aceitação de palavras quer por final state quer por empty stack, realtivamente a este recente autómato criado."
   ]
  },
  {
   "cell_type": "code",
   "execution_count": 21,
   "metadata": {},
   "outputs": [
    {
     "data": {
      "text/plain": [
       "False"
      ]
     },
     "execution_count": 21,
     "metadata": {},
     "output_type": "execute_result"
    }
   ],
   "source": [
    "accepts_inv (Pab2, \"aabb\")"
   ]
  },
  {
   "cell_type": "code",
   "execution_count": 22,
   "metadata": {},
   "outputs": [
    {
     "name": "stdout",
     "output_type": "stream",
     "text": [
      "S3\t\t\t\n",
      "S2\t\t\t#\n",
      "S2\tb\t\t1#\n",
      "S2\tbb\t\t11#\n",
      "S1\tbbb\t\t111#\n",
      "S1\tabbb\t\t11#\n",
      "S1\taabbb\t\t1#\n",
      "S0\taaabbb\t\t#\n"
     ]
    },
    {
     "data": {
      "text/plain": [
       "True"
      ]
     },
     "execution_count": 22,
     "metadata": {},
     "output_type": "execute_result"
    }
   ],
   "source": [
    "accepts_ES(Pab2, \"aaabbb\")"
   ]
  },
  {
   "cell_type": "markdown",
   "metadata": {},
   "source": [
    "## PDA com um só estado"
   ]
  },
  {
   "cell_type": "markdown",
   "metadata": {},
   "source": [
    "Tendo implementado a aceitação por _empty stack_, podemos agora definir autómatos (de um só estado) para o reconhecimento de linguagens livres de contexto. Por exemplo para a linguagem de parêntesis teremos o seguinte autómato, que nos ajudará a perceber que a simples função de aceitação, quando usada com um destes autómatos, está longe de constituir um _parser_ para a linguagem:"
   ]
  },
  {
   "cell_type": "markdown",
   "metadata": {},
   "source": [
    "| $q$   | $x$           | $Y$ | Nome     | $q'$  | $S'$            |\n",
    "| ------- | --------------- | ----- | -------- | ------- | ----------------- |\n",
    "| $q_1$ | $\\varepsilon$ | $S$ | expand-1 | $q_1$ | [ ( , $S$, ) ]  |\n",
    "| $q_1$ | $\\varepsilon$ | $S$ | expand-2 | $q_1$ | [ $S$ , $S$ ] |\n",
    "| $q_1$ | $\\varepsilon$ | $S$ | expand-3 | $q_1$ | [  ]              |\n",
    "| $q_1$ | (               | (     | match-(  | $q_1$ | [  ]              |\n",
    "| $q_1$ | )               | )     | match-)  | $q_1$ | [  ]              |\n",
    "\n"
   ]
  },
  {
   "cell_type": "code",
   "execution_count": 23,
   "metadata": {},
   "outputs": [],
   "source": [
    "Ptopdown = {'Sigma' : {'(',')'},\n",
    "            'Q'     : {'q1'},\n",
    "            'Gamma' : {'(',')','S'},\n",
    "            'Delta' : {('q1','','S')   :   {('q1','(S)'), ('q1','SS'), ('q1','')},\n",
    "                       ('q1','(','(')  :   {('q1','')},\n",
    "                       ('q1',')', ')') :   {('q1','')}\n",
    "                      },\n",
    "            'q0'    : 'q1',\n",
    "            'z0'    : 'S',\n",
    "            'F'     : set({  }) }\n",
    "chk_consistent_pda(Ptopdown)"
   ]
  },
  {
   "cell_type": "code",
   "execution_count": 22,
   "metadata": {
    "scrolled": true
   },
   "outputs": [
    {
     "ename": "RecursionError",
     "evalue": "maximum recursion depth exceeded in comparison",
     "output_type": "error",
     "traceback": [
      "\u001b[1;31m---------------------------------------------------------------------------\u001b[0m",
      "\u001b[1;31mRecursionError\u001b[0m                            Traceback (most recent call last)",
      "\u001b[1;32m<ipython-input-22-38bd67ebd981>\u001b[0m in \u001b[0;36m<module>\u001b[1;34m\u001b[0m\n\u001b[1;32m----> 1\u001b[1;33m \u001b[0maccepts_ES\u001b[0m\u001b[1;33m(\u001b[0m\u001b[0mPtopdown\u001b[0m\u001b[1;33m,\u001b[0m  \u001b[1;34m\"(()())\"\u001b[0m\u001b[1;33m)\u001b[0m\u001b[1;33m\u001b[0m\u001b[1;33m\u001b[0m\u001b[0m\n\u001b[0m",
      "\u001b[1;32m<ipython-input-16-81a205eda3c6>\u001b[0m in \u001b[0;36maccepts_ES\u001b[1;34m(P, w)\u001b[0m\n\u001b[0;32m     24\u001b[0m \u001b[1;33m\u001b[0m\u001b[0m\n\u001b[0;32m     25\u001b[0m \u001b[1;32mdef\u001b[0m \u001b[0maccepts_ES\u001b[0m \u001b[1;33m(\u001b[0m\u001b[0mP\u001b[0m\u001b[1;33m,\u001b[0m \u001b[0mw\u001b[0m\u001b[1;33m)\u001b[0m \u001b[1;33m:\u001b[0m\u001b[1;33m\u001b[0m\u001b[1;33m\u001b[0m\u001b[0m\n\u001b[1;32m---> 26\u001b[1;33m     \u001b[1;32mreturn\u001b[0m \u001b[0maccepts_df_ES\u001b[0m\u001b[1;33m(\u001b[0m\u001b[0mP\u001b[0m\u001b[1;33m,\u001b[0m \u001b[0mP\u001b[0m\u001b[1;33m[\u001b[0m\u001b[1;34m'q0'\u001b[0m\u001b[1;33m]\u001b[0m\u001b[1;33m,\u001b[0m \u001b[0mP\u001b[0m\u001b[1;33m[\u001b[0m\u001b[1;34m'z0'\u001b[0m\u001b[1;33m]\u001b[0m\u001b[1;33m,\u001b[0m \u001b[0mw\u001b[0m\u001b[1;33m)\u001b[0m\u001b[1;33m\u001b[0m\u001b[1;33m\u001b[0m\u001b[0m\n\u001b[0m",
      "\u001b[1;32m<ipython-input-16-81a205eda3c6>\u001b[0m in \u001b[0;36maccepts_df_ES\u001b[1;34m(P, q, S, w)\u001b[0m\n\u001b[0;32m     16\u001b[0m     \u001b[1;32mif\u001b[0m \u001b[1;33m(\u001b[0m\u001b[0mq\u001b[0m\u001b[1;33m,\u001b[0m\u001b[1;34m''\u001b[0m\u001b[1;33m,\u001b[0m\u001b[0mS\u001b[0m\u001b[1;33m[\u001b[0m\u001b[1;36m0\u001b[0m\u001b[1;33m]\u001b[0m\u001b[1;33m)\u001b[0m \u001b[1;32min\u001b[0m \u001b[0mP\u001b[0m\u001b[1;33m[\u001b[0m\u001b[1;34m'Delta'\u001b[0m\u001b[1;33m]\u001b[0m\u001b[1;33m.\u001b[0m\u001b[0mkeys\u001b[0m\u001b[1;33m(\u001b[0m\u001b[1;33m)\u001b[0m\u001b[1;33m:\u001b[0m\u001b[1;33m\u001b[0m\u001b[1;33m\u001b[0m\u001b[0m\n\u001b[0;32m     17\u001b[0m         \u001b[1;32mfor\u001b[0m \u001b[1;33m(\u001b[0m\u001b[0mqn\u001b[0m\u001b[1;33m,\u001b[0m\u001b[0mtoPush\u001b[0m\u001b[1;33m)\u001b[0m  \u001b[1;32min\u001b[0m \u001b[0mP\u001b[0m\u001b[1;33m[\u001b[0m\u001b[1;34m'Delta'\u001b[0m\u001b[1;33m]\u001b[0m\u001b[1;33m[\u001b[0m\u001b[1;33m(\u001b[0m\u001b[0mq\u001b[0m\u001b[1;33m,\u001b[0m\u001b[1;34m''\u001b[0m\u001b[1;33m,\u001b[0m\u001b[0mS\u001b[0m\u001b[1;33m[\u001b[0m\u001b[1;36m0\u001b[0m\u001b[1;33m]\u001b[0m\u001b[1;33m)\u001b[0m\u001b[1;33m]\u001b[0m \u001b[1;33m:\u001b[0m\u001b[1;33m\u001b[0m\u001b[1;33m\u001b[0m\u001b[0m\n\u001b[1;32m---> 18\u001b[1;33m             \u001b[1;32mif\u001b[0m \u001b[0maccepts_df_ES\u001b[0m\u001b[1;33m(\u001b[0m\u001b[0mP\u001b[0m\u001b[1;33m,\u001b[0m \u001b[0mqn\u001b[0m\u001b[1;33m,\u001b[0m \u001b[0mtoPush\u001b[0m\u001b[1;33m+\u001b[0m\u001b[0mS\u001b[0m\u001b[1;33m[\u001b[0m\u001b[1;36m1\u001b[0m\u001b[1;33m:\u001b[0m\u001b[1;33m]\u001b[0m\u001b[1;33m,\u001b[0m \u001b[0mw\u001b[0m\u001b[1;33m)\u001b[0m \u001b[1;33m:\u001b[0m\u001b[1;33m\u001b[0m\u001b[1;33m\u001b[0m\u001b[0m\n\u001b[0m\u001b[0;32m     19\u001b[0m                 \u001b[0mprint\u001b[0m\u001b[1;33m(\u001b[0m\u001b[0mq\u001b[0m \u001b[1;33m+\u001b[0m \u001b[1;34m\"\\t\"\u001b[0m \u001b[1;33m+\u001b[0m \u001b[0mw\u001b[0m \u001b[1;33m+\u001b[0m \u001b[1;34m\"\\t\\t\"\u001b[0m \u001b[1;33m+\u001b[0m \u001b[0mS\u001b[0m\u001b[1;33m)\u001b[0m\u001b[1;33m\u001b[0m\u001b[1;33m\u001b[0m\u001b[0m\n\u001b[0;32m     20\u001b[0m                 \u001b[1;32mreturn\u001b[0m \u001b[1;32mTrue\u001b[0m\u001b[1;33m\u001b[0m\u001b[1;33m\u001b[0m\u001b[0m\n",
      "\u001b[1;32m<ipython-input-16-81a205eda3c6>\u001b[0m in \u001b[0;36maccepts_df_ES\u001b[1;34m(P, q, S, w)\u001b[0m\n\u001b[0;32m     10\u001b[0m     \u001b[1;32mif\u001b[0m \u001b[0mw\u001b[0m \u001b[1;33m!=\u001b[0m \u001b[1;34m''\u001b[0m \u001b[1;32mand\u001b[0m \u001b[1;33m(\u001b[0m\u001b[0mq\u001b[0m\u001b[1;33m,\u001b[0m\u001b[0mw\u001b[0m\u001b[1;33m[\u001b[0m\u001b[1;36m0\u001b[0m\u001b[1;33m]\u001b[0m\u001b[1;33m,\u001b[0m\u001b[0mS\u001b[0m\u001b[1;33m[\u001b[0m\u001b[1;36m0\u001b[0m\u001b[1;33m]\u001b[0m\u001b[1;33m)\u001b[0m \u001b[1;32min\u001b[0m \u001b[0mP\u001b[0m\u001b[1;33m[\u001b[0m\u001b[1;34m'Delta'\u001b[0m\u001b[1;33m]\u001b[0m\u001b[1;33m.\u001b[0m\u001b[0mkeys\u001b[0m\u001b[1;33m(\u001b[0m\u001b[1;33m)\u001b[0m\u001b[1;33m:\u001b[0m\u001b[1;33m\u001b[0m\u001b[1;33m\u001b[0m\u001b[0m\n\u001b[0;32m     11\u001b[0m         \u001b[1;32mfor\u001b[0m \u001b[1;33m(\u001b[0m\u001b[0mqn\u001b[0m\u001b[1;33m,\u001b[0m\u001b[0mtoPush\u001b[0m\u001b[1;33m)\u001b[0m \u001b[1;32min\u001b[0m \u001b[0mP\u001b[0m\u001b[1;33m[\u001b[0m\u001b[1;34m'Delta'\u001b[0m\u001b[1;33m]\u001b[0m\u001b[1;33m[\u001b[0m\u001b[1;33m(\u001b[0m\u001b[0mq\u001b[0m\u001b[1;33m,\u001b[0m\u001b[0mw\u001b[0m\u001b[1;33m[\u001b[0m\u001b[1;36m0\u001b[0m\u001b[1;33m]\u001b[0m\u001b[1;33m,\u001b[0m\u001b[0mS\u001b[0m\u001b[1;33m[\u001b[0m\u001b[1;36m0\u001b[0m\u001b[1;33m]\u001b[0m\u001b[1;33m)\u001b[0m\u001b[1;33m]\u001b[0m  \u001b[1;33m:\u001b[0m\u001b[1;33m\u001b[0m\u001b[1;33m\u001b[0m\u001b[0m\n\u001b[1;32m---> 12\u001b[1;33m             \u001b[1;32mif\u001b[0m \u001b[0maccepts_df_ES\u001b[0m\u001b[1;33m(\u001b[0m\u001b[0mP\u001b[0m\u001b[1;33m,\u001b[0m \u001b[0mqn\u001b[0m\u001b[1;33m,\u001b[0m \u001b[0mtoPush\u001b[0m\u001b[1;33m+\u001b[0m\u001b[0mS\u001b[0m\u001b[1;33m[\u001b[0m\u001b[1;36m1\u001b[0m\u001b[1;33m:\u001b[0m\u001b[1;33m]\u001b[0m\u001b[1;33m,\u001b[0m \u001b[0mw\u001b[0m\u001b[1;33m[\u001b[0m\u001b[1;36m1\u001b[0m\u001b[1;33m:\u001b[0m\u001b[1;33m]\u001b[0m\u001b[1;33m)\u001b[0m \u001b[1;33m:\u001b[0m\u001b[1;33m\u001b[0m\u001b[1;33m\u001b[0m\u001b[0m\n\u001b[0m\u001b[0;32m     13\u001b[0m                 \u001b[0mprint\u001b[0m\u001b[1;33m(\u001b[0m\u001b[0mq\u001b[0m \u001b[1;33m+\u001b[0m \u001b[1;34m\"\\t\"\u001b[0m \u001b[1;33m+\u001b[0m \u001b[0mw\u001b[0m \u001b[1;33m+\u001b[0m \u001b[1;34m\"\\t\\t\"\u001b[0m \u001b[1;33m+\u001b[0m \u001b[0mS\u001b[0m\u001b[1;33m)\u001b[0m\u001b[1;33m\u001b[0m\u001b[1;33m\u001b[0m\u001b[0m\n\u001b[0;32m     14\u001b[0m                 \u001b[1;32mreturn\u001b[0m \u001b[1;32mTrue\u001b[0m\u001b[1;33m\u001b[0m\u001b[1;33m\u001b[0m\u001b[0m\n",
      "\u001b[1;32m<ipython-input-16-81a205eda3c6>\u001b[0m in \u001b[0;36maccepts_df_ES\u001b[1;34m(P, q, S, w)\u001b[0m\n\u001b[0;32m     16\u001b[0m     \u001b[1;32mif\u001b[0m \u001b[1;33m(\u001b[0m\u001b[0mq\u001b[0m\u001b[1;33m,\u001b[0m\u001b[1;34m''\u001b[0m\u001b[1;33m,\u001b[0m\u001b[0mS\u001b[0m\u001b[1;33m[\u001b[0m\u001b[1;36m0\u001b[0m\u001b[1;33m]\u001b[0m\u001b[1;33m)\u001b[0m \u001b[1;32min\u001b[0m \u001b[0mP\u001b[0m\u001b[1;33m[\u001b[0m\u001b[1;34m'Delta'\u001b[0m\u001b[1;33m]\u001b[0m\u001b[1;33m.\u001b[0m\u001b[0mkeys\u001b[0m\u001b[1;33m(\u001b[0m\u001b[1;33m)\u001b[0m\u001b[1;33m:\u001b[0m\u001b[1;33m\u001b[0m\u001b[1;33m\u001b[0m\u001b[0m\n\u001b[0;32m     17\u001b[0m         \u001b[1;32mfor\u001b[0m \u001b[1;33m(\u001b[0m\u001b[0mqn\u001b[0m\u001b[1;33m,\u001b[0m\u001b[0mtoPush\u001b[0m\u001b[1;33m)\u001b[0m  \u001b[1;32min\u001b[0m \u001b[0mP\u001b[0m\u001b[1;33m[\u001b[0m\u001b[1;34m'Delta'\u001b[0m\u001b[1;33m]\u001b[0m\u001b[1;33m[\u001b[0m\u001b[1;33m(\u001b[0m\u001b[0mq\u001b[0m\u001b[1;33m,\u001b[0m\u001b[1;34m''\u001b[0m\u001b[1;33m,\u001b[0m\u001b[0mS\u001b[0m\u001b[1;33m[\u001b[0m\u001b[1;36m0\u001b[0m\u001b[1;33m]\u001b[0m\u001b[1;33m)\u001b[0m\u001b[1;33m]\u001b[0m \u001b[1;33m:\u001b[0m\u001b[1;33m\u001b[0m\u001b[1;33m\u001b[0m\u001b[0m\n\u001b[1;32m---> 18\u001b[1;33m             \u001b[1;32mif\u001b[0m \u001b[0maccepts_df_ES\u001b[0m\u001b[1;33m(\u001b[0m\u001b[0mP\u001b[0m\u001b[1;33m,\u001b[0m \u001b[0mqn\u001b[0m\u001b[1;33m,\u001b[0m \u001b[0mtoPush\u001b[0m\u001b[1;33m+\u001b[0m\u001b[0mS\u001b[0m\u001b[1;33m[\u001b[0m\u001b[1;36m1\u001b[0m\u001b[1;33m:\u001b[0m\u001b[1;33m]\u001b[0m\u001b[1;33m,\u001b[0m \u001b[0mw\u001b[0m\u001b[1;33m)\u001b[0m \u001b[1;33m:\u001b[0m\u001b[1;33m\u001b[0m\u001b[1;33m\u001b[0m\u001b[0m\n\u001b[0m\u001b[0;32m     19\u001b[0m                 \u001b[0mprint\u001b[0m\u001b[1;33m(\u001b[0m\u001b[0mq\u001b[0m \u001b[1;33m+\u001b[0m \u001b[1;34m\"\\t\"\u001b[0m \u001b[1;33m+\u001b[0m \u001b[0mw\u001b[0m \u001b[1;33m+\u001b[0m \u001b[1;34m\"\\t\\t\"\u001b[0m \u001b[1;33m+\u001b[0m \u001b[0mS\u001b[0m\u001b[1;33m)\u001b[0m\u001b[1;33m\u001b[0m\u001b[1;33m\u001b[0m\u001b[0m\n\u001b[0;32m     20\u001b[0m                 \u001b[1;32mreturn\u001b[0m \u001b[1;32mTrue\u001b[0m\u001b[1;33m\u001b[0m\u001b[1;33m\u001b[0m\u001b[0m\n",
      "\u001b[1;32m<ipython-input-16-81a205eda3c6>\u001b[0m in \u001b[0;36maccepts_df_ES\u001b[1;34m(P, q, S, w)\u001b[0m\n\u001b[0;32m     10\u001b[0m     \u001b[1;32mif\u001b[0m \u001b[0mw\u001b[0m \u001b[1;33m!=\u001b[0m \u001b[1;34m''\u001b[0m \u001b[1;32mand\u001b[0m \u001b[1;33m(\u001b[0m\u001b[0mq\u001b[0m\u001b[1;33m,\u001b[0m\u001b[0mw\u001b[0m\u001b[1;33m[\u001b[0m\u001b[1;36m0\u001b[0m\u001b[1;33m]\u001b[0m\u001b[1;33m,\u001b[0m\u001b[0mS\u001b[0m\u001b[1;33m[\u001b[0m\u001b[1;36m0\u001b[0m\u001b[1;33m]\u001b[0m\u001b[1;33m)\u001b[0m \u001b[1;32min\u001b[0m \u001b[0mP\u001b[0m\u001b[1;33m[\u001b[0m\u001b[1;34m'Delta'\u001b[0m\u001b[1;33m]\u001b[0m\u001b[1;33m.\u001b[0m\u001b[0mkeys\u001b[0m\u001b[1;33m(\u001b[0m\u001b[1;33m)\u001b[0m\u001b[1;33m:\u001b[0m\u001b[1;33m\u001b[0m\u001b[1;33m\u001b[0m\u001b[0m\n\u001b[0;32m     11\u001b[0m         \u001b[1;32mfor\u001b[0m \u001b[1;33m(\u001b[0m\u001b[0mqn\u001b[0m\u001b[1;33m,\u001b[0m\u001b[0mtoPush\u001b[0m\u001b[1;33m)\u001b[0m \u001b[1;32min\u001b[0m \u001b[0mP\u001b[0m\u001b[1;33m[\u001b[0m\u001b[1;34m'Delta'\u001b[0m\u001b[1;33m]\u001b[0m\u001b[1;33m[\u001b[0m\u001b[1;33m(\u001b[0m\u001b[0mq\u001b[0m\u001b[1;33m,\u001b[0m\u001b[0mw\u001b[0m\u001b[1;33m[\u001b[0m\u001b[1;36m0\u001b[0m\u001b[1;33m]\u001b[0m\u001b[1;33m,\u001b[0m\u001b[0mS\u001b[0m\u001b[1;33m[\u001b[0m\u001b[1;36m0\u001b[0m\u001b[1;33m]\u001b[0m\u001b[1;33m)\u001b[0m\u001b[1;33m]\u001b[0m  \u001b[1;33m:\u001b[0m\u001b[1;33m\u001b[0m\u001b[1;33m\u001b[0m\u001b[0m\n\u001b[1;32m---> 12\u001b[1;33m             \u001b[1;32mif\u001b[0m \u001b[0maccepts_df_ES\u001b[0m\u001b[1;33m(\u001b[0m\u001b[0mP\u001b[0m\u001b[1;33m,\u001b[0m \u001b[0mqn\u001b[0m\u001b[1;33m,\u001b[0m \u001b[0mtoPush\u001b[0m\u001b[1;33m+\u001b[0m\u001b[0mS\u001b[0m\u001b[1;33m[\u001b[0m\u001b[1;36m1\u001b[0m\u001b[1;33m:\u001b[0m\u001b[1;33m]\u001b[0m\u001b[1;33m,\u001b[0m \u001b[0mw\u001b[0m\u001b[1;33m[\u001b[0m\u001b[1;36m1\u001b[0m\u001b[1;33m:\u001b[0m\u001b[1;33m]\u001b[0m\u001b[1;33m)\u001b[0m \u001b[1;33m:\u001b[0m\u001b[1;33m\u001b[0m\u001b[1;33m\u001b[0m\u001b[0m\n\u001b[0m\u001b[0;32m     13\u001b[0m                 \u001b[0mprint\u001b[0m\u001b[1;33m(\u001b[0m\u001b[0mq\u001b[0m \u001b[1;33m+\u001b[0m \u001b[1;34m\"\\t\"\u001b[0m \u001b[1;33m+\u001b[0m \u001b[0mw\u001b[0m \u001b[1;33m+\u001b[0m \u001b[1;34m\"\\t\\t\"\u001b[0m \u001b[1;33m+\u001b[0m \u001b[0mS\u001b[0m\u001b[1;33m)\u001b[0m\u001b[1;33m\u001b[0m\u001b[1;33m\u001b[0m\u001b[0m\n\u001b[0;32m     14\u001b[0m                 \u001b[1;32mreturn\u001b[0m \u001b[1;32mTrue\u001b[0m\u001b[1;33m\u001b[0m\u001b[1;33m\u001b[0m\u001b[0m\n",
      "\u001b[1;32m<ipython-input-16-81a205eda3c6>\u001b[0m in \u001b[0;36maccepts_df_ES\u001b[1;34m(P, q, S, w)\u001b[0m\n\u001b[0;32m     16\u001b[0m     \u001b[1;32mif\u001b[0m \u001b[1;33m(\u001b[0m\u001b[0mq\u001b[0m\u001b[1;33m,\u001b[0m\u001b[1;34m''\u001b[0m\u001b[1;33m,\u001b[0m\u001b[0mS\u001b[0m\u001b[1;33m[\u001b[0m\u001b[1;36m0\u001b[0m\u001b[1;33m]\u001b[0m\u001b[1;33m)\u001b[0m \u001b[1;32min\u001b[0m \u001b[0mP\u001b[0m\u001b[1;33m[\u001b[0m\u001b[1;34m'Delta'\u001b[0m\u001b[1;33m]\u001b[0m\u001b[1;33m.\u001b[0m\u001b[0mkeys\u001b[0m\u001b[1;33m(\u001b[0m\u001b[1;33m)\u001b[0m\u001b[1;33m:\u001b[0m\u001b[1;33m\u001b[0m\u001b[1;33m\u001b[0m\u001b[0m\n\u001b[0;32m     17\u001b[0m         \u001b[1;32mfor\u001b[0m \u001b[1;33m(\u001b[0m\u001b[0mqn\u001b[0m\u001b[1;33m,\u001b[0m\u001b[0mtoPush\u001b[0m\u001b[1;33m)\u001b[0m  \u001b[1;32min\u001b[0m \u001b[0mP\u001b[0m\u001b[1;33m[\u001b[0m\u001b[1;34m'Delta'\u001b[0m\u001b[1;33m]\u001b[0m\u001b[1;33m[\u001b[0m\u001b[1;33m(\u001b[0m\u001b[0mq\u001b[0m\u001b[1;33m,\u001b[0m\u001b[1;34m''\u001b[0m\u001b[1;33m,\u001b[0m\u001b[0mS\u001b[0m\u001b[1;33m[\u001b[0m\u001b[1;36m0\u001b[0m\u001b[1;33m]\u001b[0m\u001b[1;33m)\u001b[0m\u001b[1;33m]\u001b[0m \u001b[1;33m:\u001b[0m\u001b[1;33m\u001b[0m\u001b[1;33m\u001b[0m\u001b[0m\n\u001b[1;32m---> 18\u001b[1;33m             \u001b[1;32mif\u001b[0m \u001b[0maccepts_df_ES\u001b[0m\u001b[1;33m(\u001b[0m\u001b[0mP\u001b[0m\u001b[1;33m,\u001b[0m \u001b[0mqn\u001b[0m\u001b[1;33m,\u001b[0m \u001b[0mtoPush\u001b[0m\u001b[1;33m+\u001b[0m\u001b[0mS\u001b[0m\u001b[1;33m[\u001b[0m\u001b[1;36m1\u001b[0m\u001b[1;33m:\u001b[0m\u001b[1;33m]\u001b[0m\u001b[1;33m,\u001b[0m \u001b[0mw\u001b[0m\u001b[1;33m)\u001b[0m \u001b[1;33m:\u001b[0m\u001b[1;33m\u001b[0m\u001b[1;33m\u001b[0m\u001b[0m\n\u001b[0m\u001b[0;32m     19\u001b[0m                 \u001b[0mprint\u001b[0m\u001b[1;33m(\u001b[0m\u001b[0mq\u001b[0m \u001b[1;33m+\u001b[0m \u001b[1;34m\"\\t\"\u001b[0m \u001b[1;33m+\u001b[0m \u001b[0mw\u001b[0m \u001b[1;33m+\u001b[0m \u001b[1;34m\"\\t\\t\"\u001b[0m \u001b[1;33m+\u001b[0m \u001b[0mS\u001b[0m\u001b[1;33m)\u001b[0m\u001b[1;33m\u001b[0m\u001b[1;33m\u001b[0m\u001b[0m\n\u001b[0;32m     20\u001b[0m                 \u001b[1;32mreturn\u001b[0m \u001b[1;32mTrue\u001b[0m\u001b[1;33m\u001b[0m\u001b[1;33m\u001b[0m\u001b[0m\n",
      "... last 1 frames repeated, from the frame below ...\n",
      "\u001b[1;32m<ipython-input-16-81a205eda3c6>\u001b[0m in \u001b[0;36maccepts_df_ES\u001b[1;34m(P, q, S, w)\u001b[0m\n\u001b[0;32m     16\u001b[0m     \u001b[1;32mif\u001b[0m \u001b[1;33m(\u001b[0m\u001b[0mq\u001b[0m\u001b[1;33m,\u001b[0m\u001b[1;34m''\u001b[0m\u001b[1;33m,\u001b[0m\u001b[0mS\u001b[0m\u001b[1;33m[\u001b[0m\u001b[1;36m0\u001b[0m\u001b[1;33m]\u001b[0m\u001b[1;33m)\u001b[0m \u001b[1;32min\u001b[0m \u001b[0mP\u001b[0m\u001b[1;33m[\u001b[0m\u001b[1;34m'Delta'\u001b[0m\u001b[1;33m]\u001b[0m\u001b[1;33m.\u001b[0m\u001b[0mkeys\u001b[0m\u001b[1;33m(\u001b[0m\u001b[1;33m)\u001b[0m\u001b[1;33m:\u001b[0m\u001b[1;33m\u001b[0m\u001b[1;33m\u001b[0m\u001b[0m\n\u001b[0;32m     17\u001b[0m         \u001b[1;32mfor\u001b[0m \u001b[1;33m(\u001b[0m\u001b[0mqn\u001b[0m\u001b[1;33m,\u001b[0m\u001b[0mtoPush\u001b[0m\u001b[1;33m)\u001b[0m  \u001b[1;32min\u001b[0m \u001b[0mP\u001b[0m\u001b[1;33m[\u001b[0m\u001b[1;34m'Delta'\u001b[0m\u001b[1;33m]\u001b[0m\u001b[1;33m[\u001b[0m\u001b[1;33m(\u001b[0m\u001b[0mq\u001b[0m\u001b[1;33m,\u001b[0m\u001b[1;34m''\u001b[0m\u001b[1;33m,\u001b[0m\u001b[0mS\u001b[0m\u001b[1;33m[\u001b[0m\u001b[1;36m0\u001b[0m\u001b[1;33m]\u001b[0m\u001b[1;33m)\u001b[0m\u001b[1;33m]\u001b[0m \u001b[1;33m:\u001b[0m\u001b[1;33m\u001b[0m\u001b[1;33m\u001b[0m\u001b[0m\n\u001b[1;32m---> 18\u001b[1;33m             \u001b[1;32mif\u001b[0m \u001b[0maccepts_df_ES\u001b[0m\u001b[1;33m(\u001b[0m\u001b[0mP\u001b[0m\u001b[1;33m,\u001b[0m \u001b[0mqn\u001b[0m\u001b[1;33m,\u001b[0m \u001b[0mtoPush\u001b[0m\u001b[1;33m+\u001b[0m\u001b[0mS\u001b[0m\u001b[1;33m[\u001b[0m\u001b[1;36m1\u001b[0m\u001b[1;33m:\u001b[0m\u001b[1;33m]\u001b[0m\u001b[1;33m,\u001b[0m \u001b[0mw\u001b[0m\u001b[1;33m)\u001b[0m \u001b[1;33m:\u001b[0m\u001b[1;33m\u001b[0m\u001b[1;33m\u001b[0m\u001b[0m\n\u001b[0m\u001b[0;32m     19\u001b[0m                 \u001b[0mprint\u001b[0m\u001b[1;33m(\u001b[0m\u001b[0mq\u001b[0m \u001b[1;33m+\u001b[0m \u001b[1;34m\"\\t\"\u001b[0m \u001b[1;33m+\u001b[0m \u001b[0mw\u001b[0m \u001b[1;33m+\u001b[0m \u001b[1;34m\"\\t\\t\"\u001b[0m \u001b[1;33m+\u001b[0m \u001b[0mS\u001b[0m\u001b[1;33m)\u001b[0m\u001b[1;33m\u001b[0m\u001b[1;33m\u001b[0m\u001b[0m\n\u001b[0;32m     20\u001b[0m                 \u001b[1;32mreturn\u001b[0m \u001b[1;32mTrue\u001b[0m\u001b[1;33m\u001b[0m\u001b[1;33m\u001b[0m\u001b[0m\n",
      "\u001b[1;31mRecursionError\u001b[0m: maximum recursion depth exceeded in comparison"
     ]
    }
   ],
   "source": [
    "accepts_ES(Ptopdown,  \"(()())\")"
   ]
  },
  {
   "cell_type": "markdown",
   "metadata": {},
   "source": [
    "É fácil perceber a razão pela qual a função de aceitação não termina. Basta reparar na seguinte execução do autómato:\n",
    "\n",
    "(( )( ))  --     S\n",
    "\n",
    "(( )( ))  --    (S)\n",
    "\n",
    "( )( ))   --    S)\n",
    "\n",
    "( )( ))   --    (S))\n",
    "\n",
    ")( ))     --    S))\n",
    "\n",
    ")( ))     --    SS))\n",
    "\n",
    ")( ))     --    S))\n",
    "\n",
    ")( ))     --    SS))\n",
    "\n",
    "... \n",
    "\n",
    "\n",
    "Note-se que neste ponto não existe qualquer escolha possível de transição que permita saír do ciclo...\n",
    "\n"
   ]
  },
  {
   "cell_type": "markdown",
   "metadata": {},
   "source": [
    "## PDAs Generalizados (exercícios propostos pelo professor)\n",
    "\n",
    "Os autómatos PDA podem ser generalizados permitindo-se a leitura, em cada transição, de uma _sequência de símbolos_ da pilha, em vez de exactamente um símbolo. \n",
    "\n",
    "Tal como referido na aula teórica, isso permitirá definir PDAs para reconhecimento _bottom-up_, como por exemplo o seguinte autómato para a linguagem de parêntesis, que não passa o critério de validade da função `chk_consistent_pda`. \n",
    "\n",
    "| $q$   | $x$           | $Y$             | Nome     | $q'$  | $S'$    |\n",
    "| ------- | --------------- | ----------------- | -------- | ------- | --------- |\n",
    "| $q_1$ | $\\varepsilon$ | [ ), $S$, ( ]   | reduce-1 | $q_1$ | [ $S$ ] |\n",
    "| $q_1$ | $\\varepsilon$ | [ $S$ , $S$ ] | reduce-2 | $q_1$ | [ $S$ ] |\n",
    "| $q_1$ | $\\varepsilon$ | [  ]              | reduce-3 | $q_1$ | [ $S$ ] |\n",
    "| $q_1$ | (               | [ ]               | shift-(  | $q_1$ | [ ( ]     |\n",
    "| $q_1$ | )               | [ ]               | shift-)  | $q_1$ | [ ) ]     |\n",
    "\n",
    "\n",
    "\n"
   ]
  },
  {
   "cell_type": "code",
   "execution_count": 24,
   "metadata": {},
   "outputs": [
    {
     "ename": "AssertionError",
     "evalue": "Delta has illegal stack symbol.",
     "output_type": "error",
     "traceback": [
      "\u001b[1;31m---------------------------------------------------------------------------\u001b[0m",
      "\u001b[1;31mAssertionError\u001b[0m                            Traceback (most recent call last)",
      "\u001b[1;32m<ipython-input-24-42a5ffc174af>\u001b[0m in \u001b[0;36m<module>\u001b[1;34m\u001b[0m\n\u001b[0;32m     11\u001b[0m              \u001b[1;34m'z0'\u001b[0m    \u001b[1;33m:\u001b[0m \u001b[1;34m'S'\u001b[0m\u001b[1;33m,\u001b[0m\u001b[1;33m\u001b[0m\u001b[1;33m\u001b[0m\u001b[0m\n\u001b[0;32m     12\u001b[0m              'F'     : set({  }) }\n\u001b[1;32m---> 13\u001b[1;33m \u001b[0mchk_consistent_pda\u001b[0m\u001b[1;33m(\u001b[0m\u001b[0mPbottomup\u001b[0m\u001b[1;33m)\u001b[0m\u001b[1;33m\u001b[0m\u001b[1;33m\u001b[0m\u001b[0m\n\u001b[0m",
      "\u001b[1;32m~\\Documents\\GitHub\\Jove\\jove\\DotBashers.py\u001b[0m in \u001b[0;36mchk_consistent_pda\u001b[1;34m(P)\u001b[0m\n\u001b[0;32m    160\u001b[0m         assert(\n\u001b[0;32m    161\u001b[0m             \u001b[1;33m(\u001b[0m\u001b[0mstksymb\u001b[0m \u001b[1;32min\u001b[0m \u001b[0mGamma\u001b[0m\u001b[1;33m)\u001b[0m \u001b[1;32mor\u001b[0m \u001b[1;33m(\u001b[0m\u001b[0mstksymb\u001b[0m \u001b[1;33m==\u001b[0m \u001b[1;34m\"\"\u001b[0m\u001b[1;33m)\u001b[0m\u001b[1;33m\u001b[0m\u001b[1;33m\u001b[0m\u001b[0m\n\u001b[1;32m--> 162\u001b[1;33m         ), \"Delta has illegal stack symbol.\"\n\u001b[0m\u001b[0;32m    163\u001b[0m         \u001b[1;32mfor\u001b[0m \u001b[0mtrg\u001b[0m \u001b[1;32min\u001b[0m \u001b[0mtrTrg\u001b[0m\u001b[1;33m(\u001b[0m\u001b[0mtrans\u001b[0m\u001b[1;33m)\u001b[0m\u001b[1;33m:\u001b[0m\u001b[1;33m\u001b[0m\u001b[1;33m\u001b[0m\u001b[0m\n\u001b[0;32m    164\u001b[0m             assert(\n",
      "\u001b[1;31mAssertionError\u001b[0m: Delta has illegal stack symbol."
     ]
    }
   ],
   "source": [
    "Pbottomup = {'Sigma' : {'(',')'},\n",
    "             'Q'     : {'q1'},\n",
    "             'Gamma' : {'(',')','S'},\n",
    "             'Delta' : {('q1', '' , ')S(')   :    {('q1','(S)')},\n",
    "                        ('q1', '' , 'SS')    :    {('q1','(S)')},\n",
    "                        ('q1', '' , '')      :    {('q1','(S)')},\n",
    "                        ('q1', '(', '')      :    {('q1','(')},\n",
    "                        ('q1', ')', '')      :    {('q1',')')}\n",
    "                      },\n",
    "             'q0'    : 'q1',\n",
    "             'z0'    : 'S',\n",
    "             'F'     : set({  }) }\n",
    "chk_consistent_pda(Pbottomup)"
   ]
  },
  {
   "cell_type": "markdown",
   "metadata": {},
   "source": [
    "Como verificámos a coerência destes autómatos generalizados não é verificada, pelo que torna-se importante criarmos uma função que nos verifique a coerência destes PDA generalizados.\n",
    "\n",
    "Para tal temos que garantir vários pontos:\n",
    "\n",
    "* **Conjunto de estados**\n",
    "    \n",
    "    No que diz respeito ao conjunto de estados do autómato $Q$ precisámos de garantir que não se trata de um conjunto vazio.\n",
    "    \n",
    "    \n",
    "* **Alfabeto Sigma**\n",
    "    \n",
    "    Relativamente ao alfabeto que contém os símbolos lidos pelo autómato, precisámos de garantir que este não é um conjunto vazio. Para além disso, o conjunto de símbolos tem de ser um sub-conjunto em relação ao alfabeto Gamma. \n",
    "    \n",
    "\n",
    "* **Alfabeto Gamma**\n",
    "    \n",
    "    O alfabeto Gamma ao tratar-se do conjunto de símbolos que podem ser inseridos na pilha, para verificar a coerência do autómato, temos de garantir que não se trata de um conjunto vazio. \n",
    "\n",
    "\n",
    "* **Função de transição**\n",
    "    \n",
    "    É importante para perceber o funcionamento dos PDA perceber como se processa a função de transição. \n",
    "        \n",
    "    Assim, temos vários pontos que temos de testar ao nível da coerência destes autómatos:\n",
    "    \n",
    " 1. O domínio da função de transição diferencia-se em relação aos PDA, o facto de agora permitir a leitura de mais do que um símbolo do alfabeto Gamma, ao invés de um só símbolo, assim para verificarmos este domínio usámos a função `verificar_dom`. Nesta função vai verificar para cada trio (a,b,c) pertencente ao domínio da função de transição, se:\n",
    " \n",
    " \n",
    "   * existe algum **a** que não pertença ao conjunto de estados do autómato;\n",
    "   * existe algum **b** que não pertença ao alfabeto *Sigma* mais a palavra vazia;\n",
    "   * para a string associada a c, se existe algum símbolo que não pertença ao alfabeto Gamma;\n",
    "            \n",
    "     Caso, se verifique algo que foge então a estas 3 condições a função retornará logo False, retornando True, quando se verificam as 3 condições. \n",
    "        \n",
    "        \n",
    " 2. Relativamente ao co-domínio desta função temos de garantir que esta resulte num par (estado, símbolo da stack). \n",
    "       Para tal criámos a função `termina_Q_Z_Kleen`que testará então este segundo ponto. Ou seja, por um lado, vai à segunda coordenada do par e verificar se existe algum símbolo lá presente que não pertença ao alfabeto Gamma, pois neste caso, terá de retornar logo False. Por outro lado, em relação à primeira coordenada vai verificar se existe algum caso em que não corresponda a um estado do autómato, onde nesse caso, irá retornar False.  \n",
    "       \n",
    "\n",
    "* **Estado Inicial** \n",
    "    \n",
    "    Relativamente, ao estado inicial precisámos apenas de garantir que este pertence ao conjunto de estados $Q$.\n",
    "    \n",
    "    \n",
    "* **Conjunto de estados finais**\n",
    "    \n",
    "    No que diz respeito, ao conjunto de estados finais precisámos de garantir que é um sub-conjunto do conjunto de estados iniciais.\n",
    "    \n",
    "    \n",
    "* **Símbolo Inicial da Stack**\n",
    "\n",
    "    Relativamente a z0, precisámos de garantir que pertence ao alfabeto Gamma e que não é a palavra vazia, dado que a definição de transição obriga a que seja sempre popped (retirado) um símbolo da pilha, e como tal não haverá transições quando a pilha está vazia. \n",
    "    \n",
    "    \n",
    "Assim, se se verificar as condições, anteriormente, descritas a função retornar True e caso contrário False, indicando não se verificar a coerência do autómato.\n",
    "\n",
    "De seguida, então apresentámos a exemplificação da função anteriormente descrita.\n"
   ]
  },
  {
   "cell_type": "code",
   "execution_count": 25,
   "metadata": {},
   "outputs": [],
   "source": [
    "def verificar_dom (D):\n",
    "    \n",
    "    Sigma_E = (D [\"Sigma\"] | set ({ \"\"}))\n",
    "   \n",
    "    for (a,b,c) in (fn_dom (D [\"Delta\"])):\n",
    "        if a not in D [\"Q\"]:\n",
    "            return False\n",
    "        if b not in Sigma_E:\n",
    "            return False\n",
    "        for i in c:\n",
    "            if i not in (D [\"Gamma\"]):\n",
    "                return False \n",
    "    \n",
    "    return True"
   ]
  },
  {
   "cell_type": "code",
   "execution_count": 26,
   "metadata": {},
   "outputs": [],
   "source": [
    "def termina_Q_Z_Kleen (D):\n",
    "    \n",
    "    Range = fn_range (D[\"Delta\"])\n",
    "    Q = D[\"Q\"]\n",
    "    for i in Range:\n",
    "        #print(i)\n",
    "        for n in i:\n",
    "            #print(n)\n",
    "            for e in list (n [1]):\n",
    "                #print(e)\n",
    "                    if e not in (D[\"Gamma\"]):\n",
    "                          return False\n",
    "                        \n",
    "        for (a,b) in i:\n",
    "            #print (a)\n",
    "            if a not in Q:\n",
    "                return False\n",
    "            \n",
    "    return True  "
   ]
  },
  {
   "cell_type": "code",
   "execution_count": 27,
   "metadata": {},
   "outputs": [],
   "source": [
    "def chk_consistent_gpda_DC (D):\n",
    "\n",
    "    Q     = D[\"Q\"]\n",
    "    Sigma = D[\"Sigma\"]\n",
    "    Gamma = D[\"Gamma\"]\n",
    "    Delta = D[\"Delta\"]\n",
    "    Q0    = D[\"q0\"]\n",
    "    z0    = D[\"z0\"]\n",
    "    F     = D[\"F\"]\n",
    "    \n",
    "    dom_Delta = set (fn_dom (Delta))\n",
    "    Sigma_E = (Sigma | set ({ \"\"}))\n",
    "    \n",
    "    #if (z0 != \"\"):\n",
    "     #   z0 in Gamma\n",
    "      #  Sigma < Gamma\n",
    "    #else:\n",
    "     #   assert(Sigma <= Gamma),\"PDA's Sigma not contained in Gamma.\"\n",
    "    \n",
    "    return ( Q != {} and \n",
    "             Sigma != {} and\n",
    "             Gamma != {} and\n",
    "             Sigma < Gamma and\n",
    "             z0 in Gamma and\n",
    "             z0 not in Sigma and\n",
    "             \"\" not in Gamma and\n",
    "            termina_Q_Z_Kleen (D)== True and \n",
    "             verificar_dom (D) == True and          \n",
    "             Q0 in Q and \n",
    "             F <= Q)    "
   ]
  },
  {
   "cell_type": "markdown",
   "metadata": {},
   "source": [
    "Vamos verificar a coerência do autómato PDA `Pbottomup`."
   ]
  },
  {
   "cell_type": "code",
   "execution_count": 29,
   "metadata": {},
   "outputs": [
    {
     "data": {
      "text/plain": [
       "True"
      ]
     },
     "execution_count": 29,
     "metadata": {},
     "output_type": "execute_result"
    }
   ],
   "source": [
    "chk_consistent_gpda_DC(Pbottomup)"
   ]
  },
  {
   "cell_type": "markdown",
   "metadata": {},
   "source": [
    "Assim, podmeos concluir que `Pbottomup` não é coerente."
   ]
  },
  {
   "cell_type": "markdown",
   "metadata": {},
   "source": [
    "### accepts_gES (NOTA dos criadores do trabalho de grupo)"
   ]
  },
  {
   "cell_type": "markdown",
   "metadata": {},
   "source": [
    "A função `accepts_gES` é uma função de aceitação (_empty stack_) para autómatos generalizados. Para esat função, consideramos que a pilha é inicializada vazia, e uma palavra é aceite quando depois de inteiramente lida, a pilha contém apenas o símbolo especial 'z0'.\n",
    "\n",
    "No entanto, em computação, é muito difícil tornar os métodos para a construção de autómatos PDA por *Top-Down* e *Bottom-Up* em processos determinísticos e eficientes. Por esta razão, não apresentamos uma definição (feita por nós) para `accepts_gES`.\n"
   ]
  }
 ],
 "metadata": {
  "kernelspec": {
   "display_name": "Python 3",
   "language": "python",
   "name": "python3"
  },
  "language_info": {
   "codemirror_mode": {
    "name": "ipython",
    "version": 3
   },
   "file_extension": ".py",
   "mimetype": "text/x-python",
   "name": "python",
   "nbconvert_exporter": "python",
   "pygments_lexer": "ipython3",
   "version": "3.7.4"
  }
 },
 "nbformat": 4,
 "nbformat_minor": 2
}
