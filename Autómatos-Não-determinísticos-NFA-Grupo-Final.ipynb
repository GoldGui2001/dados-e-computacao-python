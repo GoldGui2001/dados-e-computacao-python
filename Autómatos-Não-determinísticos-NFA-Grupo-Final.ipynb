{
 "cells": [
  {
   "cell_type": "markdown",
   "metadata": {},
   "source": [
    "# Trabalho de grupo\n",
    "##### Elementos do grupo:\n",
    "- Guilherme Sousa Silva Martins, A92847\n",
    "- Maria Miguel de Oliveira Soares, A92826\n",
    "\n",
    "##### Mestrado Integrado em Engenharia Física - 1º Ano - 2º Semestre;      Universidade do Minho;    2020\n",
    "### - Unidade Curricular: Dados e Computação (DC);                         Professor: Jorge Sousa Pinto\n",
    "\n",
    "##### Bibliografia: 'Automata and Computability: A Programmer's Perspective', por Ganesh Gopalakrishnan"
   ]
  },
  {
   "cell_type": "markdown",
   "metadata": {},
   "source": [
    "ESPAÇO DEDICADO à Importação de funções do JOVE:"
   ]
  },
  {
   "cell_type": "code",
   "execution_count": 1,
   "metadata": {},
   "outputs": [
    {
     "name": "stdout",
     "output_type": "stream",
     "text": [
      "You may use any of these help commands:\n",
      "help(ResetStNum)\n",
      "help(NxtStateStr)\n",
      "\n",
      "The DFA are NOT language equivalent!\n",
      "Path leading to counterexample is: \n",
      "[(('IF', 'IF'), ('IF', 'IF')), (('A', 'A'), ('A', 'A')), (('B', 'B'), ('B', 'B'))]\n"
     ]
    }
   ],
   "source": [
    "import sys\n",
    "sys.path[0:0] = ['..','../3rdparty'] # Put these at the head of the search path\n",
    "\n",
    "# Make imports better (narrower) eventually\n",
    "from jove.ShrinkStates import shrink_dfastates\n",
    "from jove.ShrinkStates import shrink_nfastates\n",
    "from jove.ShrinkStates import mkSSnam\n",
    "from jove.Module3_DFA  import mk_dfa\n",
    "from jove.DotBashers          import *\n",
    "from jove.TransitionSelectors import *\n",
    "from jove.SystemImports       import *\n",
    "\n",
    "import os\n",
    "os.environ[\"PATH\"] += os.pathsep + 'C:/Program Files (x86)/Graphviz2.38/bin/'"
   ]
  },
  {
   "cell_type": "markdown",
   "metadata": {},
   "source": [
    "Os conjuntos de funções importados anteriormente pretencem ao JOVE e serão bastante úteis para a construção de autómatos.\n",
    "\n",
    "# Autómatos não determinísticos (NFA) "
   ]
  },
  {
   "cell_type": "markdown",
   "metadata": {},
   "source": [
    "Outra vertente dos autómatos para além dos determinísticos são os **autómatos não determinísticos**. \n",
    "\n",
    "\n",
    "Formalmente, um autómato não determinístico caracteriza-se por ser um tuplo $(Q, \\Sigma, \\delta, Q_0,F)$\n",
    "\n",
    "  * $Q$ - representa o conjunto de estados do autómato, finito e não vazio de estados;\n",
    "  * $\\Sigma$ - representa o alfabeto de simbolos, igualmente, finito e não vazio;\n",
    "  * $\\delta$ - é uma função de transição (total, ou seja, está definida para todos os *inputs*), representa o conjunto de transições, ;\n",
    "  * $Q_0$ - representa o conjunto de estados iniciais do autómato;\n",
    "  * $F$ - representa o conjunto de estado finais do autómato e possivelmente vazio.\n",
    "  \n",
    "Antes de iniciarmos o estudo dos autómatos não-determinísticos (NFA), precismaos de relembrar que um DFA (autómato determinístico finito) é um tuplo $(Q, \\Sigma, \\delta, Q_0,F)$. As diferenças dos NFA relativamente aos DFAs são apenas duas:\n",
    "\n",
    "* o tipo da função de transição é agora $\\delta : Q \\times \\Sigma_\\varepsilon \\to \\mathcal{P}(Q)$, ou seja, cada transição resulta num _conjunto de estados_ (ao invés de num único estado como nos DFAs), e por outro lado as transições podem estar associadas à palavra vazia, ou seja, pode não ser consumido qualquer símbolo durante uma transição\n",
    "\n",
    "* existe agora um _conjunto de estados iniciais_, em vez de um único como nos DFAs\n",
    "\n",
    "\n"
   ]
  },
  {
   "cell_type": "markdown",
   "metadata": {},
   "source": [
    "## Construção de Autómatos Não-Determinísticos (NFA)\n",
    "\n"
   ]
  },
  {
   "cell_type": "markdown",
   "metadata": {},
   "source": [
    "Agora virando para o nosso foco ao nível do Jove, um autómato não determinístico será também representado por um dicionários com 5 campos, onde então cada campo seguirá as características já referidas para cada um deles, anteriormente. \n",
    "\n",
    "De seguida, vamos então exemplificar como é então descrito um autómato com base em dicionários. "
   ]
  },
  {
   "cell_type": "code",
   "execution_count": 2,
   "metadata": {},
   "outputs": [
    {
     "data": {
      "text/plain": [
       "{'Q': {'F', 'I', 'S0', 'S1'},\n",
       " 'Sigma': {'0', '1'},\n",
       " 'Delta': {('I', '0'): {'I'},\n",
       "  ('I', '1'): {'I', 'S0'},\n",
       "  ('S0', '0'): {'S1'},\n",
       "  ('S0', '1'): {'S1'},\n",
       "  ('S1', '0'): {'F'},\n",
       "  ('S1', '1'): {'F'}},\n",
       " 'Q0': {'I'},\n",
       " 'F': {'F'}}"
      ]
     },
     "execution_count": 2,
     "metadata": {},
     "output_type": "execute_result"
    }
   ],
   "source": [
    "NFA_antep1a = { 'Q': {'I', 'S0', 'S1', 'F'},\n",
    "                'Sigma': {'0', '1'},\n",
    "                'Delta': {   # \n",
    "                             ('I', '0')  : {'I'},\n",
    "                             ('I', '1')  : {'I', 'S0'},\n",
    "                             #\n",
    "                             ('S0', '0') : {'S1'},\n",
    "                             ('S0', '1') : {'S1'},\n",
    "                             #\n",
    "                             ('S1', '0') : {'F'},\n",
    "                             ('S1', '1') : {'F'}},\n",
    "                  'Q0': {'I'}, \n",
    "                  'F' : {'F'}   \n",
    "               }\n",
    "\n",
    "NFA_antep1a\n",
    "\n",
    "\n"
   ]
  },
  {
   "cell_type": "markdown",
   "metadata": {},
   "source": [
    "Ora, será então importante notar que:\n",
    "* os campos $Q$, $\\Sigma$, $Q_0$ e $F$ são conjuntos;\n",
    "\n",
    "* o campo Delta, é tal como nos DFAs ainda um dicionário - a estrutura adequada para a representação de funções. As chaves deste dicionário são pares (estado, símbolo), e os valores são _conjuntos de estados_ resultantes de cada transição.\n",
    "\n",
    "Para a visualização dos NFA, vamos fazer uso de uma função específica para tal, a `dotObj_nfa`. Onde ilustrámos de seguida a sua aplicação. \n"
   ]
  },
  {
   "cell_type": "code",
   "execution_count": 3,
   "metadata": {},
   "outputs": [
    {
     "data": {
      "image/svg+xml": [
       "<?xml version=\"1.0\" encoding=\"UTF-8\" standalone=\"no\"?>\r\n",
       "<!DOCTYPE svg PUBLIC \"-//W3C//DTD SVG 1.1//EN\"\r\n",
       " \"http://www.w3.org/Graphics/SVG/1.1/DTD/svg11.dtd\">\r\n",
       "<!-- Generated by graphviz version 2.38.0 (20140413.2041)\r\n",
       " -->\r\n",
       "<!-- Title: %3 Pages: 1 -->\r\n",
       "<svg width=\"403pt\" height=\"114pt\"\r\n",
       " viewBox=\"0.00 0.00 403.19 114.00\" xmlns=\"http://www.w3.org/2000/svg\" xmlns:xlink=\"http://www.w3.org/1999/xlink\">\r\n",
       "<g id=\"graph0\" class=\"graph\" transform=\"scale(1 1) rotate(0) translate(4 110)\">\r\n",
       "<title>%3</title>\r\n",
       "<polygon fill=\"white\" stroke=\"none\" points=\"-4,4 -4,-110 399.193,-110 399.193,4 -4,4\"/>\r\n",
       "<!-- EMPTY -->\r\n",
       "<g id=\"node1\" class=\"node\"><title>EMPTY</title>\r\n",
       "</g>\r\n",
       "<!-- I -->\r\n",
       "<g id=\"node2\" class=\"node\"><title>I</title>\r\n",
       "<ellipse fill=\"none\" stroke=\"black\" cx=\"109\" cy=\"-22\" rx=\"18\" ry=\"18\"/>\r\n",
       "<text text-anchor=\"middle\" x=\"109\" y=\"-18.3\" font-family=\"Times New Roman,serif\" font-size=\"14.00\">I</text>\r\n",
       "</g>\r\n",
       "<!-- EMPTY&#45;&gt;I -->\r\n",
       "<g id=\"edge1\" class=\"edge\"><title>EMPTY&#45;&gt;I</title>\r\n",
       "<path fill=\"none\" stroke=\"black\" d=\"M54.195,-22C62.6538,-22 72.0513,-22 80.5951,-22\"/>\r\n",
       "<polygon fill=\"black\" stroke=\"black\" points=\"80.8257,-25.5001 90.8257,-22 80.8257,-18.5001 80.8257,-25.5001\"/>\r\n",
       "</g>\r\n",
       "<!-- I&#45;&gt;I -->\r\n",
       "<g id=\"edge2\" class=\"edge\"><title>I&#45;&gt;I</title>\r\n",
       "<path fill=\"none\" stroke=\"black\" d=\"M105.764,-39.7817C105.214,-49.3149 106.293,-58 109,-58 110.65,-58 111.694,-54.7749 112.135,-50.0981\"/>\r\n",
       "<polygon fill=\"black\" stroke=\"black\" points=\"115.638,-49.8156 112.236,-39.7817 108.638,-49.7469 115.638,-49.8156\"/>\r\n",
       "<text text-anchor=\"middle\" x=\"109\" y=\"-61.8\" font-family=\"Times New Roman,serif\" font-size=\"14.00\">0 </text>\r\n",
       "</g>\r\n",
       "<!-- I&#45;&gt;I -->\r\n",
       "<g id=\"edge3\" class=\"edge\"><title>I&#45;&gt;I</title>\r\n",
       "<path fill=\"none\" stroke=\"black\" d=\"M103.684,-39.4203C100.654,-56.791 102.426,-76 109,-76 114.29,-76 116.471,-63.5617 115.542,-49.652\"/>\r\n",
       "<polygon fill=\"black\" stroke=\"black\" points=\"118.981,-48.9328 114.316,-39.4203 112.031,-49.7657 118.981,-48.9328\"/>\r\n",
       "<text text-anchor=\"middle\" x=\"109\" y=\"-79.8\" font-family=\"Times New Roman,serif\" font-size=\"14.00\">1 </text>\r\n",
       "</g>\r\n",
       "<!-- S0 -->\r\n",
       "<g id=\"node4\" class=\"node\"><title>S0</title>\r\n",
       "<ellipse fill=\"none\" stroke=\"black\" cx=\"194.798\" cy=\"-22\" rx=\"20.5982\" ry=\"20.5982\"/>\r\n",
       "<text text-anchor=\"middle\" x=\"194.798\" y=\"-18.3\" font-family=\"Times New Roman,serif\" font-size=\"14.00\">S0</text>\r\n",
       "</g>\r\n",
       "<!-- I&#45;&gt;S0 -->\r\n",
       "<g id=\"edge4\" class=\"edge\"><title>I&#45;&gt;S0</title>\r\n",
       "<path fill=\"none\" stroke=\"black\" d=\"M127.363,-22C137.819,-22 151.423,-22 163.595,-22\"/>\r\n",
       "<polygon fill=\"black\" stroke=\"black\" points=\"163.808,-25.5001 173.808,-22 163.808,-18.5001 163.808,-25.5001\"/>\r\n",
       "<text text-anchor=\"middle\" x=\"150.5\" y=\"-25.8\" font-family=\"Times New Roman,serif\" font-size=\"14.00\">1 </text>\r\n",
       "</g>\r\n",
       "<!-- S1 -->\r\n",
       "<g id=\"node3\" class=\"node\"><title>S1</title>\r\n",
       "<ellipse fill=\"none\" stroke=\"black\" cx=\"283.394\" cy=\"-22\" rx=\"20.5982\" ry=\"20.5982\"/>\r\n",
       "<text text-anchor=\"middle\" x=\"283.394\" y=\"-18.3\" font-family=\"Times New Roman,serif\" font-size=\"14.00\">S1</text>\r\n",
       "</g>\r\n",
       "<!-- F -->\r\n",
       "<g id=\"node5\" class=\"node\"><title>F</title>\r\n",
       "<ellipse fill=\"none\" stroke=\"black\" cx=\"373.193\" cy=\"-22\" rx=\"18\" ry=\"18\"/>\r\n",
       "<ellipse fill=\"none\" stroke=\"black\" cx=\"373.193\" cy=\"-22\" rx=\"22\" ry=\"22\"/>\r\n",
       "<text text-anchor=\"middle\" x=\"373.193\" y=\"-18.3\" font-family=\"Times New Roman,serif\" font-size=\"14.00\">F</text>\r\n",
       "</g>\r\n",
       "<!-- S1&#45;&gt;F -->\r\n",
       "<g id=\"edge7\" class=\"edge\"><title>S1&#45;&gt;F</title>\r\n",
       "<path fill=\"none\" stroke=\"black\" d=\"M304.317,-22C315.117,-22 328.711,-22 340.89,-22\"/>\r\n",
       "<polygon fill=\"black\" stroke=\"black\" points=\"341.124,-25.5001 351.124,-22 341.124,-18.5001 341.124,-25.5001\"/>\r\n",
       "<text text-anchor=\"middle\" x=\"327.693\" y=\"-25.8\" font-family=\"Times New Roman,serif\" font-size=\"14.00\">0 </text>\r\n",
       "</g>\r\n",
       "<!-- S1&#45;&gt;F -->\r\n",
       "<g id=\"edge8\" class=\"edge\"><title>S1&#45;&gt;F</title>\r\n",
       "<path fill=\"none\" stroke=\"black\" d=\"M301.435,-11.3209C307.716,-7.96503 315.046,-4.69507 322.193,-3 329.771,-1.20242 337.751,-2.62232 345.056,-5.34433\"/>\r\n",
       "<polygon fill=\"black\" stroke=\"black\" points=\"343.949,-8.6876 354.497,-9.68337 346.872,-2.32716 343.949,-8.6876\"/>\r\n",
       "<text text-anchor=\"middle\" x=\"327.693\" y=\"-6.8\" font-family=\"Times New Roman,serif\" font-size=\"14.00\">1 </text>\r\n",
       "</g>\r\n",
       "<!-- S0&#45;&gt;S1 -->\r\n",
       "<g id=\"edge5\" class=\"edge\"><title>S0&#45;&gt;S1</title>\r\n",
       "<path fill=\"none\" stroke=\"black\" d=\"M215.883,-22C226.703,-22 240.269,-22 252.323,-22\"/>\r\n",
       "<polygon fill=\"black\" stroke=\"black\" points=\"252.419,-25.5001 262.419,-22 252.419,-18.5001 252.419,-25.5001\"/>\r\n",
       "<text text-anchor=\"middle\" x=\"239.096\" y=\"-25.8\" font-family=\"Times New Roman,serif\" font-size=\"14.00\">0 </text>\r\n",
       "</g>\r\n",
       "<!-- S0&#45;&gt;S1 -->\r\n",
       "<g id=\"edge6\" class=\"edge\"><title>S0&#45;&gt;S1</title>\r\n",
       "<path fill=\"none\" stroke=\"black\" d=\"M212.838,-11.3209C219.119,-7.96503 226.45,-4.69507 233.596,-3 241.259,-1.18242 249.323,-2.7704 256.64,-5.66733\"/>\r\n",
       "<polygon fill=\"black\" stroke=\"black\" points=\"255.522,-9.01481 266.046,-10.2321 258.578,-2.71722 255.522,-9.01481\"/>\r\n",
       "<text text-anchor=\"middle\" x=\"239.096\" y=\"-6.8\" font-family=\"Times New Roman,serif\" font-size=\"14.00\">1 </text>\r\n",
       "</g>\r\n",
       "</g>\r\n",
       "</svg>\r\n"
      ],
      "text/plain": [
       "<graphviz.dot.Digraph at 0x1aa9dfc1208>"
      ]
     },
     "execution_count": 3,
     "metadata": {},
     "output_type": "execute_result"
    }
   ],
   "source": [
    "dotObj_nfa(NFA_antep1a)"
   ]
  },
  {
   "cell_type": "markdown",
   "metadata": {},
   "source": [
    "Como, inicialmente, referimos estes autómatos tem a particularidade de as transições poderem estar associadas à palavra vazia,  pelo que como os símbolos são representados por uma string, é importante notar que para estes casos onde as transições não consomem qualquer símbolo utilzaremos simplesmente a string vazia, como no exemplo seguinte mostrámos:"
   ]
  },
  {
   "cell_type": "code",
   "execution_count": 4,
   "metadata": {},
   "outputs": [],
   "source": [
    "NFA_antep1b = { 'Q': {'I', 'S0', 'S1', 'S2', 'F'},\n",
    "                'Sigma': {'0', '1'},\n",
    "                'Delta': {   # \n",
    "                             ('I', '0')  : {'I'},\n",
    "                             ('I', '1')  : {'I'},\n",
    "                             ('I', '')   : {'S0'},\n",
    "                             #\n",
    "                             ('S0', '1') : {'S1'},\n",
    "                             # ('S0', '0') : set({}),\n",
    "                             #\n",
    "                             ('S1', '0') : {'S2'},\n",
    "                             ('S1', '1') : {'S2'},\n",
    "                             #\n",
    "                             ('S2', '0') : {'F'},\n",
    "                             ('S2', '1') : {'F'} },\n",
    "                             #\n",
    "                             # ('F', '0') : set({}),\n",
    "                             # ('F', '1') : set({}),\n",
    "\n",
    "                  'Q0': {'I'}, \n",
    "                  'F' : {'F'}   \n",
    "                }\n"
   ]
  },
  {
   "cell_type": "code",
   "execution_count": 5,
   "metadata": {},
   "outputs": [
    {
     "data": {
      "image/svg+xml": [
       "<?xml version=\"1.0\" encoding=\"UTF-8\" standalone=\"no\"?>\r\n",
       "<!DOCTYPE svg PUBLIC \"-//W3C//DTD SVG 1.1//EN\"\r\n",
       " \"http://www.w3.org/Graphics/SVG/1.1/DTD/svg11.dtd\">\r\n",
       "<!-- Generated by graphviz version 2.38.0 (20140413.2041)\r\n",
       " -->\r\n",
       "<!-- Title: %3 Pages: 1 -->\r\n",
       "<svg width=\"491pt\" height=\"114pt\"\r\n",
       " viewBox=\"0.00 0.00 490.79 114.00\" xmlns=\"http://www.w3.org/2000/svg\" xmlns:xlink=\"http://www.w3.org/1999/xlink\">\r\n",
       "<g id=\"graph0\" class=\"graph\" transform=\"scale(1 1) rotate(0) translate(4 110)\">\r\n",
       "<title>%3</title>\r\n",
       "<polygon fill=\"white\" stroke=\"none\" points=\"-4,4 -4,-110 486.789,-110 486.789,4 -4,4\"/>\r\n",
       "<!-- EMPTY -->\r\n",
       "<g id=\"node1\" class=\"node\"><title>EMPTY</title>\r\n",
       "</g>\r\n",
       "<!-- I -->\r\n",
       "<g id=\"node3\" class=\"node\"><title>I</title>\r\n",
       "<ellipse fill=\"none\" stroke=\"black\" cx=\"109\" cy=\"-22\" rx=\"18\" ry=\"18\"/>\r\n",
       "<text text-anchor=\"middle\" x=\"109\" y=\"-18.3\" font-family=\"Times New Roman,serif\" font-size=\"14.00\">I</text>\r\n",
       "</g>\r\n",
       "<!-- EMPTY&#45;&gt;I -->\r\n",
       "<g id=\"edge1\" class=\"edge\"><title>EMPTY&#45;&gt;I</title>\r\n",
       "<path fill=\"none\" stroke=\"black\" d=\"M54.195,-22C62.6538,-22 72.0513,-22 80.5951,-22\"/>\r\n",
       "<polygon fill=\"black\" stroke=\"black\" points=\"80.8257,-25.5001 90.8257,-22 80.8257,-18.5001 80.8257,-25.5001\"/>\r\n",
       "</g>\r\n",
       "<!-- S2 -->\r\n",
       "<g id=\"node2\" class=\"node\"><title>S2</title>\r\n",
       "<ellipse fill=\"none\" stroke=\"black\" cx=\"370.991\" cy=\"-22\" rx=\"20.5982\" ry=\"20.5982\"/>\r\n",
       "<text text-anchor=\"middle\" x=\"370.991\" y=\"-18.3\" font-family=\"Times New Roman,serif\" font-size=\"14.00\">S2</text>\r\n",
       "</g>\r\n",
       "<!-- F -->\r\n",
       "<g id=\"node6\" class=\"node\"><title>F</title>\r\n",
       "<ellipse fill=\"none\" stroke=\"black\" cx=\"460.789\" cy=\"-22\" rx=\"18\" ry=\"18\"/>\r\n",
       "<ellipse fill=\"none\" stroke=\"black\" cx=\"460.789\" cy=\"-22\" rx=\"22\" ry=\"22\"/>\r\n",
       "<text text-anchor=\"middle\" x=\"460.789\" y=\"-18.3\" font-family=\"Times New Roman,serif\" font-size=\"14.00\">F</text>\r\n",
       "</g>\r\n",
       "<!-- S2&#45;&gt;F -->\r\n",
       "<g id=\"edge8\" class=\"edge\"><title>S2&#45;&gt;F</title>\r\n",
       "<path fill=\"none\" stroke=\"black\" d=\"M391.914,-22C402.714,-22 416.307,-22 428.487,-22\"/>\r\n",
       "<polygon fill=\"black\" stroke=\"black\" points=\"428.721,-25.5001 438.721,-22 428.721,-18.5001 428.721,-25.5001\"/>\r\n",
       "<text text-anchor=\"middle\" x=\"415.289\" y=\"-25.8\" font-family=\"Times New Roman,serif\" font-size=\"14.00\">0 </text>\r\n",
       "</g>\r\n",
       "<!-- S2&#45;&gt;F -->\r\n",
       "<g id=\"edge9\" class=\"edge\"><title>S2&#45;&gt;F</title>\r\n",
       "<path fill=\"none\" stroke=\"black\" d=\"M389.031,-11.3209C395.312,-7.96503 402.643,-4.69507 409.789,-3 417.367,-1.20242 425.347,-2.62232 432.652,-5.34433\"/>\r\n",
       "<polygon fill=\"black\" stroke=\"black\" points=\"431.545,-8.6876 442.093,-9.68337 434.468,-2.32716 431.545,-8.6876\"/>\r\n",
       "<text text-anchor=\"middle\" x=\"415.289\" y=\"-6.8\" font-family=\"Times New Roman,serif\" font-size=\"14.00\">1 </text>\r\n",
       "</g>\r\n",
       "<!-- I&#45;&gt;I -->\r\n",
       "<g id=\"edge2\" class=\"edge\"><title>I&#45;&gt;I</title>\r\n",
       "<path fill=\"none\" stroke=\"black\" d=\"M105.764,-39.7817C105.214,-49.3149 106.293,-58 109,-58 110.65,-58 111.694,-54.7749 112.135,-50.0981\"/>\r\n",
       "<polygon fill=\"black\" stroke=\"black\" points=\"115.638,-49.8156 112.236,-39.7817 108.638,-49.7469 115.638,-49.8156\"/>\r\n",
       "<text text-anchor=\"middle\" x=\"109\" y=\"-61.8\" font-family=\"Times New Roman,serif\" font-size=\"14.00\">0 </text>\r\n",
       "</g>\r\n",
       "<!-- I&#45;&gt;I -->\r\n",
       "<g id=\"edge3\" class=\"edge\"><title>I&#45;&gt;I</title>\r\n",
       "<path fill=\"none\" stroke=\"black\" d=\"M103.684,-39.4203C100.654,-56.791 102.426,-76 109,-76 114.29,-76 116.471,-63.5617 115.542,-49.652\"/>\r\n",
       "<polygon fill=\"black\" stroke=\"black\" points=\"118.981,-48.9328 114.316,-39.4203 112.031,-49.7657 118.981,-48.9328\"/>\r\n",
       "<text text-anchor=\"middle\" x=\"109\" y=\"-79.8\" font-family=\"Times New Roman,serif\" font-size=\"14.00\">1 </text>\r\n",
       "</g>\r\n",
       "<!-- S0 -->\r\n",
       "<g id=\"node5\" class=\"node\"><title>S0</title>\r\n",
       "<ellipse fill=\"none\" stroke=\"black\" cx=\"193.798\" cy=\"-22\" rx=\"20.5982\" ry=\"20.5982\"/>\r\n",
       "<text text-anchor=\"middle\" x=\"193.798\" y=\"-18.3\" font-family=\"Times New Roman,serif\" font-size=\"14.00\">S0</text>\r\n",
       "</g>\r\n",
       "<!-- I&#45;&gt;S0 -->\r\n",
       "<g id=\"edge4\" class=\"edge\"><title>I&#45;&gt;S0</title>\r\n",
       "<path fill=\"none\" stroke=\"black\" d=\"M127.156,-22C137.414,-22 150.738,-22 162.699,-22\"/>\r\n",
       "<polygon fill=\"black\" stroke=\"black\" points=\"162.748,-25.5001 172.748,-22 162.748,-18.5001 162.748,-25.5001\"/>\r\n",
       "<text text-anchor=\"middle\" x=\"150\" y=\"-25.8\" font-family=\"Times New Roman,serif\" font-size=\"14.00\">&#39;&#39; </text>\r\n",
       "</g>\r\n",
       "<!-- S1 -->\r\n",
       "<g id=\"node4\" class=\"node\"><title>S1</title>\r\n",
       "<ellipse fill=\"none\" stroke=\"black\" cx=\"282.394\" cy=\"-22\" rx=\"20.5982\" ry=\"20.5982\"/>\r\n",
       "<text text-anchor=\"middle\" x=\"282.394\" y=\"-18.3\" font-family=\"Times New Roman,serif\" font-size=\"14.00\">S1</text>\r\n",
       "</g>\r\n",
       "<!-- S1&#45;&gt;S2 -->\r\n",
       "<g id=\"edge6\" class=\"edge\"><title>S1&#45;&gt;S2</title>\r\n",
       "<path fill=\"none\" stroke=\"black\" d=\"M303.479,-22C314.299,-22 327.866,-22 339.919,-22\"/>\r\n",
       "<polygon fill=\"black\" stroke=\"black\" points=\"340.015,-25.5001 350.015,-22 340.015,-18.5001 340.015,-25.5001\"/>\r\n",
       "<text text-anchor=\"middle\" x=\"326.693\" y=\"-25.8\" font-family=\"Times New Roman,serif\" font-size=\"14.00\">0 </text>\r\n",
       "</g>\r\n",
       "<!-- S1&#45;&gt;S2 -->\r\n",
       "<g id=\"edge7\" class=\"edge\"><title>S1&#45;&gt;S2</title>\r\n",
       "<path fill=\"none\" stroke=\"black\" d=\"M300.435,-11.3209C306.716,-7.96503 314.046,-4.69507 321.193,-3 328.855,-1.18242 336.92,-2.7704 344.237,-5.66733\"/>\r\n",
       "<polygon fill=\"black\" stroke=\"black\" points=\"343.118,-9.01481 353.643,-10.2321 346.174,-2.71722 343.118,-9.01481\"/>\r\n",
       "<text text-anchor=\"middle\" x=\"326.693\" y=\"-6.8\" font-family=\"Times New Roman,serif\" font-size=\"14.00\">1 </text>\r\n",
       "</g>\r\n",
       "<!-- S0&#45;&gt;S1 -->\r\n",
       "<g id=\"edge5\" class=\"edge\"><title>S0&#45;&gt;S1</title>\r\n",
       "<path fill=\"none\" stroke=\"black\" d=\"M214.883,-22C225.703,-22 239.269,-22 251.323,-22\"/>\r\n",
       "<polygon fill=\"black\" stroke=\"black\" points=\"251.419,-25.5001 261.419,-22 251.419,-18.5001 251.419,-25.5001\"/>\r\n",
       "<text text-anchor=\"middle\" x=\"238.096\" y=\"-25.8\" font-family=\"Times New Roman,serif\" font-size=\"14.00\">1 </text>\r\n",
       "</g>\r\n",
       "</g>\r\n",
       "</svg>\r\n"
      ],
      "text/plain": [
       "<graphviz.dot.Digraph at 0x1aa9dfc5748>"
      ]
     },
     "execution_count": 5,
     "metadata": {},
     "output_type": "execute_result"
    }
   ],
   "source": [
    "dotObj_nfa(NFA_antep1b)"
   ]
  },
  {
   "cell_type": "markdown",
   "metadata": {},
   "source": [
    "### Coerência dos Autómatos (exercício proposto pelo professor)\n",
    "Tal como nos DFAs, é útil ter uma função que testa a coerência de um autómato não-determinístico, ou seja, dado um dicionário do tipo acima, verifica se: \n",
    "* o conjunto de estados e o alfabeto não são vazios\n",
    "* o domínio do dicionário correspondente à função de transição _está contido_ em $Q \\times \\Sigma_\\varepsilon$ (trata-se de coerência parcial)\n",
    "* a função de transição apenas leva a execução a estados pertencentes a $Q$\n",
    "* os conjuntos de estados iniciais e finais estão contidos em $Q$\n",
    "\n",
    "Assim, podemos ver a aplicação da função `is_consistent_nfa` que existe no Jove. A função devolve True caso se verifique a coerência e devolve False no caso contrário.\n",
    "\n",
    "Então, podemos desta forma verificar se o NFA inical do notebook é consistente ou não:"
   ]
  },
  {
   "cell_type": "code",
   "execution_count": 6,
   "metadata": {},
   "outputs": [
    {
     "data": {
      "text/plain": [
       "True"
      ]
     },
     "execution_count": 6,
     "metadata": {},
     "output_type": "execute_result"
    }
   ],
   "source": [
    "is_consistent_nfa(NFA_antep1b)"
   ]
  },
  {
   "cell_type": "markdown",
   "metadata": {},
   "source": [
    "Ora, para a nossa definição da função `is_consistent_nfa_DC`, tivemos então como raciocínio base as condições já referidas. Deste modo, abordaremos como foi aplicado na função cada um dos pontos:\n",
    "\n",
    "*  **Conjunto de estados e alfabeto**\n",
    "\n",
    "    Relativamente, ao conjunto de estados e ao alfabeto apenas precisámos de garantir que não são conjuntos vazios, ou seja, $Q$ != {} e $\\Sigma$ != {}.\n",
    "    \n",
    "    \n",
    "* **Domínio da função de transição**\n",
    "\n",
    "    Segundo a definição temos que garantir que o domínio da função de transição, ou seja, o domínio correpondente ao dicionário Delta ($\\delta$) está contido no conjunto resultante do produto cartesiano entre $Q$  e $\\Sigma_\\varepsilon$. Assim, precisámos simplesmente de criar um novo alfabeto, que é simplesmente o alfabeto de símbolos inicial do autómato mais a palavra vazia $\\varepsilon$, já que os NFA permitem transições a partir da leitura da palavra vazia. Posto isto indicámos simplesmente que o domínio de delta ($\\delta$) tem de estar contido em $Q \\times \\Sigma_\\varepsilon$.  \n",
    "    \n",
    "    \n",
    "* **Função de transição**\n",
    "\n",
    "    Para que a função de transição apenas leve a estados que pertencem ao conjunto de estados do autómato, utilizámos como ajuda a função `termina_em_Q`. Esta função irá então verificar se existe algum elemento da lista no co-domínio do função de transição que não pertença ao conjunto de estados. Caso isto se verifique a função irá retornar False, caso contrário retorna True, significando que a função de transição leva somente a estados do conjunto $Q$. \n",
    "    \n",
    "    \n",
    "* **Conjuntos de estados iniciais e finais**\n",
    "    \n",
    "    Precisámos de garantir também que o conjunto de estados iniciais, assim como, o de estados finais são um sub-conjunto do conjunto de estados $Q$ do autómato. \n",
    "   \n",
    "  "
   ]
  },
  {
   "cell_type": "code",
   "execution_count": 7,
   "metadata": {},
   "outputs": [],
   "source": [
    "def termina_em_Q (D):\n",
    "        \n",
    "        range_Delta = list(fn_range(D[\"Delta\"]))\n",
    "        todosPertencem = True \n",
    "\n",
    "        for n in range_Delta:\n",
    "            for i in n:\n",
    "                if i not in D[\"Q\"]:\n",
    "                    todosPertencem = False\n",
    "                else:\n",
    "                    todosPertencem = True\n",
    "            \n",
    "        return todosPertencem                "
   ]
  },
  {
   "cell_type": "code",
   "execution_count": 8,
   "metadata": {},
   "outputs": [],
   "source": [
    "def is_consistent_nfa_DC (D):\n",
    "    Q     = D[\"Q\"]\n",
    "    Sigma = D[\"Sigma\"]\n",
    "    Delta = D[\"Delta\"]\n",
    "    Q0    = D[\"Q0\"]\n",
    "    F     = D[\"F\"]\n",
    "\n",
    "    dom_delta   = set(fn_dom(Delta))\n",
    "    range_Delta = list(fn_range(Delta))\n",
    "    Sigma_E= (Sigma | set ({\"\"}))\n",
    "\n",
    "    return (Q != {}     and\n",
    "        Sigma != {}          and\n",
    "        dom_delta   <= set(product(Q,Sigma_E)) and\n",
    "        Q0 <= Q              and\n",
    "        termina_em_Q(D)== True       and\n",
    "        F <= Q)  "
   ]
  },
  {
   "cell_type": "markdown",
   "metadata": {},
   "source": [
    "Assim, de seguida podemos verificar a aplicação da função `is_consistent_nfa_DC`."
   ]
  },
  {
   "cell_type": "code",
   "execution_count": 9,
   "metadata": {},
   "outputs": [
    {
     "data": {
      "text/plain": [
       "True"
      ]
     },
     "execution_count": 9,
     "metadata": {},
     "output_type": "execute_result"
    }
   ],
   "source": [
    "is_consistent_nfa_DC(NFA_antep1b)"
   ]
  },
  {
   "cell_type": "markdown",
   "metadata": {},
   "source": [
    "### Totalização de um Autómato  (exercício proposto pelo professor)"
   ]
  },
  {
   "cell_type": "markdown",
   "metadata": {},
   "source": [
    "Observando, o autómato `NFA_antep1b` verificámos que não está definida nenhuma transição a partir de __S0__ com o símbolo __0__, ou seja, trata-se de uma função parcial. No entanto, esta parcialidade não viola de forma alguma a definição de um NFA,  uma vez que o autómato é para todos os efeitos equivalente ao que se obteria acrescentando a transição seguinte:\n",
    "\n",
    "`('S0', '0') : set({}),`\n",
    "\n",
    "Por outras palavras, a operação de totalização em NFAs não obriga à introdução de um estado \"black hole\", bastanto acrescentar na função de transição mapeamentos para o conjunto vazio de estados, como ilustrado acima. Assim, este será o objetivo ao construirmos uma função de totalização para um NFA, não acrescentando um estado de BH mas sim as transições que não estão incluídas como a já referida. "
   ]
  },
  {
   "cell_type": "markdown",
   "metadata": {},
   "source": [
    "Relativamente à função de totalização passámos por duas etapas:\n",
    "\n",
    "> 1.   Para criarmos as transições que nos faltam para a transição do autómato vamos fazer uso da função `extra_delta`. Esta função, primeiramente, irá criar uma lista de pares (x,y), onde x é cada um dos estados do autómato e y é cada um dos símbolos do alfabeto mais $\\varepsilon$. \n",
    "    De seguida, vamos então criar um dicionário (extra_delta), onde para cada par da lista anterior que não esteja contido no domínio da função de transição, será associado o valor _set ({})_. \n",
    "    \n",
    "> 2. Relativamente então a `totalize_dfa`, se for garantida a coerência do autómato, vamos simplesmente criar uma nova função de transição que resultará da junção do dicionário a partir de `extra_delta` e do dicionário que constituí a função de transição inicial do autómato. \n",
    "\n",
    "Apresentámos, de seguida, as exemplificações desta função.\n"
   ]
  },
  {
   "cell_type": "code",
   "execution_count": 10,
   "metadata": {},
   "outputs": [],
   "source": [
    "def extra_delta (D):\n",
    "        Q     = D[\"Q\"]\n",
    "        Sigma = D[\"Sigma\"]\n",
    "        Delta = D[\"Delta\"]\n",
    "        Q0    = D[\"Q0\"]\n",
    "        F     = D[\"F\"]\n",
    "        \n",
    "        Sigma_E = (D[\"Sigma\"] | {\"\"}) \n",
    "        estado_simbolo = []\n",
    "        \n",
    "        for x in Q:\n",
    "            for y in Sigma_E:\n",
    "                estado_simbolo.append((x, y))\n",
    "    \n",
    "        extra_delta = {i: set ({}) \n",
    "                    for i in estado_simbolo \n",
    "                    if i not in fn_dom(Delta)}\n",
    "            \n",
    "        return (extra_delta) \n",
    "        "
   ]
  },
  {
   "cell_type": "code",
   "execution_count": 11,
   "metadata": {},
   "outputs": [
    {
     "name": "stdout",
     "output_type": "stream",
     "text": [
      "{('S0', ''): set(), ('S0', '0'): set(), ('S2', ''): set(), ('S1', ''): set(), ('F', ''): set(), ('F', '1'): set(), ('F', '0'): set()}\n"
     ]
    }
   ],
   "source": [
    "print (extra_delta (NFA_antep1b))\n"
   ]
  },
  {
   "cell_type": "code",
   "execution_count": 12,
   "metadata": {},
   "outputs": [],
   "source": [
    "def totalize_nfa_DC (D):\n",
    "        if is_consistent_nfa(D) == True:\n",
    "            new_delta = {}\n",
    "            new_delta.update (extra_delta (D))\n",
    "            new_delta.update (D[\"Delta\"])\n",
    "              \n",
    "        return {\"Q\"    : D[\"Q\"],\n",
    "            \"Sigma\": D[\"Sigma\"],\n",
    "            \"Delta\": new_delta,\n",
    "            \"Q0\"   : D[\"Q0\"],\n",
    "            \"F\"    : D[\"F\"]}"
   ]
  },
  {
   "cell_type": "code",
   "execution_count": 13,
   "metadata": {},
   "outputs": [
    {
     "name": "stdout",
     "output_type": "stream",
     "text": [
      "{'Q': {'S0', 'S2', 'S1', 'I', 'F'}, 'Sigma': {'1', '0'}, 'Delta': {('S0', ''): set(), ('S0', '0'): set(), ('S2', ''): set(), ('S1', ''): set(), ('F', ''): set(), ('F', '1'): set(), ('F', '0'): set(), ('I', '0'): {'I'}, ('I', '1'): {'I'}, ('I', ''): {'S0'}, ('S0', '1'): {'S1'}, ('S1', '0'): {'S2'}, ('S1', '1'): {'S2'}, ('S2', '0'): {'F'}, ('S2', '1'): {'F'}}, 'Q0': {'I'}, 'F': {'F'}}\n"
     ]
    },
    {
     "data": {
      "image/svg+xml": [
       "<?xml version=\"1.0\" encoding=\"UTF-8\" standalone=\"no\"?>\r\n",
       "<!DOCTYPE svg PUBLIC \"-//W3C//DTD SVG 1.1//EN\"\r\n",
       " \"http://www.w3.org/Graphics/SVG/1.1/DTD/svg11.dtd\">\r\n",
       "<!-- Generated by graphviz version 2.38.0 (20140413.2041)\r\n",
       " -->\r\n",
       "<!-- Title: %3 Pages: 1 -->\r\n",
       "<svg width=\"491pt\" height=\"114pt\"\r\n",
       " viewBox=\"0.00 0.00 490.79 114.00\" xmlns=\"http://www.w3.org/2000/svg\" xmlns:xlink=\"http://www.w3.org/1999/xlink\">\r\n",
       "<g id=\"graph0\" class=\"graph\" transform=\"scale(1 1) rotate(0) translate(4 110)\">\r\n",
       "<title>%3</title>\r\n",
       "<polygon fill=\"white\" stroke=\"none\" points=\"-4,4 -4,-110 486.789,-110 486.789,4 -4,4\"/>\r\n",
       "<!-- EMPTY -->\r\n",
       "<g id=\"node1\" class=\"node\"><title>EMPTY</title>\r\n",
       "</g>\r\n",
       "<!-- I -->\r\n",
       "<g id=\"node3\" class=\"node\"><title>I</title>\r\n",
       "<ellipse fill=\"none\" stroke=\"black\" cx=\"109\" cy=\"-22\" rx=\"18\" ry=\"18\"/>\r\n",
       "<text text-anchor=\"middle\" x=\"109\" y=\"-18.3\" font-family=\"Times New Roman,serif\" font-size=\"14.00\">I</text>\r\n",
       "</g>\r\n",
       "<!-- EMPTY&#45;&gt;I -->\r\n",
       "<g id=\"edge1\" class=\"edge\"><title>EMPTY&#45;&gt;I</title>\r\n",
       "<path fill=\"none\" stroke=\"black\" d=\"M54.195,-22C62.6538,-22 72.0513,-22 80.5951,-22\"/>\r\n",
       "<polygon fill=\"black\" stroke=\"black\" points=\"80.8257,-25.5001 90.8257,-22 80.8257,-18.5001 80.8257,-25.5001\"/>\r\n",
       "</g>\r\n",
       "<!-- S2 -->\r\n",
       "<g id=\"node2\" class=\"node\"><title>S2</title>\r\n",
       "<ellipse fill=\"none\" stroke=\"black\" cx=\"370.991\" cy=\"-22\" rx=\"20.5982\" ry=\"20.5982\"/>\r\n",
       "<text text-anchor=\"middle\" x=\"370.991\" y=\"-18.3\" font-family=\"Times New Roman,serif\" font-size=\"14.00\">S2</text>\r\n",
       "</g>\r\n",
       "<!-- F -->\r\n",
       "<g id=\"node6\" class=\"node\"><title>F</title>\r\n",
       "<ellipse fill=\"none\" stroke=\"black\" cx=\"460.789\" cy=\"-22\" rx=\"18\" ry=\"18\"/>\r\n",
       "<ellipse fill=\"none\" stroke=\"black\" cx=\"460.789\" cy=\"-22\" rx=\"22\" ry=\"22\"/>\r\n",
       "<text text-anchor=\"middle\" x=\"460.789\" y=\"-18.3\" font-family=\"Times New Roman,serif\" font-size=\"14.00\">F</text>\r\n",
       "</g>\r\n",
       "<!-- S2&#45;&gt;F -->\r\n",
       "<g id=\"edge8\" class=\"edge\"><title>S2&#45;&gt;F</title>\r\n",
       "<path fill=\"none\" stroke=\"black\" d=\"M391.914,-22C402.714,-22 416.307,-22 428.487,-22\"/>\r\n",
       "<polygon fill=\"black\" stroke=\"black\" points=\"428.721,-25.5001 438.721,-22 428.721,-18.5001 428.721,-25.5001\"/>\r\n",
       "<text text-anchor=\"middle\" x=\"415.289\" y=\"-25.8\" font-family=\"Times New Roman,serif\" font-size=\"14.00\">0 </text>\r\n",
       "</g>\r\n",
       "<!-- S2&#45;&gt;F -->\r\n",
       "<g id=\"edge9\" class=\"edge\"><title>S2&#45;&gt;F</title>\r\n",
       "<path fill=\"none\" stroke=\"black\" d=\"M389.031,-11.3209C395.312,-7.96503 402.643,-4.69507 409.789,-3 417.367,-1.20242 425.347,-2.62232 432.652,-5.34433\"/>\r\n",
       "<polygon fill=\"black\" stroke=\"black\" points=\"431.545,-8.6876 442.093,-9.68337 434.468,-2.32716 431.545,-8.6876\"/>\r\n",
       "<text text-anchor=\"middle\" x=\"415.289\" y=\"-6.8\" font-family=\"Times New Roman,serif\" font-size=\"14.00\">1 </text>\r\n",
       "</g>\r\n",
       "<!-- I&#45;&gt;I -->\r\n",
       "<g id=\"edge2\" class=\"edge\"><title>I&#45;&gt;I</title>\r\n",
       "<path fill=\"none\" stroke=\"black\" d=\"M105.764,-39.7817C105.214,-49.3149 106.293,-58 109,-58 110.65,-58 111.694,-54.7749 112.135,-50.0981\"/>\r\n",
       "<polygon fill=\"black\" stroke=\"black\" points=\"115.638,-49.8156 112.236,-39.7817 108.638,-49.7469 115.638,-49.8156\"/>\r\n",
       "<text text-anchor=\"middle\" x=\"109\" y=\"-61.8\" font-family=\"Times New Roman,serif\" font-size=\"14.00\">0 </text>\r\n",
       "</g>\r\n",
       "<!-- I&#45;&gt;I -->\r\n",
       "<g id=\"edge3\" class=\"edge\"><title>I&#45;&gt;I</title>\r\n",
       "<path fill=\"none\" stroke=\"black\" d=\"M103.684,-39.4203C100.654,-56.791 102.426,-76 109,-76 114.29,-76 116.471,-63.5617 115.542,-49.652\"/>\r\n",
       "<polygon fill=\"black\" stroke=\"black\" points=\"118.981,-48.9328 114.316,-39.4203 112.031,-49.7657 118.981,-48.9328\"/>\r\n",
       "<text text-anchor=\"middle\" x=\"109\" y=\"-79.8\" font-family=\"Times New Roman,serif\" font-size=\"14.00\">1 </text>\r\n",
       "</g>\r\n",
       "<!-- S0 -->\r\n",
       "<g id=\"node5\" class=\"node\"><title>S0</title>\r\n",
       "<ellipse fill=\"none\" stroke=\"black\" cx=\"193.798\" cy=\"-22\" rx=\"20.5982\" ry=\"20.5982\"/>\r\n",
       "<text text-anchor=\"middle\" x=\"193.798\" y=\"-18.3\" font-family=\"Times New Roman,serif\" font-size=\"14.00\">S0</text>\r\n",
       "</g>\r\n",
       "<!-- I&#45;&gt;S0 -->\r\n",
       "<g id=\"edge4\" class=\"edge\"><title>I&#45;&gt;S0</title>\r\n",
       "<path fill=\"none\" stroke=\"black\" d=\"M127.156,-22C137.414,-22 150.738,-22 162.699,-22\"/>\r\n",
       "<polygon fill=\"black\" stroke=\"black\" points=\"162.748,-25.5001 172.748,-22 162.748,-18.5001 162.748,-25.5001\"/>\r\n",
       "<text text-anchor=\"middle\" x=\"150\" y=\"-25.8\" font-family=\"Times New Roman,serif\" font-size=\"14.00\">&#39;&#39; </text>\r\n",
       "</g>\r\n",
       "<!-- S1 -->\r\n",
       "<g id=\"node4\" class=\"node\"><title>S1</title>\r\n",
       "<ellipse fill=\"none\" stroke=\"black\" cx=\"282.394\" cy=\"-22\" rx=\"20.5982\" ry=\"20.5982\"/>\r\n",
       "<text text-anchor=\"middle\" x=\"282.394\" y=\"-18.3\" font-family=\"Times New Roman,serif\" font-size=\"14.00\">S1</text>\r\n",
       "</g>\r\n",
       "<!-- S1&#45;&gt;S2 -->\r\n",
       "<g id=\"edge6\" class=\"edge\"><title>S1&#45;&gt;S2</title>\r\n",
       "<path fill=\"none\" stroke=\"black\" d=\"M303.479,-22C314.299,-22 327.866,-22 339.919,-22\"/>\r\n",
       "<polygon fill=\"black\" stroke=\"black\" points=\"340.015,-25.5001 350.015,-22 340.015,-18.5001 340.015,-25.5001\"/>\r\n",
       "<text text-anchor=\"middle\" x=\"326.693\" y=\"-25.8\" font-family=\"Times New Roman,serif\" font-size=\"14.00\">0 </text>\r\n",
       "</g>\r\n",
       "<!-- S1&#45;&gt;S2 -->\r\n",
       "<g id=\"edge7\" class=\"edge\"><title>S1&#45;&gt;S2</title>\r\n",
       "<path fill=\"none\" stroke=\"black\" d=\"M300.435,-11.3209C306.716,-7.96503 314.046,-4.69507 321.193,-3 328.855,-1.18242 336.92,-2.7704 344.237,-5.66733\"/>\r\n",
       "<polygon fill=\"black\" stroke=\"black\" points=\"343.118,-9.01481 353.643,-10.2321 346.174,-2.71722 343.118,-9.01481\"/>\r\n",
       "<text text-anchor=\"middle\" x=\"326.693\" y=\"-6.8\" font-family=\"Times New Roman,serif\" font-size=\"14.00\">1 </text>\r\n",
       "</g>\r\n",
       "<!-- S0&#45;&gt;S1 -->\r\n",
       "<g id=\"edge5\" class=\"edge\"><title>S0&#45;&gt;S1</title>\r\n",
       "<path fill=\"none\" stroke=\"black\" d=\"M214.883,-22C225.703,-22 239.269,-22 251.323,-22\"/>\r\n",
       "<polygon fill=\"black\" stroke=\"black\" points=\"251.419,-25.5001 261.419,-22 251.419,-18.5001 251.419,-25.5001\"/>\r\n",
       "<text text-anchor=\"middle\" x=\"238.096\" y=\"-25.8\" font-family=\"Times New Roman,serif\" font-size=\"14.00\">1 </text>\r\n",
       "</g>\r\n",
       "</g>\r\n",
       "</svg>\r\n"
      ],
      "text/plain": [
       "<graphviz.dot.Digraph at 0x1aa9dff6448>"
      ]
     },
     "execution_count": 13,
     "metadata": {},
     "output_type": "execute_result"
    }
   ],
   "source": [
    "totalize_nfa_DC (NFA_antep1b)\n",
    "print (totalize_nfa_DC (NFA_antep1b))\n",
    "dotObj_nfa(totalize_nfa_DC (NFA_antep1b))"
   ]
  },
  {
   "cell_type": "markdown",
   "metadata": {},
   "source": [
    "## Execução de um Autómato\n",
    "\n",
    "Após várias funções ao nível da visualização e da coerência dos NFA é também clara a importância de operações ao nível da execução de um autómato. \n",
    "\n",
    "Desta forma, seguindo a definição estudada, o primeiro passo para a implementação da execução de um autómato será generalizar a função de transição $\\delta$ por forma a aceitar um conjunto de estados como argumento: \n",
    "\n",
    "$\\delta : \\mathcal{P}(Q) \\times \\Sigma_\\varepsilon \\to \\mathcal{P}(Q)$\n",
    "\n",
    "$\\delta(Q,x) = \\bigcup_{q \\in Q}\\ \\ \\delta(q,x)$\n",
    "\n",
    "\n",
    "É importante notar que o autómato pode não ter uma representação total, e que a função pode ser executada muitas vezes, por isso o esforço computacional de o totalizar pode ser significativo, e será preferível testar, para cada estado `q` pertencente a `S`, se `(q,c)` pertence ao domínio da função de transição, no caso de não pertencer, deverá ser considerada a transição para o conjunto vazio de estados. \n",
    "    \n",
    "    \n",
    "    \n",
    "Assim, a função `step_nfa_DC` tem precisamente esse racíocinio base para a sua definição. Inicialmente, após verificarmos os seguintes 3 pontos, ou seja:\n",
    "* se o autómato é coerente;\n",
    "* se o conjunto de estados recebido é um sub-conjunto do conjunto de estados, isto é se todos os elementos pertencem ao conjunto de estados do autómato;\n",
    "* se o símbolo recebido pertence então ao alfabeto do autómato, incluindo ainda a palavra vazia $\\varepsilon$.\n",
    "\n",
    "Após isto, optámos pela implementação de um ciclo while, onde após criada uma lista do conjunto de estados que a função recebe, enquanto esta for vazia vai testar para cada par (x,y), onde x é um estado da lista e y o símbolo recebido, se este par pertence a uma das chaves da função delta. Por um lado:\n",
    "* caso se verifique vamos então fazer uso da capacidade do jove que nos permite calcular o valor dessa chave;\n",
    "* caso contrário, iremos então retornar o conjunto vazio.\n",
    "\n"
   ]
  },
  {
   "cell_type": "code",
   "execution_count": 14,
   "metadata": {},
   "outputs": [],
   "source": [
    "def step_nfa_DC (N, S, c):\n",
    "\n",
    "    assert is_consistent_nfa(N), \"step_nfa given inconsistent NFA N\"\n",
    "    assert S <= N[\"Q\"], \"step_nfa given states S not in N\"\n",
    "    assert c in (N[\"Sigma\"] | set({\"\"})), \"step_nfa given symbol c not in N\"\n",
    "    \n",
    "\n",
    "    L = list (S)\n",
    "    A= set ({})\n",
    "    q=0\n",
    "    while L != []:\n",
    "        if (L[q],c) in N[\"Delta\"].keys():\n",
    "            A= A.union(N[\"Delta\"][(L[q],c)])\n",
    "            L= L[1:]    \n",
    "        else:\n",
    "            A= A\n",
    "            L= L[1:]\n",
    "             \n",
    "    return A\n"
   ]
  },
  {
   "cell_type": "markdown",
   "metadata": {},
   "source": [
    "Será então importante ilustrar  a função de `step_nfa_DC` com vários exemplos, onde dado um conjunto de estados e um símbolo indica-nos para onde transitará cada estado recebido mediante a leitura desse símbolo."
   ]
  },
  {
   "cell_type": "code",
   "execution_count": 15,
   "metadata": {},
   "outputs": [
    {
     "name": "stdout",
     "output_type": "stream",
     "text": [
      "{'S2', 'I'}\n"
     ]
    }
   ],
   "source": [
    "print (step_nfa_DC(NFA_antep1b, {\"I\",\"S1\"}, \"1\"))"
   ]
  },
  {
   "cell_type": "code",
   "execution_count": 16,
   "metadata": {},
   "outputs": [
    {
     "name": "stdout",
     "output_type": "stream",
     "text": [
      "{'I'}\n"
     ]
    }
   ],
   "source": [
    "print (step_nfa_DC(NFA_antep1b, {\"I\",\"F\"}, \"1\"))"
   ]
  },
  {
   "cell_type": "code",
   "execution_count": 17,
   "metadata": {},
   "outputs": [
    {
     "name": "stdout",
     "output_type": "stream",
     "text": [
      "{'F'}\n"
     ]
    }
   ],
   "source": [
    "print (step_nfa_DC(NFA_antep1b, {\"S2\",\"S0\"}, \"0\"))"
   ]
  },
  {
   "cell_type": "markdown",
   "metadata": {},
   "source": [
    "### Função $\\mathrm{Close}_\\varepsilon$ (exercício proposto pelo professor)\n",
    "\n",
    "Igualmente importante será também a função $\\mathrm{close}_\\varepsilon$. Relembrando,  $\\mathrm{close}_\\varepsilon  (Q)$ corresponde ao conjunto de estados acessível por uma qualquer sequência de transições espontâneas, lendo a palavra vazia, a partir do conjunto $Q$ de estados. Alertamos que este cálculo é iterativo, uma vez que para cada novo estado calculado pode haver mais transições $\\varepsilon$ a partir dele. \n",
    "\n",
    "Por exemplo no autómato seguinte, $\\mathrm{close}_\\varepsilon  (I)$ contém todos os estados do autómato."
   ]
  },
  {
   "cell_type": "code",
   "execution_count": 18,
   "metadata": {},
   "outputs": [
    {
     "data": {
      "image/svg+xml": [
       "<?xml version=\"1.0\" encoding=\"UTF-8\" standalone=\"no\"?>\r\n",
       "<!DOCTYPE svg PUBLIC \"-//W3C//DTD SVG 1.1//EN\"\r\n",
       " \"http://www.w3.org/Graphics/SVG/1.1/DTD/svg11.dtd\">\r\n",
       "<!-- Generated by graphviz version 2.38.0 (20140413.2041)\r\n",
       " -->\r\n",
       "<!-- Title: %3 Pages: 1 -->\r\n",
       "<svg width=\"310pt\" height=\"110pt\"\r\n",
       " viewBox=\"0.00 0.00 310.19 109.60\" xmlns=\"http://www.w3.org/2000/svg\" xmlns:xlink=\"http://www.w3.org/1999/xlink\">\r\n",
       "<g id=\"graph0\" class=\"graph\" transform=\"scale(1 1) rotate(0) translate(4 105.596)\">\r\n",
       "<title>%3</title>\r\n",
       "<polygon fill=\"white\" stroke=\"none\" points=\"-4,4 -4,-105.596 306.193,-105.596 306.193,4 -4,4\"/>\r\n",
       "<!-- EMPTY -->\r\n",
       "<g id=\"node1\" class=\"node\"><title>EMPTY</title>\r\n",
       "</g>\r\n",
       "<!-- I -->\r\n",
       "<g id=\"node3\" class=\"node\"><title>I</title>\r\n",
       "<ellipse fill=\"none\" stroke=\"black\" cx=\"109\" cy=\"-55.7982\" rx=\"18\" ry=\"18\"/>\r\n",
       "<text text-anchor=\"middle\" x=\"109\" y=\"-52.0982\" font-family=\"Times New Roman,serif\" font-size=\"14.00\">I</text>\r\n",
       "</g>\r\n",
       "<!-- EMPTY&#45;&gt;I -->\r\n",
       "<g id=\"edge1\" class=\"edge\"><title>EMPTY&#45;&gt;I</title>\r\n",
       "<path fill=\"none\" stroke=\"black\" d=\"M54.195,-55.7982C62.6538,-55.7982 72.0513,-55.7982 80.5951,-55.7982\"/>\r\n",
       "<polygon fill=\"black\" stroke=\"black\" points=\"80.8257,-59.2983 90.8257,-55.7982 80.8257,-52.2983 80.8257,-59.2983\"/>\r\n",
       "</g>\r\n",
       "<!-- S2 -->\r\n",
       "<g id=\"node2\" class=\"node\"><title>S2</title>\r\n",
       "<ellipse fill=\"none\" stroke=\"black\" cx=\"281.394\" cy=\"-20.7982\" rx=\"20.5982\" ry=\"20.5982\"/>\r\n",
       "<text text-anchor=\"middle\" x=\"281.394\" y=\"-17.0982\" font-family=\"Times New Roman,serif\" font-size=\"14.00\">S2</text>\r\n",
       "</g>\r\n",
       "<!-- S1 -->\r\n",
       "<g id=\"node4\" class=\"node\"><title>S1</title>\r\n",
       "<ellipse fill=\"none\" stroke=\"black\" cx=\"193.798\" cy=\"-80.7982\" rx=\"20.5982\" ry=\"20.5982\"/>\r\n",
       "<text text-anchor=\"middle\" x=\"193.798\" y=\"-77.0982\" font-family=\"Times New Roman,serif\" font-size=\"14.00\">S1</text>\r\n",
       "</g>\r\n",
       "<!-- I&#45;&gt;S1 -->\r\n",
       "<g id=\"edge2\" class=\"edge\"><title>I&#45;&gt;S1</title>\r\n",
       "<path fill=\"none\" stroke=\"black\" d=\"M126.358,-60.7374C137.068,-63.9711 151.36,-68.2863 163.944,-72.0858\"/>\r\n",
       "<polygon fill=\"black\" stroke=\"black\" points=\"162.984,-75.452 173.568,-74.9919 165.007,-68.7508 162.984,-75.452\"/>\r\n",
       "<text text-anchor=\"middle\" x=\"150\" y=\"-72.5982\" font-family=\"Times New Roman,serif\" font-size=\"14.00\">&#39;&#39; </text>\r\n",
       "</g>\r\n",
       "<!-- S0 -->\r\n",
       "<g id=\"node5\" class=\"node\"><title>S0</title>\r\n",
       "<ellipse fill=\"none\" stroke=\"black\" cx=\"193.798\" cy=\"-20.7982\" rx=\"20.5982\" ry=\"20.5982\"/>\r\n",
       "<text text-anchor=\"middle\" x=\"193.798\" y=\"-17.0982\" font-family=\"Times New Roman,serif\" font-size=\"14.00\">S0</text>\r\n",
       "</g>\r\n",
       "<!-- I&#45;&gt;S0 -->\r\n",
       "<g id=\"edge3\" class=\"edge\"><title>I&#45;&gt;S0</title>\r\n",
       "<path fill=\"none\" stroke=\"black\" d=\"M125.964,-49.0498C136.974,-44.3959 151.901,-38.0858 164.856,-32.6095\"/>\r\n",
       "<polygon fill=\"black\" stroke=\"black\" points=\"166.433,-35.743 174.281,-28.6256 163.707,-29.2954 166.433,-35.743\"/>\r\n",
       "<text text-anchor=\"middle\" x=\"150\" y=\"-44.5982\" font-family=\"Times New Roman,serif\" font-size=\"14.00\">&#39;&#39; </text>\r\n",
       "</g>\r\n",
       "<!-- S0&#45;&gt;S2 -->\r\n",
       "<g id=\"edge4\" class=\"edge\"><title>S0&#45;&gt;S2</title>\r\n",
       "<path fill=\"none\" stroke=\"black\" d=\"M214.651,-20.7982C225.162,-20.7982 238.296,-20.7982 250.055,-20.7982\"/>\r\n",
       "<polygon fill=\"black\" stroke=\"black\" points=\"250.353,-24.2983 260.353,-20.7982 250.353,-17.2983 250.353,-24.2983\"/>\r\n",
       "<text text-anchor=\"middle\" x=\"237.596\" y=\"-24.5982\" font-family=\"Times New Roman,serif\" font-size=\"14.00\">&#39;&#39; </text>\r\n",
       "</g>\r\n",
       "</g>\r\n",
       "</svg>\r\n"
      ],
      "text/plain": [
       "<graphviz.dot.Digraph at 0x1aa9e003148>"
      ]
     },
     "execution_count": 18,
     "metadata": {},
     "output_type": "execute_result"
    }
   ],
   "source": [
    "NFA_testEclosure = { 'Q': {'I', 'S0', 'S1', 'S2'},\n",
    "                     'Sigma': {'0', '1'},\n",
    "                     'Delta': { # \n",
    "                               ('I', '')  : {'S0','S1'},\n",
    "                                #\n",
    "                                ('S0', '')  : {'S2'},\n",
    "                                 \n",
    "                              },\n",
    "                     'Q0': {'I'}, \n",
    "                     'F' : set({})   \n",
    "                   }\n",
    "\n",
    "dotObj_nfa(NFA_testEclosure)"
   ]
  },
  {
   "cell_type": "markdown",
   "metadata": {},
   "source": [
    "Desta forma uma nota importante é que a definição da função `closeE_DC`tem por base um cálculo iterativo, uma vez que para cada novo estado calculado pode haver mais transições $\\varepsilon$ a partir dele, como é o caso de _S0_ que é alcançado a partir de _I_ mas por sua vez, a partir de _S0_ pela leitura da palavra vazia ainda alcançámos outro estado o _S2_. \n"
   ]
  },
  {
   "cell_type": "markdown",
   "metadata": {},
   "source": [
    "Apresentamos a seguir a nossa definição para a função `closeE_DC`. \n",
    "Notamos que mais uma vez o autómato pode não ter uma representação total, e será necessário testar, para cada estado `q` alcançado, se `(q,\"\")` pertence ao domínio da função de transição. \n",
    "\n",
    "Assim, primeiramente passámos por verificar dois pontos:\n",
    "* a coerência do autómato recebido;\n",
    "* se o conjunto de estados recebido é sub-conjunto do conjunto de estados $Q$ do autómato.\n",
    "\n",
    "\n",
    "Posteriomente, iniciámos um ciclo `while`:\n",
    "* inicialmente, guardámos na variável _Previous_ os estados que o autómato recebe;\n",
    "* na variável _new_states_ vamos guardar o resultado do conjunto da aplicação da função `step_nfa_DC`, anteriormente calculada, que então irá devolver-nos como resultado o conjunto de estados que se obtém a partir do estados recebidos mediante a leitura da palavra vazia $\\epsilon$. \n",
    "* de seguida, vamos alterar o valor da variável States para ser a união do conjunto de estados, new_states, e os que estavam guardados na variável Previous. \n",
    "\n",
    "\n",
    "O ciclo é fechado quando a variável _States_ é igual à _Previous_, o que acontece quando o resultado de aplicar a `step_nfa_DC` aos estados é o conjunto vazio, o que siginifca que não existe mais nenhum estado possível de alcançar pela leitura da palavra vazia. "
   ]
  },
  {
   "cell_type": "code",
   "execution_count": 19,
   "metadata": {},
   "outputs": [],
   "source": [
    "def closeE_DC (Nfa, States):\n",
    "    \n",
    "    assert is_consistent_nfa(Nfa), \"closeE given inconsistent Nfa\"\n",
    "    assert States <= Nfa[\"Q\"], \"closeE given states not in Nfa\"\n",
    "\n",
    "    while True : \n",
    "        Previous = States \n",
    "        \n",
    "        new_states = step_nfa_DC (Nfa, States, \"\") \n",
    "        #print(new_states)\n",
    "        \n",
    "        States = new_states | (Previous)\n",
    "        #print (States)\n",
    "        \n",
    "        if States == Previous: \n",
    "            break\n",
    "    \n",
    "    return (States)"
   ]
  },
  {
   "cell_type": "code",
   "execution_count": 20,
   "metadata": {},
   "outputs": [
    {
     "name": "stdout",
     "output_type": "stream",
     "text": [
      "True\n"
     ]
    }
   ],
   "source": [
    "Q= {'I', 'S0', 'S1'}\n",
    "M= {'I', 'S0'}\n",
    "if M.intersection (list (Q)) != []:\n",
    "    print ('True')\n",
    "else:\n",
    "    print ('False')\n",
    "    print (list (M))"
   ]
  },
  {
   "cell_type": "code",
   "execution_count": 21,
   "metadata": {},
   "outputs": [
    {
     "data": {
      "text/plain": [
       "{'I', 'S0', 'S1', 'S2'}"
      ]
     },
     "execution_count": 21,
     "metadata": {},
     "output_type": "execute_result"
    }
   ],
   "source": [
    "closeE_DC (NFA_testEclosure, {'I'})"
   ]
  },
  {
   "cell_type": "markdown",
   "metadata": {},
   "source": [
    "\n",
    "### N Passos \n",
    "\n",
    "Escritas as duas funções anteriores, podemos implementar a função que calcula o conjunto de estados activos depois da leitura de uma palavra. Para tal é importante ter como base que:\n",
    "\n",
    "$\\hat{\\delta}(Q, \\varepsilon)\\ \\ \\ =\\ \\mathrm{close}_\\varepsilon (Q)$\n",
    "\n",
    "$\\hat{\\delta}(Q, xs)\\ = \\hat{\\delta}(Q',s)$,          com          $Q' = \\mathrm{close}_\\varepsilon(\\delta(\\mathrm{close}_\\varepsilon (Q), x))$\n",
    "\n",
    "\n",
    "Assim, a seguinte função recursiva implementa esta função (o primeiro parâmetro é o autómato), e `run_nfa_DC` executa o autómato desde o conjunto de estados iniciais. \n",
    "\n",
    "No caso da `run_nfa_helper` recebe um triplo e aplica então o racícinio anterior, ou seja, inicialmente guarda na variável states o resultado da aplicação da função `closeE_DC` ao autómato e aos estados que recebidos. \n",
    "\n",
    "Posteriormente, se a palavra for vazia retornaremos então o que está guardado na variável states, caso contrário a variável states passará a ser o conjunto de estados pela aplicação da função `closeE_DC` mas, desta vez ao par (x,y), onde x é o autómato recebido e y o estados alcançados a partir dos states pela leitura do símbolo da palavra correpondente ao primeiro símbolo da palavra.\n",
    "\n",
    "De seguida, aplica-se a recursividade chamando a função `run_nfa_helper` aplicando-a ao autómato, à variável states e agora à cauda da palavra."
   ]
  },
  {
   "cell_type": "code",
   "execution_count": 22,
   "metadata": {},
   "outputs": [
    {
     "data": {
      "text/plain": [
       "{'F', 'I', 'S0'}"
      ]
     },
     "execution_count": 22,
     "metadata": {},
     "output_type": "execute_result"
    }
   ],
   "source": [
    "#adaptação da definição fornecida pelo professor\n",
    "def run_nfa_helper(N, states, s):\n",
    "\n",
    "    assert is_consistent_nfa(N), \"step_nfa given inconsistent NFA N\"\n",
    "    assert states <= N[\"Q\"], \"step_nfa given states S not in N\"\n",
    "    \n",
    "    states = closeE_DC(N, states)\n",
    "    if s==\"\":\n",
    "        return states\n",
    "    else:\n",
    "        states = closeE_DC(N, step_nfa_DC (N, states, s[0]))\n",
    "        #print (step_nfa_DC (N, states, s[0]))\n",
    "        #print(states)\n",
    "        return run_nfa_helper(N, states, s[1:])\n",
    "\n",
    "\n",
    "def run_nfa_DC(N, s):\n",
    "    return run_nfa_helper(N,  N[\"Q0\"], s)\n",
    "   \n",
    "    \n",
    "run_nfa_DC(NFA_antep1b, '0100')    "
   ]
  },
  {
   "cell_type": "markdown",
   "metadata": {},
   "source": [
    "### Versão não-recursiva (usando um ciclo) da função `run_nfa_DC` (exercício proposto pelo professor).\n",
    "\n",
    "Como é de fácil perceção a função anterior `run_nfa_DC` tem como base uma implementação recursiva, pelo que, de seguida, apresentaremos a mesma função e claro está com o mesmo objetivo, todavia, a partir de uma versão não-recursiva. \n",
    "\n",
    "Para tal decidimos manter o mesmo racícionio ao usar uma função extra que recebe um triplo. Nesta função, `run_nfa_helper1` optámos pela utilização de um ciclo `for`. Assim após novamente garantirmos estes 2 pontos:\n",
    "* a) o autómato recebido é coerente;\n",
    "* b) os estados recebidos são um sub-conjunto do conjunto de estados do autómato;\n",
    "\n",
    "O ciclo `for` será executado com base no comprimento da palavra, ou seja para todos os i em range (len (s)) . Assim, inicialmente guardaremos na variável states os estados atingidos mediante a leitura da palavra vazia, a partir dos estados recebidos. Posto isto,  a variável states irá ser alterada passando a ser o conjunto de estados pela aplicação da função `closeE_DC` mas, desta vez ao par (x,y), onde x é o autómato recebido e y o estados alcançados a partir dos states pela leitura do símbolo da palavra correpondente à posição (i). A seguir iremos então alterar o valor de i para +1, a fim de aplicar aos restantes símbolos da palavra. \n",
    "\n",
    "No final, a função irá então retornar o conjunto de estados ativos. Como queremos que a aplicação resulta a partir dos estados iniciais, a função `run_nfa_DC1`irá então chamar a função ` run_nfa_helper1 `mas partindo dos estados iniciais."
   ]
  },
  {
   "cell_type": "code",
   "execution_count": 23,
   "metadata": {},
   "outputs": [],
   "source": [
    "def run_nfa_helper1(N, states, s):\n",
    "\n",
    "    assert is_consistent_nfa(N), \"step_nfa given inconsistent NFA N\"\n",
    "    assert states <= N[\"Q\"], \"step_nfa given states S not in N\"\n",
    "    \n",
    "    \n",
    "    for i in range (len (s)):\n",
    "        states = closeE_DC(N, states)\n",
    "        #print (states)\n",
    "        states = (closeE_DC(N, step_nfa_DC (N, states, s[i])))\n",
    "        #print (states)\n",
    "        i= i+1 \n",
    "    return (states)\n",
    "            \n"
   ]
  },
  {
   "cell_type": "code",
   "execution_count": 24,
   "metadata": {},
   "outputs": [],
   "source": [
    "def run_nfa_DC1(N, s):\n",
    "    return run_nfa_helper1(N,  N[\"Q0\"], s)"
   ]
  },
  {
   "cell_type": "markdown",
   "metadata": {},
   "source": [
    "De seguida, apresentámos então aplicações da função `run_nfa_DC1 `."
   ]
  },
  {
   "cell_type": "code",
   "execution_count": 25,
   "metadata": {},
   "outputs": [
    {
     "data": {
      "image/svg+xml": [
       "<?xml version=\"1.0\" encoding=\"UTF-8\" standalone=\"no\"?>\r\n",
       "<!DOCTYPE svg PUBLIC \"-//W3C//DTD SVG 1.1//EN\"\r\n",
       " \"http://www.w3.org/Graphics/SVG/1.1/DTD/svg11.dtd\">\r\n",
       "<!-- Generated by graphviz version 2.38.0 (20140413.2041)\r\n",
       " -->\r\n",
       "<!-- Title: %3 Pages: 1 -->\r\n",
       "<svg width=\"403pt\" height=\"114pt\"\r\n",
       " viewBox=\"0.00 0.00 403.19 114.00\" xmlns=\"http://www.w3.org/2000/svg\" xmlns:xlink=\"http://www.w3.org/1999/xlink\">\r\n",
       "<g id=\"graph0\" class=\"graph\" transform=\"scale(1 1) rotate(0) translate(4 110)\">\r\n",
       "<title>%3</title>\r\n",
       "<polygon fill=\"white\" stroke=\"none\" points=\"-4,4 -4,-110 399.193,-110 399.193,4 -4,4\"/>\r\n",
       "<!-- EMPTY -->\r\n",
       "<g id=\"node1\" class=\"node\"><title>EMPTY</title>\r\n",
       "</g>\r\n",
       "<!-- I -->\r\n",
       "<g id=\"node2\" class=\"node\"><title>I</title>\r\n",
       "<ellipse fill=\"none\" stroke=\"black\" cx=\"109\" cy=\"-22\" rx=\"18\" ry=\"18\"/>\r\n",
       "<text text-anchor=\"middle\" x=\"109\" y=\"-18.3\" font-family=\"Times New Roman,serif\" font-size=\"14.00\">I</text>\r\n",
       "</g>\r\n",
       "<!-- EMPTY&#45;&gt;I -->\r\n",
       "<g id=\"edge1\" class=\"edge\"><title>EMPTY&#45;&gt;I</title>\r\n",
       "<path fill=\"none\" stroke=\"black\" d=\"M54.195,-22C62.6538,-22 72.0513,-22 80.5951,-22\"/>\r\n",
       "<polygon fill=\"black\" stroke=\"black\" points=\"80.8257,-25.5001 90.8257,-22 80.8257,-18.5001 80.8257,-25.5001\"/>\r\n",
       "</g>\r\n",
       "<!-- I&#45;&gt;I -->\r\n",
       "<g id=\"edge2\" class=\"edge\"><title>I&#45;&gt;I</title>\r\n",
       "<path fill=\"none\" stroke=\"black\" d=\"M105.764,-39.7817C105.214,-49.3149 106.293,-58 109,-58 110.65,-58 111.694,-54.7749 112.135,-50.0981\"/>\r\n",
       "<polygon fill=\"black\" stroke=\"black\" points=\"115.638,-49.8156 112.236,-39.7817 108.638,-49.7469 115.638,-49.8156\"/>\r\n",
       "<text text-anchor=\"middle\" x=\"109\" y=\"-61.8\" font-family=\"Times New Roman,serif\" font-size=\"14.00\">0 </text>\r\n",
       "</g>\r\n",
       "<!-- I&#45;&gt;I -->\r\n",
       "<g id=\"edge3\" class=\"edge\"><title>I&#45;&gt;I</title>\r\n",
       "<path fill=\"none\" stroke=\"black\" d=\"M103.684,-39.4203C100.654,-56.791 102.426,-76 109,-76 114.29,-76 116.471,-63.5617 115.542,-49.652\"/>\r\n",
       "<polygon fill=\"black\" stroke=\"black\" points=\"118.981,-48.9328 114.316,-39.4203 112.031,-49.7657 118.981,-48.9328\"/>\r\n",
       "<text text-anchor=\"middle\" x=\"109\" y=\"-79.8\" font-family=\"Times New Roman,serif\" font-size=\"14.00\">1 </text>\r\n",
       "</g>\r\n",
       "<!-- S0 -->\r\n",
       "<g id=\"node4\" class=\"node\"><title>S0</title>\r\n",
       "<ellipse fill=\"none\" stroke=\"black\" cx=\"194.798\" cy=\"-22\" rx=\"20.5982\" ry=\"20.5982\"/>\r\n",
       "<text text-anchor=\"middle\" x=\"194.798\" y=\"-18.3\" font-family=\"Times New Roman,serif\" font-size=\"14.00\">S0</text>\r\n",
       "</g>\r\n",
       "<!-- I&#45;&gt;S0 -->\r\n",
       "<g id=\"edge4\" class=\"edge\"><title>I&#45;&gt;S0</title>\r\n",
       "<path fill=\"none\" stroke=\"black\" d=\"M127.363,-22C137.819,-22 151.423,-22 163.595,-22\"/>\r\n",
       "<polygon fill=\"black\" stroke=\"black\" points=\"163.808,-25.5001 173.808,-22 163.808,-18.5001 163.808,-25.5001\"/>\r\n",
       "<text text-anchor=\"middle\" x=\"150.5\" y=\"-25.8\" font-family=\"Times New Roman,serif\" font-size=\"14.00\">1 </text>\r\n",
       "</g>\r\n",
       "<!-- S1 -->\r\n",
       "<g id=\"node3\" class=\"node\"><title>S1</title>\r\n",
       "<ellipse fill=\"none\" stroke=\"black\" cx=\"283.394\" cy=\"-22\" rx=\"20.5982\" ry=\"20.5982\"/>\r\n",
       "<text text-anchor=\"middle\" x=\"283.394\" y=\"-18.3\" font-family=\"Times New Roman,serif\" font-size=\"14.00\">S1</text>\r\n",
       "</g>\r\n",
       "<!-- F -->\r\n",
       "<g id=\"node5\" class=\"node\"><title>F</title>\r\n",
       "<ellipse fill=\"none\" stroke=\"black\" cx=\"373.193\" cy=\"-22\" rx=\"18\" ry=\"18\"/>\r\n",
       "<ellipse fill=\"none\" stroke=\"black\" cx=\"373.193\" cy=\"-22\" rx=\"22\" ry=\"22\"/>\r\n",
       "<text text-anchor=\"middle\" x=\"373.193\" y=\"-18.3\" font-family=\"Times New Roman,serif\" font-size=\"14.00\">F</text>\r\n",
       "</g>\r\n",
       "<!-- S1&#45;&gt;F -->\r\n",
       "<g id=\"edge7\" class=\"edge\"><title>S1&#45;&gt;F</title>\r\n",
       "<path fill=\"none\" stroke=\"black\" d=\"M304.317,-22C315.117,-22 328.711,-22 340.89,-22\"/>\r\n",
       "<polygon fill=\"black\" stroke=\"black\" points=\"341.124,-25.5001 351.124,-22 341.124,-18.5001 341.124,-25.5001\"/>\r\n",
       "<text text-anchor=\"middle\" x=\"327.693\" y=\"-25.8\" font-family=\"Times New Roman,serif\" font-size=\"14.00\">0 </text>\r\n",
       "</g>\r\n",
       "<!-- S1&#45;&gt;F -->\r\n",
       "<g id=\"edge8\" class=\"edge\"><title>S1&#45;&gt;F</title>\r\n",
       "<path fill=\"none\" stroke=\"black\" d=\"M301.435,-11.3209C307.716,-7.96503 315.046,-4.69507 322.193,-3 329.771,-1.20242 337.751,-2.62232 345.056,-5.34433\"/>\r\n",
       "<polygon fill=\"black\" stroke=\"black\" points=\"343.949,-8.6876 354.497,-9.68337 346.872,-2.32716 343.949,-8.6876\"/>\r\n",
       "<text text-anchor=\"middle\" x=\"327.693\" y=\"-6.8\" font-family=\"Times New Roman,serif\" font-size=\"14.00\">1 </text>\r\n",
       "</g>\r\n",
       "<!-- S0&#45;&gt;S1 -->\r\n",
       "<g id=\"edge5\" class=\"edge\"><title>S0&#45;&gt;S1</title>\r\n",
       "<path fill=\"none\" stroke=\"black\" d=\"M215.883,-22C226.703,-22 240.269,-22 252.323,-22\"/>\r\n",
       "<polygon fill=\"black\" stroke=\"black\" points=\"252.419,-25.5001 262.419,-22 252.419,-18.5001 252.419,-25.5001\"/>\r\n",
       "<text text-anchor=\"middle\" x=\"239.096\" y=\"-25.8\" font-family=\"Times New Roman,serif\" font-size=\"14.00\">0 </text>\r\n",
       "</g>\r\n",
       "<!-- S0&#45;&gt;S1 -->\r\n",
       "<g id=\"edge6\" class=\"edge\"><title>S0&#45;&gt;S1</title>\r\n",
       "<path fill=\"none\" stroke=\"black\" d=\"M212.838,-11.3209C219.119,-7.96503 226.45,-4.69507 233.596,-3 241.259,-1.18242 249.323,-2.7704 256.64,-5.66733\"/>\r\n",
       "<polygon fill=\"black\" stroke=\"black\" points=\"255.522,-9.01481 266.046,-10.2321 258.578,-2.71722 255.522,-9.01481\"/>\r\n",
       "<text text-anchor=\"middle\" x=\"239.096\" y=\"-6.8\" font-family=\"Times New Roman,serif\" font-size=\"14.00\">1 </text>\r\n",
       "</g>\r\n",
       "</g>\r\n",
       "</svg>\r\n"
      ],
      "text/plain": [
       "<graphviz.dot.Digraph at 0x1aa9e0040c8>"
      ]
     },
     "execution_count": 25,
     "metadata": {},
     "output_type": "execute_result"
    }
   ],
   "source": [
    "dotObj_nfa(NFA_antep1a)"
   ]
  },
  {
   "cell_type": "code",
   "execution_count": 26,
   "metadata": {},
   "outputs": [
    {
     "data": {
      "text/plain": [
       "{'F', 'I'}"
      ]
     },
     "execution_count": 26,
     "metadata": {},
     "output_type": "execute_result"
    }
   ],
   "source": [
    "run_nfa_DC1(NFA_antep1a, '0100')"
   ]
  },
  {
   "cell_type": "code",
   "execution_count": 27,
   "metadata": {},
   "outputs": [
    {
     "data": {
      "image/svg+xml": [
       "<?xml version=\"1.0\" encoding=\"UTF-8\" standalone=\"no\"?>\r\n",
       "<!DOCTYPE svg PUBLIC \"-//W3C//DTD SVG 1.1//EN\"\r\n",
       " \"http://www.w3.org/Graphics/SVG/1.1/DTD/svg11.dtd\">\r\n",
       "<!-- Generated by graphviz version 2.38.0 (20140413.2041)\r\n",
       " -->\r\n",
       "<!-- Title: %3 Pages: 1 -->\r\n",
       "<svg width=\"491pt\" height=\"114pt\"\r\n",
       " viewBox=\"0.00 0.00 490.79 114.00\" xmlns=\"http://www.w3.org/2000/svg\" xmlns:xlink=\"http://www.w3.org/1999/xlink\">\r\n",
       "<g id=\"graph0\" class=\"graph\" transform=\"scale(1 1) rotate(0) translate(4 110)\">\r\n",
       "<title>%3</title>\r\n",
       "<polygon fill=\"white\" stroke=\"none\" points=\"-4,4 -4,-110 486.789,-110 486.789,4 -4,4\"/>\r\n",
       "<!-- EMPTY -->\r\n",
       "<g id=\"node1\" class=\"node\"><title>EMPTY</title>\r\n",
       "</g>\r\n",
       "<!-- I -->\r\n",
       "<g id=\"node3\" class=\"node\"><title>I</title>\r\n",
       "<ellipse fill=\"none\" stroke=\"black\" cx=\"109\" cy=\"-22\" rx=\"18\" ry=\"18\"/>\r\n",
       "<text text-anchor=\"middle\" x=\"109\" y=\"-18.3\" font-family=\"Times New Roman,serif\" font-size=\"14.00\">I</text>\r\n",
       "</g>\r\n",
       "<!-- EMPTY&#45;&gt;I -->\r\n",
       "<g id=\"edge1\" class=\"edge\"><title>EMPTY&#45;&gt;I</title>\r\n",
       "<path fill=\"none\" stroke=\"black\" d=\"M54.195,-22C62.6538,-22 72.0513,-22 80.5951,-22\"/>\r\n",
       "<polygon fill=\"black\" stroke=\"black\" points=\"80.8257,-25.5001 90.8257,-22 80.8257,-18.5001 80.8257,-25.5001\"/>\r\n",
       "</g>\r\n",
       "<!-- S2 -->\r\n",
       "<g id=\"node2\" class=\"node\"><title>S2</title>\r\n",
       "<ellipse fill=\"none\" stroke=\"black\" cx=\"370.991\" cy=\"-22\" rx=\"20.5982\" ry=\"20.5982\"/>\r\n",
       "<text text-anchor=\"middle\" x=\"370.991\" y=\"-18.3\" font-family=\"Times New Roman,serif\" font-size=\"14.00\">S2</text>\r\n",
       "</g>\r\n",
       "<!-- F -->\r\n",
       "<g id=\"node6\" class=\"node\"><title>F</title>\r\n",
       "<ellipse fill=\"none\" stroke=\"black\" cx=\"460.789\" cy=\"-22\" rx=\"18\" ry=\"18\"/>\r\n",
       "<ellipse fill=\"none\" stroke=\"black\" cx=\"460.789\" cy=\"-22\" rx=\"22\" ry=\"22\"/>\r\n",
       "<text text-anchor=\"middle\" x=\"460.789\" y=\"-18.3\" font-family=\"Times New Roman,serif\" font-size=\"14.00\">F</text>\r\n",
       "</g>\r\n",
       "<!-- S2&#45;&gt;F -->\r\n",
       "<g id=\"edge8\" class=\"edge\"><title>S2&#45;&gt;F</title>\r\n",
       "<path fill=\"none\" stroke=\"black\" d=\"M391.914,-22C402.714,-22 416.307,-22 428.487,-22\"/>\r\n",
       "<polygon fill=\"black\" stroke=\"black\" points=\"428.721,-25.5001 438.721,-22 428.721,-18.5001 428.721,-25.5001\"/>\r\n",
       "<text text-anchor=\"middle\" x=\"415.289\" y=\"-25.8\" font-family=\"Times New Roman,serif\" font-size=\"14.00\">0 </text>\r\n",
       "</g>\r\n",
       "<!-- S2&#45;&gt;F -->\r\n",
       "<g id=\"edge9\" class=\"edge\"><title>S2&#45;&gt;F</title>\r\n",
       "<path fill=\"none\" stroke=\"black\" d=\"M389.031,-11.3209C395.312,-7.96503 402.643,-4.69507 409.789,-3 417.367,-1.20242 425.347,-2.62232 432.652,-5.34433\"/>\r\n",
       "<polygon fill=\"black\" stroke=\"black\" points=\"431.545,-8.6876 442.093,-9.68337 434.468,-2.32716 431.545,-8.6876\"/>\r\n",
       "<text text-anchor=\"middle\" x=\"415.289\" y=\"-6.8\" font-family=\"Times New Roman,serif\" font-size=\"14.00\">1 </text>\r\n",
       "</g>\r\n",
       "<!-- I&#45;&gt;I -->\r\n",
       "<g id=\"edge2\" class=\"edge\"><title>I&#45;&gt;I</title>\r\n",
       "<path fill=\"none\" stroke=\"black\" d=\"M105.764,-39.7817C105.214,-49.3149 106.293,-58 109,-58 110.65,-58 111.694,-54.7749 112.135,-50.0981\"/>\r\n",
       "<polygon fill=\"black\" stroke=\"black\" points=\"115.638,-49.8156 112.236,-39.7817 108.638,-49.7469 115.638,-49.8156\"/>\r\n",
       "<text text-anchor=\"middle\" x=\"109\" y=\"-61.8\" font-family=\"Times New Roman,serif\" font-size=\"14.00\">0 </text>\r\n",
       "</g>\r\n",
       "<!-- I&#45;&gt;I -->\r\n",
       "<g id=\"edge3\" class=\"edge\"><title>I&#45;&gt;I</title>\r\n",
       "<path fill=\"none\" stroke=\"black\" d=\"M103.684,-39.4203C100.654,-56.791 102.426,-76 109,-76 114.29,-76 116.471,-63.5617 115.542,-49.652\"/>\r\n",
       "<polygon fill=\"black\" stroke=\"black\" points=\"118.981,-48.9328 114.316,-39.4203 112.031,-49.7657 118.981,-48.9328\"/>\r\n",
       "<text text-anchor=\"middle\" x=\"109\" y=\"-79.8\" font-family=\"Times New Roman,serif\" font-size=\"14.00\">1 </text>\r\n",
       "</g>\r\n",
       "<!-- S0 -->\r\n",
       "<g id=\"node5\" class=\"node\"><title>S0</title>\r\n",
       "<ellipse fill=\"none\" stroke=\"black\" cx=\"193.798\" cy=\"-22\" rx=\"20.5982\" ry=\"20.5982\"/>\r\n",
       "<text text-anchor=\"middle\" x=\"193.798\" y=\"-18.3\" font-family=\"Times New Roman,serif\" font-size=\"14.00\">S0</text>\r\n",
       "</g>\r\n",
       "<!-- I&#45;&gt;S0 -->\r\n",
       "<g id=\"edge4\" class=\"edge\"><title>I&#45;&gt;S0</title>\r\n",
       "<path fill=\"none\" stroke=\"black\" d=\"M127.156,-22C137.414,-22 150.738,-22 162.699,-22\"/>\r\n",
       "<polygon fill=\"black\" stroke=\"black\" points=\"162.748,-25.5001 172.748,-22 162.748,-18.5001 162.748,-25.5001\"/>\r\n",
       "<text text-anchor=\"middle\" x=\"150\" y=\"-25.8\" font-family=\"Times New Roman,serif\" font-size=\"14.00\">&#39;&#39; </text>\r\n",
       "</g>\r\n",
       "<!-- S1 -->\r\n",
       "<g id=\"node4\" class=\"node\"><title>S1</title>\r\n",
       "<ellipse fill=\"none\" stroke=\"black\" cx=\"282.394\" cy=\"-22\" rx=\"20.5982\" ry=\"20.5982\"/>\r\n",
       "<text text-anchor=\"middle\" x=\"282.394\" y=\"-18.3\" font-family=\"Times New Roman,serif\" font-size=\"14.00\">S1</text>\r\n",
       "</g>\r\n",
       "<!-- S1&#45;&gt;S2 -->\r\n",
       "<g id=\"edge6\" class=\"edge\"><title>S1&#45;&gt;S2</title>\r\n",
       "<path fill=\"none\" stroke=\"black\" d=\"M303.479,-22C314.299,-22 327.866,-22 339.919,-22\"/>\r\n",
       "<polygon fill=\"black\" stroke=\"black\" points=\"340.015,-25.5001 350.015,-22 340.015,-18.5001 340.015,-25.5001\"/>\r\n",
       "<text text-anchor=\"middle\" x=\"326.693\" y=\"-25.8\" font-family=\"Times New Roman,serif\" font-size=\"14.00\">0 </text>\r\n",
       "</g>\r\n",
       "<!-- S1&#45;&gt;S2 -->\r\n",
       "<g id=\"edge7\" class=\"edge\"><title>S1&#45;&gt;S2</title>\r\n",
       "<path fill=\"none\" stroke=\"black\" d=\"M300.435,-11.3209C306.716,-7.96503 314.046,-4.69507 321.193,-3 328.855,-1.18242 336.92,-2.7704 344.237,-5.66733\"/>\r\n",
       "<polygon fill=\"black\" stroke=\"black\" points=\"343.118,-9.01481 353.643,-10.2321 346.174,-2.71722 343.118,-9.01481\"/>\r\n",
       "<text text-anchor=\"middle\" x=\"326.693\" y=\"-6.8\" font-family=\"Times New Roman,serif\" font-size=\"14.00\">1 </text>\r\n",
       "</g>\r\n",
       "<!-- S0&#45;&gt;S1 -->\r\n",
       "<g id=\"edge5\" class=\"edge\"><title>S0&#45;&gt;S1</title>\r\n",
       "<path fill=\"none\" stroke=\"black\" d=\"M214.883,-22C225.703,-22 239.269,-22 251.323,-22\"/>\r\n",
       "<polygon fill=\"black\" stroke=\"black\" points=\"251.419,-25.5001 261.419,-22 251.419,-18.5001 251.419,-25.5001\"/>\r\n",
       "<text text-anchor=\"middle\" x=\"238.096\" y=\"-25.8\" font-family=\"Times New Roman,serif\" font-size=\"14.00\">1 </text>\r\n",
       "</g>\r\n",
       "</g>\r\n",
       "</svg>\r\n"
      ],
      "text/plain": [
       "<graphviz.dot.Digraph at 0x1aa9dfaf8c8>"
      ]
     },
     "execution_count": 27,
     "metadata": {},
     "output_type": "execute_result"
    }
   ],
   "source": [
    "dotObj_nfa(NFA_antep1b)"
   ]
  },
  {
   "cell_type": "code",
   "execution_count": 28,
   "metadata": {},
   "outputs": [
    {
     "data": {
      "text/plain": [
       "{'F', 'I', 'S0'}"
      ]
     },
     "execution_count": 28,
     "metadata": {},
     "output_type": "execute_result"
    }
   ],
   "source": [
    "run_nfa_DC1(NFA_antep1b, '0100')"
   ]
  },
  {
   "cell_type": "markdown",
   "metadata": {},
   "source": [
    "Desta forma, confirmamos a validade da função escrita."
   ]
  },
  {
   "cell_type": "markdown",
   "metadata": {},
   "source": [
    "### Função de Aceitação\n",
    "Podemos agora escrever facilmente o predicado que decide se uma palavra é ou não aceite por um autómato NFA. Para tal, precisámos apenas de usar a função `run_nfa_DC` e para o resultado desta função que correponde a um conjunto de estados ativos pela leitura de uma palavra s, vamos verificar se algum desses estados é final. Caso se verifique, a função devolve True e também o estado final do autómato que garante essa aceitação. Caso contrário, devolve simplesmente False."
   ]
  },
  {
   "cell_type": "code",
   "execution_count": 29,
   "metadata": {},
   "outputs": [],
   "source": [
    "#definição fornecida pelo professor\n",
    "def accepts (N, s) : \n",
    "    S = run_nfa_DC(N, s)\n",
    "    for q in S : \n",
    "        if q in N[\"F\"]:\n",
    "            return (True, q)\n",
    "    return False"
   ]
  },
  {
   "cell_type": "markdown",
   "metadata": {},
   "source": [
    "Apresentámos de seguida um outro autómato (NFA23)."
   ]
  },
  {
   "cell_type": "code",
   "execution_count": 30,
   "metadata": {},
   "outputs": [
    {
     "data": {
      "image/svg+xml": [
       "<?xml version=\"1.0\" encoding=\"UTF-8\" standalone=\"no\"?>\r\n",
       "<!DOCTYPE svg PUBLIC \"-//W3C//DTD SVG 1.1//EN\"\r\n",
       " \"http://www.w3.org/Graphics/SVG/1.1/DTD/svg11.dtd\">\r\n",
       "<!-- Generated by graphviz version 2.38.0 (20140413.2041)\r\n",
       " -->\r\n",
       "<!-- Title: %3 Pages: 1 -->\r\n",
       "<svg width=\"589pt\" height=\"118pt\"\r\n",
       " viewBox=\"0.00 0.00 588.58 118.25\" xmlns=\"http://www.w3.org/2000/svg\" xmlns:xlink=\"http://www.w3.org/1999/xlink\">\r\n",
       "<g id=\"graph0\" class=\"graph\" transform=\"scale(1 1) rotate(0) translate(4 114.246)\">\r\n",
       "<title>%3</title>\r\n",
       "<polygon fill=\"white\" stroke=\"none\" points=\"-4,4 -4,-114.246 584.581,-114.246 584.581,4 -4,4\"/>\r\n",
       "<!-- EMPTY -->\r\n",
       "<g id=\"node1\" class=\"node\"><title>EMPTY</title>\r\n",
       "</g>\r\n",
       "<!-- A0 -->\r\n",
       "<g id=\"node5\" class=\"node\"><title>A0</title>\r\n",
       "<ellipse fill=\"none\" stroke=\"black\" cx=\"112.448\" cy=\"-56.4481\" rx=\"21.3963\" ry=\"21.3963\"/>\r\n",
       "<text text-anchor=\"middle\" x=\"112.448\" y=\"-52.7481\" font-family=\"Times New Roman,serif\" font-size=\"14.00\">A0</text>\r\n",
       "</g>\r\n",
       "<!-- EMPTY&#45;&gt;A0 -->\r\n",
       "<g id=\"edge1\" class=\"edge\"><title>EMPTY&#45;&gt;A0</title>\r\n",
       "<path fill=\"none\" stroke=\"black\" d=\"M54.4035,-56.4481C62.7544,-56.4481 72.0562,-56.4481 80.6848,-56.4481\"/>\r\n",
       "<polygon fill=\"black\" stroke=\"black\" points=\"80.7669,-59.9482 90.7669,-56.4481 80.7669,-52.9482 80.7669,-59.9482\"/>\r\n",
       "</g>\r\n",
       "<!-- A1 -->\r\n",
       "<g id=\"node2\" class=\"node\"><title>A1</title>\r\n",
       "<ellipse fill=\"none\" stroke=\"black\" cx=\"202.344\" cy=\"-21.4481\" rx=\"21.3963\" ry=\"21.3963\"/>\r\n",
       "<text text-anchor=\"middle\" x=\"202.344\" y=\"-17.7481\" font-family=\"Times New Roman,serif\" font-size=\"14.00\">A1</text>\r\n",
       "</g>\r\n",
       "<!-- B0 -->\r\n",
       "<g id=\"node4\" class=\"node\"><title>B0</title>\r\n",
       "<ellipse fill=\"none\" stroke=\"black\" cx=\"291.591\" cy=\"-56.4481\" rx=\"20.5982\" ry=\"20.5982\"/>\r\n",
       "<text text-anchor=\"middle\" x=\"291.591\" y=\"-52.7481\" font-family=\"Times New Roman,serif\" font-size=\"14.00\">B0</text>\r\n",
       "</g>\r\n",
       "<!-- A1&#45;&gt;B0 -->\r\n",
       "<g id=\"edge3\" class=\"edge\"><title>A1&#45;&gt;B0</title>\r\n",
       "<path fill=\"none\" stroke=\"black\" d=\"M222.707,-29.2157C234.388,-33.9019 249.473,-39.9532 262.455,-45.161\"/>\r\n",
       "<polygon fill=\"black\" stroke=\"black\" points=\"261.297,-48.4675 271.881,-48.9424 263.903,-41.9708 261.297,-48.4675\"/>\r\n",
       "<text text-anchor=\"middle\" x=\"247.292\" y=\"-45.2481\" font-family=\"Times New Roman,serif\" font-size=\"14.00\">0 </text>\r\n",
       "</g>\r\n",
       "<!-- B1 -->\r\n",
       "<g id=\"node3\" class=\"node\"><title>B1</title>\r\n",
       "<ellipse fill=\"none\" stroke=\"black\" cx=\"380.187\" cy=\"-89.4481\" rx=\"20.5982\" ry=\"20.5982\"/>\r\n",
       "<text text-anchor=\"middle\" x=\"380.187\" y=\"-85.7481\" font-family=\"Times New Roman,serif\" font-size=\"14.00\">B1</text>\r\n",
       "</g>\r\n",
       "<!-- B2 -->\r\n",
       "<g id=\"node6\" class=\"node\"><title>B2</title>\r\n",
       "<ellipse fill=\"none\" stroke=\"black\" cx=\"468.783\" cy=\"-89.4481\" rx=\"20.5982\" ry=\"20.5982\"/>\r\n",
       "<text text-anchor=\"middle\" x=\"468.783\" y=\"-85.7481\" font-family=\"Times New Roman,serif\" font-size=\"14.00\">B2</text>\r\n",
       "</g>\r\n",
       "<!-- B1&#45;&gt;B2 -->\r\n",
       "<g id=\"edge6\" class=\"edge\"><title>B1&#45;&gt;B2</title>\r\n",
       "<path fill=\"none\" stroke=\"black\" d=\"M401.271,-89.4481C412.092,-89.4481 425.658,-89.4481 437.711,-89.4481\"/>\r\n",
       "<polygon fill=\"black\" stroke=\"black\" points=\"437.808,-92.9482 447.807,-89.4481 437.807,-85.9482 437.808,-92.9482\"/>\r\n",
       "<text text-anchor=\"middle\" x=\"424.485\" y=\"-93.2481\" font-family=\"Times New Roman,serif\" font-size=\"14.00\">1 </text>\r\n",
       "</g>\r\n",
       "<!-- B0&#45;&gt;B1 -->\r\n",
       "<g id=\"edge5\" class=\"edge\"><title>B0&#45;&gt;B1</title>\r\n",
       "<path fill=\"none\" stroke=\"black\" d=\"M311.381,-63.6086C322.955,-68.0195 338.014,-73.7581 351,-78.7065\"/>\r\n",
       "<polygon fill=\"black\" stroke=\"black\" points=\"349.843,-82.0111 360.433,-82.3016 352.335,-75.4699 349.843,-82.0111\"/>\r\n",
       "<text text-anchor=\"middle\" x=\"335.889\" y=\"-78.2481\" font-family=\"Times New Roman,serif\" font-size=\"14.00\">1 </text>\r\n",
       "</g>\r\n",
       "<!-- B0&#45;&gt;A0 -->\r\n",
       "<g id=\"edge4\" class=\"edge\"><title>B0&#45;&gt;A0</title>\r\n",
       "<path fill=\"none\" stroke=\"black\" d=\"M270.613,-58.9598C264.87,-59.5738 258.591,-60.1421 252.792,-60.4481 208.012,-62.811 196.679,-62.7713 151.896,-60.4481 149.316,-60.3142 146.642,-60.1302 143.961,-59.914\"/>\r\n",
       "<polygon fill=\"black\" stroke=\"black\" points=\"144.053,-56.4074 133.77,-58.9598 143.4,-63.3769 144.053,-56.4074\"/>\r\n",
       "<text text-anchor=\"middle\" x=\"202.344\" y=\"-65.2481\" font-family=\"Times New Roman,serif\" font-size=\"14.00\">&#39;&#39; </text>\r\n",
       "</g>\r\n",
       "<!-- A0&#45;&gt;A1 -->\r\n",
       "<g id=\"edge2\" class=\"edge\"><title>A0&#45;&gt;A1</title>\r\n",
       "<path fill=\"none\" stroke=\"black\" d=\"M132.52,-48.8536C144.188,-44.2075 159.344,-38.1724 172.463,-32.9486\"/>\r\n",
       "<polygon fill=\"black\" stroke=\"black\" points=\"174.01,-36.0998 182.006,-29.1486 171.42,-29.5965 174.01,-36.0998\"/>\r\n",
       "<text text-anchor=\"middle\" x=\"157.396\" y=\"-45.2481\" font-family=\"Times New Roman,serif\" font-size=\"14.00\">0 </text>\r\n",
       "</g>\r\n",
       "<!-- F -->\r\n",
       "<g id=\"node7\" class=\"node\"><title>F</title>\r\n",
       "<ellipse fill=\"none\" stroke=\"black\" cx=\"558.581\" cy=\"-60.4481\" rx=\"18\" ry=\"18\"/>\r\n",
       "<ellipse fill=\"none\" stroke=\"black\" cx=\"558.581\" cy=\"-60.4481\" rx=\"22\" ry=\"22\"/>\r\n",
       "<text text-anchor=\"middle\" x=\"558.581\" y=\"-56.7481\" font-family=\"Times New Roman,serif\" font-size=\"14.00\">F</text>\r\n",
       "</g>\r\n",
       "<!-- B2&#45;&gt;F -->\r\n",
       "<g id=\"edge7\" class=\"edge\"><title>B2&#45;&gt;F</title>\r\n",
       "<path fill=\"none\" stroke=\"black\" d=\"M488.834,-83.1555C500.136,-79.4225 514.714,-74.6072 527.536,-70.3722\"/>\r\n",
       "<polygon fill=\"black\" stroke=\"black\" points=\"528.948,-73.5918 537.346,-67.132 526.752,-66.945 528.948,-73.5918\"/>\r\n",
       "<text text-anchor=\"middle\" x=\"513.081\" y=\"-80.2481\" font-family=\"Times New Roman,serif\" font-size=\"14.00\">1 </text>\r\n",
       "</g>\r\n",
       "<!-- F&#45;&gt;B0 -->\r\n",
       "<g id=\"edge8\" class=\"edge\"><title>F&#45;&gt;B0</title>\r\n",
       "<path fill=\"none\" stroke=\"black\" d=\"M536.332,-60.1273C489.456,-59.4198 377.054,-57.7231 322.843,-56.9048\"/>\r\n",
       "<polygon fill=\"black\" stroke=\"black\" points=\"322.56,-53.4002 312.508,-56.7487 322.454,-60.3994 322.56,-53.4002\"/>\r\n",
       "<text text-anchor=\"middle\" x=\"424.485\" y=\"-62.2481\" font-family=\"Times New Roman,serif\" font-size=\"14.00\">&#39;&#39; </text>\r\n",
       "</g>\r\n",
       "</g>\r\n",
       "</svg>\r\n"
      ],
      "text/plain": [
       "<graphviz.dot.Digraph at 0x1aa9dff5548>"
      ]
     },
     "execution_count": 30,
     "metadata": {},
     "output_type": "execute_result"
    }
   ],
   "source": [
    "NFA23 = { 'Q': {'A0','A1','B0','B1','B2','F'},\n",
    "          'Sigma': {'0', '1'},\n",
    "          'Delta': { # \n",
    "                     ('A0', '0') : {'A1'},\n",
    "                     ('A1', '0') : {'B0'},\n",
    "                     #\n",
    "                     ('B0', '')  : {'A0'},\n",
    "                     #\n",
    "                     ('B0', '1') : {'B1'},\n",
    "                     ('B1', '1') : {'B2'},\n",
    "                     ('B2', '1') : {'F'},\n",
    "                     # \n",
    "                     ('F', '')   : {'B0'},\n",
    "                   },\n",
    "          'Q0': {'A0'}, \n",
    "          'F' : {'F'}   \n",
    "        }\n",
    "dotObj_nfa(NFA23)"
   ]
  },
  {
   "cell_type": "markdown",
   "metadata": {},
   "source": [
    "De seguida, ilustrámos vários exemplos pela aplicação das 3 funções, anteriormente, descritas ao autómato anterior:\n",
    "* `run_nfa_DC`- a versão recursiva;\n",
    "* `run_nfa_DC1`- a versão não recursiva;\n",
    "* `accepts`"
   ]
  },
  {
   "cell_type": "code",
   "execution_count": 31,
   "metadata": {},
   "outputs": [
    {
     "name": "stdout",
     "output_type": "stream",
     "text": [
      "set()\n",
      "{'B0', 'A0'}\n",
      "{'B0', 'F', 'A0'}\n",
      "{'A1'}\n",
      "{'B1'}\n",
      "{'B2'}\n",
      "{'B0', 'F', 'A0'}\n",
      "\n",
      "set()\n",
      "{'B0', 'A0'}\n",
      "{'B0', 'F', 'A0'}\n",
      "{'A1'}\n",
      "{'B1'}\n",
      "{'B2'}\n",
      "{'B0', 'F', 'A0'}\n",
      "\n",
      "False\n",
      "False\n",
      "(True, 'F')\n",
      "False\n",
      "False\n",
      "False\n",
      "(True, 'F')\n"
     ]
    }
   ],
   "source": [
    "# Expected Results: set(), {'B0', 'A0'}, {'A0', 'B0', 'F'}, {'A1'}, {'B1'}\n",
    "\n",
    "print(run_nfa_DC(NFA23, \"01\"))\n",
    "print(run_nfa_DC(NFA23, \"00\"))\n",
    "print(run_nfa_DC(NFA23, \"00111\"))\n",
    "print(run_nfa_DC(NFA23, \"001110\"))\n",
    "print(run_nfa_DC(NFA23, \"001111\"))\n",
    "print(run_nfa_DC(NFA23, \"0011111\"))\n",
    "print(run_nfa_DC(NFA23, \"0011100111\"))\n",
    "print()\n",
    "print(run_nfa_DC1(NFA23, \"01\"))\n",
    "print(run_nfa_DC1(NFA23, \"00\"))\n",
    "print(run_nfa_DC1(NFA23, \"00111\"))\n",
    "print(run_nfa_DC1(NFA23, \"001110\"))\n",
    "print(run_nfa_DC1(NFA23, \"001111\"))\n",
    "print(run_nfa_DC1(NFA23, \"0011111\"))\n",
    "print(run_nfa_DC1(NFA23, \"0011100111\"))\n",
    "print()\n",
    "print(accepts(NFA23, \"01\"))\n",
    "print(accepts(NFA23, \"00\"))\n",
    "print(accepts(NFA23, \"00111\"))\n",
    "print(accepts(NFA23, \"001110\"))\n",
    "print(accepts(NFA23, \"001111\"))\n",
    "print(accepts(NFA23, \"0011111\"))\n",
    "print(accepts(NFA23, \"0011100111\"))"
   ]
  },
  {
   "cell_type": "markdown",
   "metadata": {},
   "source": [
    "### Função de Aceitação com Cálculo dos Estados Intermédios (Caminho) (exercício proposto pelo professor)"
   ]
  },
  {
   "cell_type": "code",
   "execution_count": 32,
   "metadata": {},
   "outputs": [
    {
     "data": {
      "image/svg+xml": [
       "<?xml version=\"1.0\" encoding=\"UTF-8\" standalone=\"no\"?>\r\n",
       "<!DOCTYPE svg PUBLIC \"-//W3C//DTD SVG 1.1//EN\"\r\n",
       " \"http://www.w3.org/Graphics/SVG/1.1/DTD/svg11.dtd\">\r\n",
       "<!-- Generated by graphviz version 2.38.0 (20140413.2041)\r\n",
       " -->\r\n",
       "<!-- Title: %3 Pages: 1 -->\r\n",
       "<svg width=\"316pt\" height=\"112pt\"\r\n",
       " viewBox=\"0.00 0.00 315.90 111.90\" xmlns=\"http://www.w3.org/2000/svg\" xmlns:xlink=\"http://www.w3.org/1999/xlink\">\r\n",
       "<g id=\"graph0\" class=\"graph\" transform=\"scale(1 1) rotate(0) translate(4 107.896)\">\r\n",
       "<title>%3</title>\r\n",
       "<polygon fill=\"white\" stroke=\"none\" points=\"-4,4 -4,-107.896 311.896,-107.896 311.896,4 -4,4\"/>\r\n",
       "<!-- EMPTY -->\r\n",
       "<g id=\"node1\" class=\"node\"><title>EMPTY</title>\r\n",
       "</g>\r\n",
       "<!-- I -->\r\n",
       "<g id=\"node2\" class=\"node\"><title>I</title>\r\n",
       "<ellipse fill=\"none\" stroke=\"black\" cx=\"109\" cy=\"-59.4481\" rx=\"18\" ry=\"18\"/>\r\n",
       "<text text-anchor=\"middle\" x=\"109\" y=\"-55.7481\" font-family=\"Times New Roman,serif\" font-size=\"14.00\">I</text>\r\n",
       "</g>\r\n",
       "<!-- EMPTY&#45;&gt;I -->\r\n",
       "<g id=\"edge1\" class=\"edge\"><title>EMPTY&#45;&gt;I</title>\r\n",
       "<path fill=\"none\" stroke=\"black\" d=\"M54.195,-59.4481C62.6538,-59.4481 72.0513,-59.4481 80.5951,-59.4481\"/>\r\n",
       "<polygon fill=\"black\" stroke=\"black\" points=\"80.8257,-62.9482 90.8257,-59.4481 80.8257,-55.9482 80.8257,-62.9482\"/>\r\n",
       "</g>\r\n",
       "<!-- A2 -->\r\n",
       "<g id=\"node3\" class=\"node\"><title>A2</title>\r\n",
       "<ellipse fill=\"none\" stroke=\"black\" cx=\"195.448\" cy=\"-82.4481\" rx=\"21.3963\" ry=\"21.3963\"/>\r\n",
       "<text text-anchor=\"middle\" x=\"195.448\" y=\"-78.7481\" font-family=\"Times New Roman,serif\" font-size=\"14.00\">A2</text>\r\n",
       "</g>\r\n",
       "<!-- I&#45;&gt;A2 -->\r\n",
       "<g id=\"edge3\" class=\"edge\"><title>I&#45;&gt;A2</title>\r\n",
       "<path fill=\"none\" stroke=\"black\" d=\"M125.311,-67.6077C131.304,-70.4899 138.331,-73.4965 145,-75.4481 150.971,-77.1954 157.479,-78.5131 163.754,-79.5048\"/>\r\n",
       "<polygon fill=\"black\" stroke=\"black\" points=\"163.58,-83.0131 173.959,-80.8842 164.518,-76.0762 163.58,-83.0131\"/>\r\n",
       "<text text-anchor=\"middle\" x=\"150.5\" y=\"-82.2481\" font-family=\"Times New Roman,serif\" font-size=\"14.00\">&#39;&#39; </text>\r\n",
       "</g>\r\n",
       "<!-- A1 -->\r\n",
       "<g id=\"node4\" class=\"node\"><title>A1</title>\r\n",
       "<ellipse fill=\"none\" stroke=\"black\" cx=\"195.448\" cy=\"-21.4481\" rx=\"21.3963\" ry=\"21.3963\"/>\r\n",
       "<text text-anchor=\"middle\" x=\"195.448\" y=\"-17.7481\" font-family=\"Times New Roman,serif\" font-size=\"14.00\">A1</text>\r\n",
       "</g>\r\n",
       "<!-- I&#45;&gt;A1 -->\r\n",
       "<g id=\"edge2\" class=\"edge\"><title>I&#45;&gt;A1</title>\r\n",
       "<path fill=\"none\" stroke=\"black\" d=\"M123.764,-49.0812C130.004,-44.7357 137.625,-39.9016 145,-36.4481 151.078,-33.6019 157.827,-31.1381 164.335,-29.0764\"/>\r\n",
       "<polygon fill=\"black\" stroke=\"black\" points=\"165.624,-32.3458 174.233,-26.1703 163.652,-25.6292 165.624,-32.3458\"/>\r\n",
       "<text text-anchor=\"middle\" x=\"150.5\" y=\"-40.2481\" font-family=\"Times New Roman,serif\" font-size=\"14.00\">0 </text>\r\n",
       "</g>\r\n",
       "<!-- A2&#45;&gt;I -->\r\n",
       "<g id=\"edge5\" class=\"edge\"><title>A2&#45;&gt;I</title>\r\n",
       "<path fill=\"none\" stroke=\"black\" d=\"M178.728,-68.7066C172.162,-63.8379 164.167,-58.9502 156,-56.4481 150.019,-54.6158 143.403,-54.1819 137.097,-54.4633\"/>\r\n",
       "<polygon fill=\"black\" stroke=\"black\" points=\"136.539,-51.0018 126.943,-55.4917 137.244,-57.9662 136.539,-51.0018\"/>\r\n",
       "<text text-anchor=\"middle\" x=\"150.5\" y=\"-60.2481\" font-family=\"Times New Roman,serif\" font-size=\"14.00\">1 </text>\r\n",
       "</g>\r\n",
       "<!-- F -->\r\n",
       "<g id=\"node5\" class=\"node\"><title>F</title>\r\n",
       "<ellipse fill=\"none\" stroke=\"black\" cx=\"285.896\" cy=\"-54.4481\" rx=\"18\" ry=\"18\"/>\r\n",
       "<ellipse fill=\"none\" stroke=\"black\" cx=\"285.896\" cy=\"-54.4481\" rx=\"22\" ry=\"22\"/>\r\n",
       "<text text-anchor=\"middle\" x=\"285.896\" y=\"-50.7481\" font-family=\"Times New Roman,serif\" font-size=\"14.00\">F</text>\r\n",
       "</g>\r\n",
       "<!-- A2&#45;&gt;F -->\r\n",
       "<g id=\"edge6\" class=\"edge\"><title>A2&#45;&gt;F</title>\r\n",
       "<path fill=\"none\" stroke=\"black\" d=\"M216.078,-76.234C227.483,-72.6235 242.087,-68.0001 254.906,-63.9421\"/>\r\n",
       "<polygon fill=\"black\" stroke=\"black\" points=\"256.231,-67.1939 264.708,-60.839 254.118,-60.5203 256.231,-67.1939\"/>\r\n",
       "<text text-anchor=\"middle\" x=\"240.396\" y=\"-74.2481\" font-family=\"Times New Roman,serif\" font-size=\"14.00\">1 </text>\r\n",
       "</g>\r\n",
       "<!-- A1&#45;&gt;F -->\r\n",
       "<g id=\"edge4\" class=\"edge\"><title>A1&#45;&gt;F</title>\r\n",
       "<path fill=\"none\" stroke=\"black\" d=\"M216.078,-28.7719C227.677,-33.0994 242.585,-38.6619 255.559,-43.5023\"/>\r\n",
       "<polygon fill=\"black\" stroke=\"black\" points=\"254.423,-46.8142 265.016,-47.0307 256.87,-40.2558 254.423,-46.8142\"/>\r\n",
       "<text text-anchor=\"middle\" x=\"240.396\" y=\"-43.2481\" font-family=\"Times New Roman,serif\" font-size=\"14.00\">0 </text>\r\n",
       "</g>\r\n",
       "</g>\r\n",
       "</svg>\r\n"
      ],
      "text/plain": [
       "<graphviz.dot.Digraph at 0x1aa9e003c48>"
      ]
     },
     "execution_count": 32,
     "metadata": {},
     "output_type": "execute_result"
    }
   ],
   "source": [
    "yaNFA = { 'Q': {'I','A1','A2','F'},\n",
    "          'Sigma': {'0', '1'},\n",
    "          'Delta': { # \n",
    "                     ('I', '0') : {'A1'},\n",
    "                     ('I', '') : {'A2'},\n",
    "                     #\n",
    "                     ('A1', '0') : {'F'},\n",
    "                     ('A2', '1') : {'I','F'},\n",
    "                   },\n",
    "          'Q0': {'I'}, \n",
    "          'F' : {'F'}   \n",
    "        }\n",
    "dotObj_nfa(yaNFA)"
   ]
  },
  {
   "cell_type": "markdown",
   "metadata": {},
   "source": [
    "A função de aceitação dada em cima sofre de uma limitação: não é fácil adaptá-la para devolver também, além do estado final, também o *caminho* percorrido, ou seja, a sequência de estados desde um dos estados iniciais até um dos estados finais.\n",
    "\n",
    "É possível usar uma abordagem alternativa que permite este cálculo, fazendo uma _travessia em profundidade_ do autómato. Pretende-se agora escrever uma função recursiva `accepts_df (N, q, s, path)` que, com início no estado `q`, faz uma travessia recursiva e devolve um par `(done, p)`, em que `done` é um Booleano que indica se a palavra `s` é aceite, e `p` é o caminho percorrido desde `s` até um estado final do autómato, caso a palavra seja aceite. \n",
    "\n",
    "Recorde que numa pesquisa em profundidade tradicional percorre-se todos os vértices adjacentes ao actual, iniciando-de recursivamente uma travessia em cada adjacente _que não tenha ainda sido visitado antes_.  Na função `accepts_df` pretende-se algo diferente:\n",
    "* por um lado, interessam apenas os adjacentes para os quais se transita consumindo o primeiro caracter da string; por exemplo no autómato acima se `q` for A2 e `s` começar por 0, não haverá nenhuma chamada recursiva. Mas se `s` começar por 1 haverá _duas_ chamadas, uma com início em F e outra com início em I\n",
    "* interessam também os adjacentes para os quais se transita pela palavra vazia, qualquer que seja o primeiro símbolo da palavra `s`. Por exemplo a partir de I, \n",
    "* por outro lado, não deve haver qualquer controlo dos visitados: pode-se passar várias vezes pelo mesmo estado. A garantia de terminação do algoritmo é dada pelo facto de a palavra ser finita\n",
    "\n",
    "Em conta que em cada invocação recursiva a palavra perderá o seu primeiro símbolo, que é consumido na transição, excepto se for uma transição pela palavra vazia. \n",
    "\n",
    "Caso uma chamada recursiva devolva `(True, p)` então a chamada actual devolverá  (`True` [s]+p). Em caso contrário devolverá `(False, [])`. \n",
    "\n",
    "Escreva esta função, e também uma função de topo `accepts_withpath (N, s)` que chama `accepts_df` com os estados iniciais do autómato. Teste esta função, nomeadamente como os seguinte exemplos. \n",
    " \n",
    " \n",
    " \n",
    "Analisámos a função, primeiramente, a função `accepts_df` que tem como base o anteriormente explicado. Nesse sentido existem vários casos ao nível desta função, onde os abordaremos pela ordem descrita na função:\n",
    "* **1.** No caso da palavra ser uma palavra vazia, indicará, possivelmente, que todos os símbolos da palavra já terão sido lidos. Assim, nesta fase, dado o critério de aceitação dos NFA ser por base em *final state*, se o estado em que se encontra a função for um estado final do autómato a função retornará o par (True, path), indicando verdade para a aceitação da palavra e o seu percurso até lá.\n",
    "\n",
    "\n",
    "* **2.** Uma das grandes características pertencentes aos NFA é a possibilidade da leitura da palavra vazia. Ora isto dando uma palavra à nossa função implicará desde já que nenhum símbolo da palavra seja contido e que se abram em alguns autómatos dois possíveis caminhos que possam levar à aceitação da palavra. Nesse sentido, tivemos de incluir na função esta possibilidade indicando-lhe que caso o caminho a partir da leitura da palavra vazia não leve a um estado final irá ser tentado o caminho a partir de um símbolo da palavra.\n",
    "\n",
    "    Desta forma, é isso então que fazemos, caso exista uma transição nas chaves da função de transição que inclua o estado do autómato e o primeiro símbolo da palavra e se existe uma transição que inclua o nosso estado atual e a palavra vazia, primeiramente iremos verificar se a aceitação da 2ª coordenada do tuplo (N, qn, s, path), que é o caminho incluí um estado final do autómato, onde qn é um dos valores associados à chave da função de transição. \n",
    "    \n",
    "    Caso se verifique a presença de um estado final, então iremos optar por este caminho chamando cada um dos valores da chave associado à transição do estado q mediante a leitura da palavra vazia e adicionando então este valor (que é um estado do autómato) ao nosso caminho. De seguida, aplicaremos então a recursividade chamando novamente a função, neste caso, a partir do novo estado, pela leitura da palavra já recebida, dado que a leitura da palavra vazia não leva ao consumo de nenhum símbolo, e a partir no nosso novo caminho. \n",
    "    \n",
    "    Caso não se verifique a presença de um estado final no caso anteriormente descrito, optaremos então por um possível caminho mediante a leitura do 1º símbolo da palavra. Desta forma, a cada valor associado ao par (q, s[0]), onde q é o estado onde nos encontrámos e s[0] o 1ª símbolo da palavra, iremos juntar esse valor, que é um novo estado, ao nosso caminho e desta forma prosseguir, chamando novamente a função para verificar a aceitação agora a partir do novo estado e da palavra execeto o seu 1ª símbolo dado que este foi agora mesmo consumido.\n",
    "    \n",
    "\n",
    "* **3.** No caso de não se verificar esta possibilidade de poderem existir dois caminhos, podemos simplesmente ter o caso onde o caminho passará pela leitura de símbolos. Claro que dado o alfabeto do autómato existirão vários símbolos, pelo que aqui importa é perceber se existe um caminho pela leitura do 1º símbolo da palavra. Caso haja esta transição para cada valor possível desta chave iremos então adicioná-lo ao nosso caminho. Posteriormente, chamaremos a função mas agora para verificar a aceitação a partir do novo estado e da palavra com a exceção do 1º símbolo dado que foi agora consumido. \n",
    "\n",
    "\n",
    "* **4.** Pode ainda existir o caso de a possibilidade de prosseguir seja mediante a leitura da palavra vazia. Nesse caso, signfica que existe um conjunto de estados associados a esta transição. Pelo que então para cada um deles iremos então adicioná-los ao nosso caminho e, de seguida, chamar, novamente, a função mas agora a partir do novo estado e de toda a palavra, dado que a leitura da palavra vazia, não implica o consumo de qualquer símbolo da palavra\n",
    "\n",
    "\n",
    "Assim, caso não se verifique qualquer transição a função retornará (False, []), indicando, assim, que a palavra não é aceite não existindo, então nenhum caminho. \n",
    "\n",
    "\n",
    "Relativamente, então, à função `accepts_withpath`, esta receberá um autómato e uma palavra. Assim, utilizaremos a função `accepts_df` esta que recebe um tuplo (N, q, s, path), onde:\n",
    "* N- corresponde ao autómato, já recebido;\n",
    "* q- cada um dos estados iniciais, dado que os NFA tem a possibilidade de ter mais do que um estado inicial.\n",
    "* s- corresponde à palavra, já recebida;\n",
    "* path- que será então uma lista que incluirá já o estado inicial pelo qual vamos partir e desenhar o nosso possível caminho que levará à possível aceitação de uma palavra.  \n",
    "    "
   ]
  },
  {
   "cell_type": "code",
   "execution_count": 33,
   "metadata": {},
   "outputs": [],
   "source": [
    "def accepts_df (N, q, s, path):\n",
    "    \n",
    "    if s == \"\" and q in N[\"F\"]:\n",
    "        return (True, path)  \n",
    "    \n",
    "    if s != \"\" and (q,s[0]) in N['Delta'].keys():\n",
    "        if (q,'') in N['Delta'].keys():\n",
    "            for (qn)  in N['Delta'][(q,\"\")] :\n",
    "                for i in N[\"F\"]:\n",
    "                    if i in accepts_df (N, qn, s, path) [1]:\n",
    "                        for (qn) in N['Delta'][(q,\"\")]:\n",
    "                            path =  path + [qn]\n",
    "                            return (accepts_df (N, qn, s, path))\n",
    "                            \n",
    "                    if i not in accepts_df (N, qn, s, path) [1]:\n",
    "                        for (qn) in N['Delta'][(q,s[0])]:\n",
    "                            path =  path + [qn]\n",
    "                            return accepts_df (N, qn, s[1:], path) \n",
    "    \n",
    "      \n",
    "        \n",
    "    if (q,'') in N['Delta'].keys():\n",
    "        for (qn)  in N['Delta'][(q,\"\")] :\n",
    "            path =  path + [qn]\n",
    "            return accepts_df (N, qn, s, path)\n",
    "        \n",
    "    if s != \"\" and (q,s[0]) in N['Delta'].keys():\n",
    "        for (qn) in N['Delta'][(q,s[0])]:\n",
    "            path =  path + [qn] \n",
    "            return accepts_df (N, qn, s[1:], path)  \n",
    "\n",
    "    return (False, [])"
   ]
  },
  {
   "cell_type": "code",
   "execution_count": 34,
   "metadata": {},
   "outputs": [],
   "source": [
    "def accepts_withpath (N, s):\n",
    "    \n",
    "    for i in N[\"Q0\"]:\n",
    "        return accepts_df (N, i, s, [i])\n",
    "    "
   ]
  },
  {
   "cell_type": "code",
   "execution_count": 35,
   "metadata": {},
   "outputs": [
    {
     "name": "stdout",
     "output_type": "stream",
     "text": [
      "(False, [])\n",
      "(False, [])\n",
      "(True, ['A0', 'A1', 'B0', 'B1', 'B2', 'F'])\n",
      "(False, [])\n",
      "(False, [])\n",
      "(False, [])\n",
      "(True, ['A0', 'A1', 'B0', 'B1', 'B2', 'F', 'B0', 'A0', 'A1', 'B0', 'B1', 'B2', 'F'])\n",
      "(True, ['I', 'S0', 'S1', 'S2', 'F'])\n",
      "(False, [])\n"
     ]
    }
   ],
   "source": [
    "# (False, [])\n",
    "print(accepts_withpath(NFA23, \"01\"))\n",
    "\n",
    "# (False, [])\n",
    "print(accepts_withpath(NFA23, \"00\"))\n",
    "\n",
    "# (True, ['A0', 'A1', 'B0', 'B1', 'B2', 'F'])\n",
    "print(accepts_withpath(NFA23, \"00111\"))\n",
    "\n",
    "# (False, [])\n",
    "print(accepts_withpath(NFA23, \"001110\"))\n",
    "\n",
    "# (False, [])\n",
    "print(accepts_withpath(NFA23, \"001111\"))\n",
    "\n",
    "# (False, [])\n",
    "print(accepts_withpath(NFA23, \"0011111\"))\n",
    "\n",
    "# (True, ['A0', 'A1', 'B0', 'B1', 'B2', 'F', 'B0', 'A0', 'A1', 'B0', 'B1', 'B2', 'F'])\n",
    "print(accepts_withpath(NFA23, \"0011100111\"))\n",
    "\n",
    "# (True, ['I', 'S0', 'S1', 'S2', 'F'])\n",
    "print(accepts_withpath(NFA_antep1b, \"111\"))\n",
    "\n",
    "# (True, ['I', 'S0', 'S1', 'F'])\n",
    "print(accepts_withpath(NFA_antep1a, \"111\"))\n",
    "\n"
   ]
  }
 ],
 "metadata": {
  "kernelspec": {
   "display_name": "Python 3",
   "language": "python",
   "name": "python3"
  },
  "language_info": {
   "codemirror_mode": {
    "name": "ipython",
    "version": 3
   },
   "file_extension": ".py",
   "mimetype": "text/x-python",
   "name": "python",
   "nbconvert_exporter": "python",
   "pygments_lexer": "ipython3",
   "version": "3.7.4"
  }
 },
 "nbformat": 4,
 "nbformat_minor": 2
}
